{
  "nbformat": 4,
  "nbformat_minor": 0,
  "metadata": {
    "colab": {
      "name": "Real Time NIDS",
      "provenance": [],
      "collapsed_sections": []
    },
    "kernelspec": {
      "name": "python3",
      "display_name": "Python 3"
    },
    "language_info": {
      "name": "python"
    },
    "accelerator": "GPU"
  },
  "cells": [
    {
      "cell_type": "code",
      "execution_count": null,
      "metadata": {
        "id": "Oa-sqPW3-PLL"
      },
      "outputs": [],
      "source": [
        "# module imports\n",
        "import numpy as np \n",
        "import pandas as pd  \n",
        "import math\n",
        "import matplotlib.pyplot as plt\n",
        "import seaborn as sns\n",
        "import itertools\n",
        "import random"
      ]
    },
    {
      "cell_type": "code",
      "source": [
        " # model imports\n",
        "from sklearn.ensemble import RandomForestClassifier\n",
        "from sklearn.neighbors import KNeighborsClassifier\n",
        "from sklearn.linear_model import LogisticRegression\n",
        "from sklearn.naive_bayes import GaussianNB\n",
        "from sklearn import svm\n",
        "\n",
        "# processing imports\n",
        "from sklearn.preprocessing import LabelEncoder\n",
        "from sklearn.model_selection import train_test_split\n",
        "from sklearn.model_selection import cross_val_score\n",
        "from sklearn.preprocessing import StandardScaler, MinMaxScaler\n",
        "from sklearn.feature_selection import SelectKBest\n",
        "from sklearn.feature_selection import chi2,f_classif\n",
        "from sklearn.feature_selection import RFECV\n",
        "from sklearn.metrics import mean_absolute_error\n",
        "from sklearn.metrics import accuracy_score\n",
        "from sklearn.metrics import confusion_matrix\n",
        "from sklearn.metrics import classification_report"
      ],
      "metadata": {
        "id": "U_Mg_bptfykc"
      },
      "execution_count": null,
      "outputs": []
    },
    {
      "cell_type": "code",
      "source": [
        "#Mounting google drive\n",
        "from google.colab import drive\n",
        "drive.mount('/content/drive')"
      ],
      "metadata": {
        "colab": {
          "base_uri": "https://localhost:8080/"
        },
        "id": "DwO7-ilPb9-K",
        "outputId": "dc2f44e7-2a93-4a43-a3ba-64bfd35bbb5c"
      },
      "execution_count": null,
      "outputs": [
        {
          "output_type": "stream",
          "name": "stdout",
          "text": [
            "Mounted at /content/drive\n"
          ]
        }
      ]
    },
    {
      "cell_type": "code",
      "source": [
        "#importing dataset\n",
        "day0_df = pd.read_csv('/content/drive/My Drive/day0_dataset.csv')\n",
        "train_df = pd.read_csv('/content/drive/My Drive/train_dataset.csv')\n",
        "test_df = pd.read_csv('/content/drive/My Drive/test_dataset.csv')"
      ],
      "metadata": {
        "id": "jPjxGGGKcMOa"
      },
      "execution_count": null,
      "outputs": []
    },
    {
      "cell_type": "code",
      "source": [
        "#dropping irrelevant columns\n",
        "\n",
        "day0_df.drop(['Unnamed: 0','No.','Time','delta'],axis = 1,inplace = True)\n",
        "train_df.drop(['Unnamed: 0','No.','Time','delta'],axis = 1,inplace = True)\n",
        "test_df.drop(['Unnamed: 0','No.','Time','delta'],axis = 1,inplace = True)"
      ],
      "metadata": {
        "id": "TrM9qWsUeQCW"
      },
      "execution_count": null,
      "outputs": []
    },
    {
      "cell_type": "code",
      "source": [
        "df = pd.concat([day0_df,train_df,test_df])\n",
        "df.head()"
      ],
      "metadata": {
        "id": "j9e8z84Qg4Ix",
        "colab": {
          "base_uri": "https://localhost:8080/",
          "height": 206
        },
        "outputId": "5d8c5aa9-1032-4c31-de4e-85e268a44598"
      },
      "execution_count": null,
      "outputs": [
        {
          "output_type": "execute_result",
          "data": {
            "text/plain": [
              "           Source     Destination Protocol  frame length  tcp len  src port  \\\n",
              "0     10.1.47.195  142.251.42.106  TLSv1.2            93     39.0     56824   \n",
              "1     10.1.47.195  142.251.42.106  TLSv1.2           433    379.0     56826   \n",
              "2  142.251.42.106     10.1.47.195      TCP            60      0.0       443   \n",
              "3  142.251.42.106     10.1.47.195      TCP            60      0.0       443   \n",
              "4  142.251.42.106     10.1.47.195  TLSv1.2           121     67.0       443   \n",
              "\n",
              "   dst port  Flags  window size  Sequence Number  attack  \n",
              "0       443     24          255                1       0  \n",
              "1       443     24          253                1       0  \n",
              "2     56826     16          557                1       0  \n",
              "3     56824     16          343                1       0  \n",
              "4     56826     24          557                1       0  "
            ],
            "text/html": [
              "\n",
              "  <div id=\"df-9f4676c1-d198-4978-95cd-27cfcb6dcb96\">\n",
              "    <div class=\"colab-df-container\">\n",
              "      <div>\n",
              "<style scoped>\n",
              "    .dataframe tbody tr th:only-of-type {\n",
              "        vertical-align: middle;\n",
              "    }\n",
              "\n",
              "    .dataframe tbody tr th {\n",
              "        vertical-align: top;\n",
              "    }\n",
              "\n",
              "    .dataframe thead th {\n",
              "        text-align: right;\n",
              "    }\n",
              "</style>\n",
              "<table border=\"1\" class=\"dataframe\">\n",
              "  <thead>\n",
              "    <tr style=\"text-align: right;\">\n",
              "      <th></th>\n",
              "      <th>Source</th>\n",
              "      <th>Destination</th>\n",
              "      <th>Protocol</th>\n",
              "      <th>frame length</th>\n",
              "      <th>tcp len</th>\n",
              "      <th>src port</th>\n",
              "      <th>dst port</th>\n",
              "      <th>Flags</th>\n",
              "      <th>window size</th>\n",
              "      <th>Sequence Number</th>\n",
              "      <th>attack</th>\n",
              "    </tr>\n",
              "  </thead>\n",
              "  <tbody>\n",
              "    <tr>\n",
              "      <th>0</th>\n",
              "      <td>10.1.47.195</td>\n",
              "      <td>142.251.42.106</td>\n",
              "      <td>TLSv1.2</td>\n",
              "      <td>93</td>\n",
              "      <td>39.0</td>\n",
              "      <td>56824</td>\n",
              "      <td>443</td>\n",
              "      <td>24</td>\n",
              "      <td>255</td>\n",
              "      <td>1</td>\n",
              "      <td>0</td>\n",
              "    </tr>\n",
              "    <tr>\n",
              "      <th>1</th>\n",
              "      <td>10.1.47.195</td>\n",
              "      <td>142.251.42.106</td>\n",
              "      <td>TLSv1.2</td>\n",
              "      <td>433</td>\n",
              "      <td>379.0</td>\n",
              "      <td>56826</td>\n",
              "      <td>443</td>\n",
              "      <td>24</td>\n",
              "      <td>253</td>\n",
              "      <td>1</td>\n",
              "      <td>0</td>\n",
              "    </tr>\n",
              "    <tr>\n",
              "      <th>2</th>\n",
              "      <td>142.251.42.106</td>\n",
              "      <td>10.1.47.195</td>\n",
              "      <td>TCP</td>\n",
              "      <td>60</td>\n",
              "      <td>0.0</td>\n",
              "      <td>443</td>\n",
              "      <td>56826</td>\n",
              "      <td>16</td>\n",
              "      <td>557</td>\n",
              "      <td>1</td>\n",
              "      <td>0</td>\n",
              "    </tr>\n",
              "    <tr>\n",
              "      <th>3</th>\n",
              "      <td>142.251.42.106</td>\n",
              "      <td>10.1.47.195</td>\n",
              "      <td>TCP</td>\n",
              "      <td>60</td>\n",
              "      <td>0.0</td>\n",
              "      <td>443</td>\n",
              "      <td>56824</td>\n",
              "      <td>16</td>\n",
              "      <td>343</td>\n",
              "      <td>1</td>\n",
              "      <td>0</td>\n",
              "    </tr>\n",
              "    <tr>\n",
              "      <th>4</th>\n",
              "      <td>142.251.42.106</td>\n",
              "      <td>10.1.47.195</td>\n",
              "      <td>TLSv1.2</td>\n",
              "      <td>121</td>\n",
              "      <td>67.0</td>\n",
              "      <td>443</td>\n",
              "      <td>56826</td>\n",
              "      <td>24</td>\n",
              "      <td>557</td>\n",
              "      <td>1</td>\n",
              "      <td>0</td>\n",
              "    </tr>\n",
              "  </tbody>\n",
              "</table>\n",
              "</div>\n",
              "      <button class=\"colab-df-convert\" onclick=\"convertToInteractive('df-9f4676c1-d198-4978-95cd-27cfcb6dcb96')\"\n",
              "              title=\"Convert this dataframe to an interactive table.\"\n",
              "              style=\"display:none;\">\n",
              "        \n",
              "  <svg xmlns=\"http://www.w3.org/2000/svg\" height=\"24px\"viewBox=\"0 0 24 24\"\n",
              "       width=\"24px\">\n",
              "    <path d=\"M0 0h24v24H0V0z\" fill=\"none\"/>\n",
              "    <path d=\"M18.56 5.44l.94 2.06.94-2.06 2.06-.94-2.06-.94-.94-2.06-.94 2.06-2.06.94zm-11 1L8.5 8.5l.94-2.06 2.06-.94-2.06-.94L8.5 2.5l-.94 2.06-2.06.94zm10 10l.94 2.06.94-2.06 2.06-.94-2.06-.94-.94-2.06-.94 2.06-2.06.94z\"/><path d=\"M17.41 7.96l-1.37-1.37c-.4-.4-.92-.59-1.43-.59-.52 0-1.04.2-1.43.59L10.3 9.45l-7.72 7.72c-.78.78-.78 2.05 0 2.83L4 21.41c.39.39.9.59 1.41.59.51 0 1.02-.2 1.41-.59l7.78-7.78 2.81-2.81c.8-.78.8-2.07 0-2.86zM5.41 20L4 18.59l7.72-7.72 1.47 1.35L5.41 20z\"/>\n",
              "  </svg>\n",
              "      </button>\n",
              "      \n",
              "  <style>\n",
              "    .colab-df-container {\n",
              "      display:flex;\n",
              "      flex-wrap:wrap;\n",
              "      gap: 12px;\n",
              "    }\n",
              "\n",
              "    .colab-df-convert {\n",
              "      background-color: #E8F0FE;\n",
              "      border: none;\n",
              "      border-radius: 50%;\n",
              "      cursor: pointer;\n",
              "      display: none;\n",
              "      fill: #1967D2;\n",
              "      height: 32px;\n",
              "      padding: 0 0 0 0;\n",
              "      width: 32px;\n",
              "    }\n",
              "\n",
              "    .colab-df-convert:hover {\n",
              "      background-color: #E2EBFA;\n",
              "      box-shadow: 0px 1px 2px rgba(60, 64, 67, 0.3), 0px 1px 3px 1px rgba(60, 64, 67, 0.15);\n",
              "      fill: #174EA6;\n",
              "    }\n",
              "\n",
              "    [theme=dark] .colab-df-convert {\n",
              "      background-color: #3B4455;\n",
              "      fill: #D2E3FC;\n",
              "    }\n",
              "\n",
              "    [theme=dark] .colab-df-convert:hover {\n",
              "      background-color: #434B5C;\n",
              "      box-shadow: 0px 1px 3px 1px rgba(0, 0, 0, 0.15);\n",
              "      filter: drop-shadow(0px 1px 2px rgba(0, 0, 0, 0.3));\n",
              "      fill: #FFFFFF;\n",
              "    }\n",
              "  </style>\n",
              "\n",
              "      <script>\n",
              "        const buttonEl =\n",
              "          document.querySelector('#df-9f4676c1-d198-4978-95cd-27cfcb6dcb96 button.colab-df-convert');\n",
              "        buttonEl.style.display =\n",
              "          google.colab.kernel.accessAllowed ? 'block' : 'none';\n",
              "\n",
              "        async function convertToInteractive(key) {\n",
              "          const element = document.querySelector('#df-9f4676c1-d198-4978-95cd-27cfcb6dcb96');\n",
              "          const dataTable =\n",
              "            await google.colab.kernel.invokeFunction('convertToInteractive',\n",
              "                                                     [key], {});\n",
              "          if (!dataTable) return;\n",
              "\n",
              "          const docLinkHtml = 'Like what you see? Visit the ' +\n",
              "            '<a target=\"_blank\" href=https://colab.research.google.com/notebooks/data_table.ipynb>data table notebook</a>'\n",
              "            + ' to learn more about interactive tables.';\n",
              "          element.innerHTML = '';\n",
              "          dataTable['output_type'] = 'display_data';\n",
              "          await google.colab.output.renderOutput(dataTable, element);\n",
              "          const docLink = document.createElement('div');\n",
              "          docLink.innerHTML = docLinkHtml;\n",
              "          element.appendChild(docLink);\n",
              "        }\n",
              "      </script>\n",
              "    </div>\n",
              "  </div>\n",
              "  "
            ]
          },
          "metadata": {},
          "execution_count": 6
        }
      ]
    },
    {
      "cell_type": "code",
      "source": [
        "print(df.shape)"
      ],
      "metadata": {
        "id": "EGuFqEhuh2IL",
        "colab": {
          "base_uri": "https://localhost:8080/"
        },
        "outputId": "d7ee9145-fbbe-46e2-bac3-cd9dc91393a5"
      },
      "execution_count": null,
      "outputs": [
        {
          "output_type": "stream",
          "name": "stdout",
          "text": [
            "(1241759, 11)\n"
          ]
        }
      ]
    },
    {
      "cell_type": "code",
      "source": [
        "df.info()"
      ],
      "metadata": {
        "id": "JavhErkdkIu5",
        "colab": {
          "base_uri": "https://localhost:8080/"
        },
        "outputId": "266a06a7-6477-4f10-93f9-ea7253fe596a"
      },
      "execution_count": null,
      "outputs": [
        {
          "output_type": "stream",
          "name": "stdout",
          "text": [
            "<class 'pandas.core.frame.DataFrame'>\n",
            "Int64Index: 1241759 entries, 0 to 312111\n",
            "Data columns (total 11 columns):\n",
            " #   Column           Non-Null Count    Dtype  \n",
            "---  ------           --------------    -----  \n",
            " 0   Source           1241759 non-null  object \n",
            " 1   Destination      1241759 non-null  object \n",
            " 2   Protocol         1241759 non-null  object \n",
            " 3   frame length     1241759 non-null  int64  \n",
            " 4   tcp len          1241759 non-null  float64\n",
            " 5   src port         1241759 non-null  int64  \n",
            " 6   dst port         1241759 non-null  int64  \n",
            " 7   Flags            1241759 non-null  int64  \n",
            " 8   window size      1241759 non-null  int64  \n",
            " 9   Sequence Number  1241759 non-null  int64  \n",
            " 10  attack           1241759 non-null  int64  \n",
            "dtypes: float64(1), int64(7), object(3)\n",
            "memory usage: 113.7+ MB\n"
          ]
        }
      ]
    },
    {
      "cell_type": "code",
      "source": [
        "#encoding categorical datatype\n",
        "\n",
        "print(df['Protocol'].unique())\n",
        "df['Protocol'].value_counts()"
      ],
      "metadata": {
        "id": "i_jPt9vukT-p",
        "colab": {
          "base_uri": "https://localhost:8080/"
        },
        "outputId": "c426e119-13c3-4482-84ed-6ca97f560080"
      },
      "execution_count": null,
      "outputs": [
        {
          "output_type": "stream",
          "name": "stdout",
          "text": [
            "['TLSv1.2' 'TCP' 'TLSv1.3' 'TLSv1' 'HTTP' 'HTTP/XML' 'STUN' 'SSL' 'OCSP'\n",
            " 'SSLv2' 'DNS' 'SMB' 'PKIX-CRL' 'IRC']\n"
          ]
        },
        {
          "output_type": "execute_result",
          "data": {
            "text/plain": [
              "TCP         1113129\n",
              "TLSv1.3       66272\n",
              "TLSv1.2       58810\n",
              "HTTP           2476\n",
              "TLSv1           949\n",
              "STUN             54\n",
              "HTTP/XML         21\n",
              "DNS              18\n",
              "SMB              14\n",
              "OCSP              6\n",
              "SSL               4\n",
              "IRC               3\n",
              "SSLv2             2\n",
              "PKIX-CRL          1\n",
              "Name: Protocol, dtype: int64"
            ]
          },
          "metadata": {},
          "execution_count": 9
        }
      ]
    },
    {
      "cell_type": "code",
      "source": [
        "df = df[(df.Protocol == 'TCP') | (df.Protocol == 'TLSv1.3') | (df.Protocol == 'TLSv1.2') | (df.Protocol == 'HTTP') | (df.Protocol == 'TLSv1')]"
      ],
      "metadata": {
        "id": "78-cW7V0p9PZ"
      },
      "execution_count": null,
      "outputs": []
    },
    {
      "cell_type": "code",
      "source": [
        "df.reset_index(drop = True,inplace = True)"
      ],
      "metadata": {
        "id": "xqXFixBDrkaz"
      },
      "execution_count": null,
      "outputs": []
    },
    {
      "cell_type": "code",
      "source": [
        "sns.countplot(x = df['attack']) #0: normal traffic, 1: attack traffic"
      ],
      "metadata": {
        "id": "6wX9aelarx8y",
        "colab": {
          "base_uri": "https://localhost:8080/",
          "height": 297
        },
        "outputId": "09343168-9ecc-489b-dac2-0fe6ba7bda60"
      },
      "execution_count": null,
      "outputs": [
        {
          "output_type": "execute_result",
          "data": {
            "text/plain": [
              "<matplotlib.axes._subplots.AxesSubplot at 0x7fe584192490>"
            ]
          },
          "metadata": {},
          "execution_count": 12
        },
        {
          "output_type": "display_data",
          "data": {
            "text/plain": [
              "<Figure size 432x288 with 1 Axes>"
            ],
            "image/png": "[encoded data removed]"
          },
          "metadata": {
            "needs_background": "light"
          }
        }
      ]
    },
    {
      "cell_type": "code",
      "source": [
        "df['Protocol'] = df['Protocol'].apply(lambda x: 43 if x == 'HTTP' else 6)"
      ],
      "metadata": {
        "id": "1tmMQQ8Sr_QE"
      },
      "execution_count": null,
      "outputs": []
    },
    {
      "cell_type": "code",
      "source": [
        "df['tcp len'] = df['tcp len'].astype(np.int64)"
      ],
      "metadata": {
        "id": "1GIADpD8sl55"
      },
      "execution_count": null,
      "outputs": []
    },
    {
      "cell_type": "code",
      "source": [
        "df.shape"
      ],
      "metadata": {
        "id": "RFNegbtxs2c4",
        "colab": {
          "base_uri": "https://localhost:8080/"
        },
        "outputId": "77820a72-3d6c-4534-aa33-d7c6ed9140f5"
      },
      "execution_count": null,
      "outputs": [
        {
          "output_type": "execute_result",
          "data": {
            "text/plain": [
              "(1241636, 11)"
            ]
          },
          "metadata": {},
          "execution_count": 15
        }
      ]
    },
    {
      "cell_type": "code",
      "source": [
        "# n = 10000  #chunk row size\n",
        "n = 3000\n",
        "# n = 20000\n",
        "list_df = [df[i:i+n] for i in range(0,df.shape[0],n)]"
      ],
      "metadata": {
        "id": "Fu4FyfZQtGcR"
      },
      "execution_count": null,
      "outputs": []
    },
    {
      "cell_type": "code",
      "source": [
        "len_df = len(list_df)\n",
        "len_df"
      ],
      "metadata": {
        "id": "UH2YGxDftMas",
        "colab": {
          "base_uri": "https://localhost:8080/"
        },
        "outputId": "b7cfc9ed-93c3-4545-9673-b361106c5d10"
      },
      "execution_count": null,
      "outputs": [
        {
          "output_type": "execute_result",
          "data": {
            "text/plain": [
              "414"
            ]
          },
          "metadata": {},
          "execution_count": 40
        }
      ]
    },
    {
      "cell_type": "code",
      "source": [
        "df_arr = np.array(list_df, dtype = 'object')\n",
        "df_arr.shape"
      ],
      "metadata": {
        "id": "ozGAROmitODd",
        "colab": {
          "base_uri": "https://localhost:8080/"
        },
        "outputId": "1e6e77a4-5a3a-494f-a9e7-3e0871a46b5e"
      },
      "execution_count": null,
      "outputs": [
        {
          "output_type": "execute_result",
          "data": {
            "text/plain": [
              "(414,)"
            ]
          },
          "metadata": {},
          "execution_count": 41
        }
      ]
    },
    {
      "cell_type": "code",
      "source": [
        "frames = []  #n = 3000\n",
        "for i in range(1,21):\n",
        "  frames.append(df_arr[i])\n",
        "\n",
        "for i in range(230,250):\n",
        "  frames.append(df_arr[i])\n",
        "train_frames = pd.concat(frames)"
      ],
      "metadata": {
        "id": "eW8Lol8VtXQJ"
      },
      "execution_count": null,
      "outputs": []
    },
    {
      "cell_type": "code",
      "source": [
        "train_frames.attack.value_counts()"
      ],
      "metadata": {
        "id": "wSfat_W2z4CP",
        "colab": {
          "base_uri": "https://localhost:8080/"
        },
        "outputId": "7b36c556-4d65-434e-9ed5-5a0d2bd932bc"
      },
      "execution_count": null,
      "outputs": [
        {
          "output_type": "execute_result",
          "data": {
            "text/plain": [
              "0    60760\n",
              "1    59240\n",
              "Name: attack, dtype: int64"
            ]
          },
          "metadata": {},
          "execution_count": 43
        }
      ]
    },
    {
      "cell_type": "code",
      "source": [
        "x_train = train_frames.iloc[:, 2:10]\n",
        "y_train = train_frames.iloc[:, 10]"
      ],
      "metadata": {
        "id": "uQdHJaLmuN-a"
      },
      "execution_count": null,
      "outputs": []
    },
    {
      "cell_type": "code",
      "source": [
        "df_arr[370].attack.value_counts()"
      ],
      "metadata": {
        "colab": {
          "base_uri": "https://localhost:8080/"
        },
        "id": "d5X7B-LNBf_s",
        "outputId": "0b544015-c393-44ed-9a39-9107427142a7"
      },
      "execution_count": null,
      "outputs": [
        {
          "output_type": "execute_result",
          "data": {
            "text/plain": [
              "1    2974\n",
              "0      26\n",
              "Name: attack, dtype: int64"
            ]
          },
          "metadata": {},
          "execution_count": 48
        }
      ]
    },
    {
      "cell_type": "code",
      "source": [
        "test_frames = pd.concat([df_arr[1],df_arr[2],df_arr[3],df_arr[4],df_arr[5],df_arr[370],df_arr[371],df_arr[372],df_arr[373],df_arr[374]])\n",
        "x_test = test_frames.iloc[:,2:10]\n",
        "y_test = test_frames.iloc[:, 10]"
      ],
      "metadata": {
        "id": "w1NTAehy0YNn"
      },
      "execution_count": null,
      "outputs": []
    },
    {
      "cell_type": "code",
      "source": [
        "print(x_train.shape[0])\n",
        "print(x_test.shape[0])"
      ],
      "metadata": {
        "id": "LIWtmOf--7O6",
        "colab": {
          "base_uri": "https://localhost:8080/"
        },
        "outputId": "71977e72-cded-47f9-8b7c-4da5a6908bc3"
      },
      "execution_count": null,
      "outputs": [
        {
          "output_type": "stream",
          "name": "stdout",
          "text": [
            "120000\n",
            "30000\n"
          ]
        }
      ]
    },
    {
      "cell_type": "code",
      "source": [
        "#Function to calculate Hellinger distance between two probability distributions\n",
        "def hellinger(p, q):\n",
        "  dis = math.sqrt(sum(\n",
        "      [(math.sqrt(p_i) - math.sqrt(q_i))**2 for p_i, q_i in zip(p, q)]\n",
        "      )/2)\n",
        "  return dis"
      ],
      "metadata": {
        "id": "9NB9OPeCua79"
      },
      "execution_count": null,
      "outputs": []
    },
    {
      "cell_type": "code",
      "source": [
        "##Function to get average probability distribution from a batch of probability distibutions \n",
        "def getProba(index, model, n):\n",
        "  x_test = df_arr[index].iloc[:, 2:10]\n",
        "  proba = model.predict_proba(x_test)\n",
        "  t = [0, 0]\n",
        "  for i in range(x_test.shape[0]):\n",
        "    t[0]+=proba[i][0]\n",
        "    t[1]+=proba[i][1]\n",
        "\n",
        "  t[0]/=n\n",
        "  t[1]/=n\n",
        "  return t"
      ],
      "metadata": {
        "id": "uYvKFB0LukQs"
      },
      "execution_count": null,
      "outputs": []
    },
    {
      "cell_type": "code",
      "source": [
        "\n",
        "##Calculating Hellinger distance between the probability distribution of the training set and other batches\n",
        "##input : model (Trained model on a classification ML algorithm)\n",
        "##output : Hellinger distance between the training set and other remaining sets \n",
        "def hellingerForAll(model,n) :\n",
        "  model_proba = getProba(0, model, n)\n",
        "  dist = []\n",
        "  for i in range(1, len_df):\n",
        "    y_pred = getProba(i, model, n)\n",
        "    dist.append(hellinger(model_proba, y_pred))\n",
        "  return dist"
      ],
      "metadata": {
        "id": "8rfYK_VTul4m"
      },
      "execution_count": null,
      "outputs": []
    },
    {
      "cell_type": "code",
      "source": [
        "##Function to plot scatter plot \n",
        "##input : dist (A list containing the Hellinger distances of the different sets)\n",
        "##        title (Title of Graph, a string)\n",
        "def plotGraph(dist, title): \n",
        "  y = dist\n",
        "  x = [i for i in range(1, len_df)]\n",
        "  plt.scatter(x, y, label= \"stars\", color= \"red\",\n",
        "              marker= \"*\", s=30)\n",
        "\n",
        "  plt.xlabel('Batch number')\n",
        "  plt.ylabel('Hellinger Distance')\n",
        "  plt.title(title)\n",
        "  plt.show()"
      ],
      "metadata": {
        "id": "KuuOmLPBuncQ"
      },
      "execution_count": null,
      "outputs": []
    },
    {
      "cell_type": "code",
      "source": [
        "##Using Logistic Regression\n",
        "lr_model = LogisticRegression(max_iter = 1000)\n",
        "lr_model.fit(x_train, y_train)"
      ],
      "metadata": {
        "id": "t6_Jiw0gupif",
        "colab": {
          "base_uri": "https://localhost:8080/"
        },
        "outputId": "842e0101-920e-4124-e72a-8e78dee470cf"
      },
      "execution_count": null,
      "outputs": [
        {
          "output_type": "execute_result",
          "data": {
            "text/plain": [
              "LogisticRegression(max_iter=1000)"
            ]
          },
          "metadata": {},
          "execution_count": 55
        }
      ]
    },
    {
      "cell_type": "code",
      "source": [
        "##Calculating Hellinger distance between the probability distribution of the training set and other batches\n",
        "hellinger_dist_lr = hellingerForAll(lr_model, n)\n",
        "hellinger_dist_lr"
      ],
      "metadata": {
        "id": "7A40yw3burpU",
        "colab": {
          "base_uri": "https://localhost:8080/"
        },
        "outputId": "4b1152f6-e9fb-45f7-e326-53dbafe69e4d"
      },
      "execution_count": null,
      "outputs": [
        {
          "output_type": "execute_result",
          "data": {
            "text/plain": [
              "[0.0806312949902133,\n",
              " 0.10005848593766464,\n",
              " 0.11137010594367672,\n",
              " 0.10920889525045024,\n",
              " 0.10163279837355187,\n",
              " 0.07314523867970632,\n",
              " 0.0786778466505254,\n",
              " 0.066699781070062,\n",
              " 0.08249927916139388,\n",
              " 0.04185717822030868,\n",
              " 0.08261374990042605,\n",
              " 0.11000244566270997,\n",
              " 0.11419531695834678,\n",
              " 0.10035742694283918,\n",
              " 0.14577137916981256,\n",
              " 0.0898941360233832,\n",
              " 0.09137402746077831,\n",
              " 0.13418464734288488,\n",
              " 0.13282167618073404,\n",
              " 0.10340484955599905,\n",
              " 0.10363722419432782,\n",
              " 0.08551450555016925,\n",
              " 0.10458669081807007,\n",
              " 0.10985847172181153,\n",
              " 0.09072865087398592,\n",
              " 0.09544006649992093,\n",
              " 0.1331424640578565,\n",
              " 0.10905152977627101,\n",
              " 0.08150093253839423,\n",
              " 0.11897488792873201,\n",
              " 0.1118397790707351,\n",
              " 0.10888146765828091,\n",
              " 0.09735874539117059,\n",
              " 0.11674702706653241,\n",
              " 0.10239636002465917,\n",
              " 0.10873568442115432,\n",
              " 0.10709753931385611,\n",
              " 0.10289802794971926,\n",
              " 0.08477174801233044,\n",
              " 0.13509574109401232,\n",
              " 0.09963480660005226,\n",
              " 0.10108859318358625,\n",
              " 0.1106532837601773,\n",
              " 0.11021192581099132,\n",
              " 0.09004282928728935,\n",
              " 0.08949347553563716,\n",
              " 0.10608173576529858,\n",
              " 0.1645186416128498,\n",
              " 0.18197075209429686,\n",
              " 0.10211445935846229,\n",
              " 0.0873603844514581,\n",
              " 0.1447109256935167,\n",
              " 0.18197075209429686,\n",
              " 0.15734228066653785,\n",
              " 0.16456415222272786,\n",
              " 0.18197075209429686,\n",
              " 0.14300309131344327,\n",
              " 0.09563890955121002,\n",
              " 0.09128431976610289,\n",
              " 0.1154680815663862,\n",
              " 0.09074781766283072,\n",
              " 0.1059708777344869,\n",
              " 0.10612790709691622,\n",
              " 0.11510747846182355,\n",
              " 0.116781103207601,\n",
              " 0.1239686789049265,\n",
              " 0.11707197991203142,\n",
              " 0.03507213245080141,\n",
              " 0.08601906692063079,\n",
              " 0.10207453942465802,\n",
              " 0.10696969336792052,\n",
              " 0.10590269414584572,\n",
              " 0.10397013598024547,\n",
              " 0.12602509073709803,\n",
              " 0.10293038834603321,\n",
              " 0.14190325046201446,\n",
              " 0.11594703541898421,\n",
              " 0.11160308165859681,\n",
              " 0.10950975723241511,\n",
              " 0.12704290067604174,\n",
              " 0.13302243795072644,\n",
              " 0.1426191904071043,\n",
              " 0.1701463228069839,\n",
              " 0.16021729598183443,\n",
              " 0.12927576465396676,\n",
              " 0.09392205691585723,\n",
              " 0.08044868914402489,\n",
              " 0.14857847494441986,\n",
              " 0.18197075209429686,\n",
              " 0.16515356829748462,\n",
              " 0.15067702349065518,\n",
              " 0.1333980335848332,\n",
              " 0.15840143021598382,\n",
              " 0.1614493277738661,\n",
              " 0.16531527348269698,\n",
              " 0.14780656165097825,\n",
              " 0.1819707484959825,\n",
              " 0.165184541378267,\n",
              " 0.12664527949280555,\n",
              " 0.1264150506901975,\n",
              " 0.15780255076294378,\n",
              " 0.1530772850394525,\n",
              " 0.16384842884696746,\n",
              " 0.14840704208688393,\n",
              " 0.14628587357306772,\n",
              " 0.14272753025160467,\n",
              " 0.18197075209429686,\n",
              " 0.1439797176088546,\n",
              " 0.17004205807347167,\n",
              " 0.15321722998117868,\n",
              " 0.12606335911774938,\n",
              " 0.10492038695421678,\n",
              " 0.07678773726865826,\n",
              " 0.12487508364057712,\n",
              " 0.15561341479257337,\n",
              " 0.14085251076053176,\n",
              " 0.13510776351480497,\n",
              " 0.14856555051052878,\n",
              " 0.18197037652916684,\n",
              " 0.17012694995763483,\n",
              " 0.18197075209429686,\n",
              " 0.16384842884696746,\n",
              " 0.16168176692698566,\n",
              " 0.18197074875671887,\n",
              " 0.16168571728151104,\n",
              " 0.17033259998465486,\n",
              " 0.12868751734452985,\n",
              " 0.17033720887790357,\n",
              " 0.1701386767236725,\n",
              " 0.16384842884696746,\n",
              " 0.1703399592411268,\n",
              " 0.1510929664643508,\n",
              " 0.14661858186758517,\n",
              " 0.170345363753545,\n",
              " 0.18197075209429686,\n",
              " 0.17014721805487318,\n",
              " 0.18197075209429686,\n",
              " 0.16032709964379105,\n",
              " 0.18197075209429686,\n",
              " 0.15000843908383996,\n",
              " 0.18197075209429686,\n",
              " 0.16356986058602183,\n",
              " 0.16172511485938523,\n",
              " 0.18197075209429686,\n",
              " 0.1617288832429491,\n",
              " 0.15469025527695174,\n",
              " 0.08978845287693063,\n",
              " 0.07381042845688593,\n",
              " 0.06500100625999554,\n",
              " 0.0660605553789743,\n",
              " 0.0716836050903367,\n",
              " 0.07835626610850398,\n",
              " 0.5817222919671711,\n",
              " 0.8184493825496849,\n",
              " 0.7805712866657615,\n",
              " 0.7406986762215694,\n",
              " 0.6984423416127237,\n",
              " 0.8124103718830794,\n",
              " 0.8429183314311165,\n",
              " 0.8269423593830721,\n",
              " 0.7961883677194249,\n",
              " 0.7644853087394747,\n",
              " 0.725289812139889,\n",
              " 0.684197207927726,\n",
              " 0.7758087215744417,\n",
              " 0.5076248349760767,\n",
              " 0.7797111846857553,\n",
              " 0.781685705017449,\n",
              " 0.7816759257502995,\n",
              " 0.783215069139049,\n",
              " 0.7839048238398573,\n",
              " 0.7831690922440695,\n",
              " 0.7837818799918659,\n",
              " 0.7841150301587856,\n",
              " 0.7849695712780429,\n",
              " 0.7837336069827914,\n",
              " 0.7846277517943299,\n",
              " 0.782987049472438,\n",
              " 0.7871846275583473,\n",
              " 0.786615934942567,\n",
              " 0.7846499866710157,\n",
              " 0.7883245822687092,\n",
              " 0.7886164664947174,\n",
              " 0.7873044895162781,\n",
              " 0.7886902939792894,\n",
              " 0.7834655878459672,\n",
              " 0.7884635823852523,\n",
              " 0.7872738610882338,\n",
              " 0.7853586493501326,\n",
              " 0.7846757325143825,\n",
              " 0.7870384215091069,\n",
              " 0.7865488228394827,\n",
              " 0.785300920559887,\n",
              " 0.7813843473759187,\n",
              " 0.7829414989515666,\n",
              " 0.7783686134015847,\n",
              " 0.7784455895893101,\n",
              " 0.777142375039274,\n",
              " 0.8002697663035817,\n",
              " 0.8243771892675335,\n",
              " 0.8193705204985001,\n",
              " 0.8158533322129881,\n",
              " 0.8052887596558137,\n",
              " 0.7911639010938398,\n",
              " 0.7820377804692858,\n",
              " 0.7743712894753874,\n",
              " 0.765993997880619,\n",
              " 0.7637025865215946,\n",
              " 0.7527163742338462,\n",
              " 0.7449237141592955,\n",
              " 0.7354646395406959,\n",
              " 0.7242927205989512,\n",
              " 0.7154542391448754,\n",
              " 0.7177756008549376,\n",
              " 0.7214269611288096,\n",
              " 0.7226569780871537,\n",
              " 0.7165532038226592,\n",
              " 0.6811488051750633,\n",
              " 0.6762963577365119,\n",
              " 0.6574294653682154,\n",
              " 0.6699615450237197,\n",
              " 0.6908600566282896,\n",
              " 0.711902716626066,\n",
              " 0.76131682754697,\n",
              " 0.7807284195986451,\n",
              " 0.7737686557968865,\n",
              " 0.7727636379666809,\n",
              " 0.7809373780338891,\n",
              " 0.7057706346705478,\n",
              " 0.7666486642283431,\n",
              " 0.7799544351250385,\n",
              " 0.7681223545859306,\n",
              " 0.7708817309131591,\n",
              " 0.7434955356239686,\n",
              " 0.768475492068561,\n",
              " 0.7773184984584343,\n",
              " 0.7837023810995618,\n",
              " 0.7865780142559876,\n",
              " 0.7882483961837138,\n",
              " 0.7808300416498638,\n",
              " 0.7839503893173937,\n",
              " 0.7795554292898312,\n",
              " 0.7855143276923782,\n",
              " 0.7837576002285159,\n",
              " 0.7921840961724682,\n",
              " 0.6079101872771756,\n",
              " 0.8060651799081638,\n",
              " 0.7488000033876195,\n",
              " 0.8577759641330283,\n",
              " 0.846571966606888,\n",
              " 0.8481365901315714,\n",
              " 0.8474837558395688,\n",
              " 0.8332320853747975,\n",
              " 0.7882697926697996,\n",
              " 0.8287692938981202,\n",
              " 0.8028144557432357,\n",
              " 0.8399421842703442,\n",
              " 0.7794997175215918,\n",
              " 0.5673471257351547,\n",
              " 0.8563617496096452,\n",
              " 0.8513838487207966,\n",
              " 0.8390530621274007,\n",
              " 0.8221219897494123,\n",
              " 0.7962277331447443,\n",
              " 0.7722203712280142,\n",
              " 0.734067656589099,\n",
              " 0.5869613140968025,\n",
              " 0.0886194864044936,\n",
              " 0.0690054160140328,\n",
              " 0.8218184798710697,\n",
              " 0.817776805177402,\n",
              " 0.7682663018869057,\n",
              " 0.7989256178708103,\n",
              " 0.7310421109958366,\n",
              " 0.7299625826574264,\n",
              " 0.7076680688951562,\n",
              " 0.3795772009485279,\n",
              " 0.842050679209028,\n",
              " 0.8118845212156965,\n",
              " 0.8073361821232166,\n",
              " 0.8157484151555937,\n",
              " 0.7746547106920358,\n",
              " 0.7125983386114398,\n",
              " 0.7218254804462886,\n",
              " 0.8450253652543849,\n",
              " 0.8421023080986458,\n",
              " 0.8271706306746706,\n",
              " 0.816497783684452,\n",
              " 0.7842350074130503,\n",
              " 0.7491720492149285,\n",
              " 0.697603675048706,\n",
              " 0.20876695086157881,\n",
              " 0.8066075197997933,\n",
              " 0.8105099514952395,\n",
              " 0.8101905060552369,\n",
              " 0.7570078406428837,\n",
              " 0.7905630385972164,\n",
              " 0.7696434414130605,\n",
              " 0.8086927608993604,\n",
              " 0.843543313967037,\n",
              " 0.7863139245003848,\n",
              " 0.5557153522734866,\n",
              " 0.8322311748303364,\n",
              " 0.8253892906967729,\n",
              " 0.8178962940254817,\n",
              " 0.7997800232201482,\n",
              " 0.7696552624144951,\n",
              " 0.7311152623059873,\n",
              " 0.5548434278002504,\n",
              " 0.04209226774897078,\n",
              " 0.07471079802616962,\n",
              " 0.12592405589464103,\n",
              " 0.11675980060998628,\n",
              " 0.12658028098462637,\n",
              " 0.10036286882953244,\n",
              " 0.1078892876000109,\n",
              " 0.09018908566403344,\n",
              " 0.10588672229765517,\n",
              " 0.12199201552986243,\n",
              " 0.052421587284713966,\n",
              " 0.08544470238160885,\n",
              " 0.10256193593406708,\n",
              " 0.08816835117447112,\n",
              " 0.09131193411094547,\n",
              " 0.10045432152309075,\n",
              " 0.10337422594829827,\n",
              " 0.12160927798825995,\n",
              " 0.13876154951206568,\n",
              " 0.8630143564859163,\n",
              " 0.8630143564859163,\n",
              " 0.8484774343427838,\n",
              " 0.8630143564859163,\n",
              " 0.7105263792584753,\n",
              " 0.7436060905771495,\n",
              " 0.8418642128945226,\n",
              " 0.820523339654506,\n",
              " 0.7918696660942286,\n",
              " 0.7489691801904433,\n",
              " 0.702803644495467,\n",
              " 0.648608147126241,\n",
              " 0.8544065049226672,\n",
              " 0.8455434821497602,\n",
              " 0.7879783896641337,\n",
              " 0.8138431154374506,\n",
              " 0.7790325880806934,\n",
              " 0.7356824807963586,\n",
              " 0.6677682603004725,\n",
              " 0.7849673181006666,\n",
              " 0.781550115057649,\n",
              " 0.7826174762880955,\n",
              " 0.7835872135865051,\n",
              " 0.7869610242648875,\n",
              " 0.7873260583651899,\n",
              " 0.7883155026823361,\n",
              " 0.7885961525009814,\n",
              " 0.7903220163149476,\n",
              " 0.79161943329881,\n",
              " 0.7894816124971155,\n",
              " 0.793648606397297,\n",
              " 0.7105949780741472,\n",
              " 0.8310946235115293,\n",
              " 0.8112724035380322,\n",
              " 0.7555280989786829,\n",
              " 0.761370728621493,\n",
              " 0.8428043474471489,\n",
              " 0.8488601316679589,\n",
              " 0.7946063660108641,\n",
              " 0.7812515361161964,\n",
              " 0.7773609413702884,\n",
              " 0.7748187797665052,\n",
              " 0.42094700795487383,\n",
              " 0.8295357589232604,\n",
              " 0.7812291759075592,\n",
              " 0.7162967134439282,\n",
              " 0.7881261375467373,\n",
              " 0.8311444455622646,\n",
              " 0.8093359451760813,\n",
              " 0.851194731738102,\n",
              " 0.8214684633611545,\n",
              " 0.7868315599592081,\n",
              " 0.7407810208968443,\n",
              " 0.6333166049471546,\n",
              " 0.7661998524428412,\n",
              " 0.7470999413294633,\n",
              " 0.7710815712578178,\n",
              " 0.7526338289748519,\n",
              " 0.7824036931235918,\n",
              " 0.7988766694744,\n",
              " 0.819051740762251,\n",
              " 0.8162612886380255,\n",
              " 0.780692942927373,\n",
              " 0.7449710008040356,\n",
              " 0.751368212796299,\n",
              " 0.8221177650612191,\n",
              " 0.8390731302880395,\n",
              " 0.8347884417528143,\n",
              " 0.7593280503062866,\n",
              " 0.7828138867957076,\n",
              " 0.7766511476019071,\n",
              " 0.7961485144885618,\n",
              " 0.7678415512194325,\n",
              " 0.7583669853036384,\n",
              " 0.8424972812795306,\n",
              " 0.8369430306898029,\n",
              " 0.8214460684740995,\n",
              " 0.7095612490906649,\n",
              " 0.7828267847386897,\n",
              " 0.838303288347447,\n",
              " 0.7942604547912941,\n",
              " 0.766241567070387,\n",
              " 0.7530533516339425,\n",
              " 0.7895413927071916,\n",
              " 0.6831656975832523]"
            ]
          },
          "metadata": {},
          "execution_count": 56
        }
      ]
    },
    {
      "cell_type": "code",
      "source": [
        "plotGraph(hellinger_dist_lr, 'Hellinger Distance using Logistic Regression')"
      ],
      "metadata": {
        "id": "_1MLUKkFute7",
        "colab": {
          "base_uri": "https://localhost:8080/",
          "height": 295
        },
        "outputId": "2fbfb00d-19ad-4e34-8118-2bc73f351d1d"
      },
      "execution_count": null,
      "outputs": [
        {
          "output_type": "display_data",
          "data": {
            "text/plain": [
              "<Figure size 432x288 with 1 Axes>"
            ],
            "image/png": "[encoded data removed]"
          },
          "metadata": {
            "needs_background": "light"
          }
        }
      ]
    },
    {
      "cell_type": "code",
      "source": [
        "y_pred = lr_model.predict(x_test)\n",
        "print(accuracy_score(y_test, y_pred))"
      ],
      "metadata": {
        "id": "WDpbFyMR3buF",
        "colab": {
          "base_uri": "https://localhost:8080/"
        },
        "outputId": "cf22dedb-c392-431a-d5fc-b958d0393d2e"
      },
      "execution_count": null,
      "outputs": [
        {
          "output_type": "stream",
          "name": "stdout",
          "text": [
            "0.9897333333333334\n"
          ]
        }
      ]
    },
    {
      "cell_type": "code",
      "source": [
        "print(classification_report(y_test, y_pred))"
      ],
      "metadata": {
        "id": "6vgvGG4Q3mGh",
        "colab": {
          "base_uri": "https://localhost:8080/"
        },
        "outputId": "b4d5140a-9526-4750-bed9-09d3025392d7"
      },
      "execution_count": null,
      "outputs": [
        {
          "output_type": "stream",
          "name": "stdout",
          "text": [
            "              precision    recall  f1-score   support\n",
            "\n",
            "           0       1.00      0.98      0.99     16364\n",
            "           1       0.98      1.00      0.99     13636\n",
            "\n",
            "    accuracy                           0.99     30000\n",
            "   macro avg       0.99      0.99      0.99     30000\n",
            "weighted avg       0.99      0.99      0.99     30000\n",
            "\n"
          ]
        }
      ]
    },
    {
      "cell_type": "code",
      "source": [
        "svm_model = svm.SVC(probability=True)\n",
        "svm_model.fit(x_train, y_train)"
      ],
      "metadata": {
        "id": "gUZn2r4tvFt8",
        "colab": {
          "base_uri": "https://localhost:8080/"
        },
        "outputId": "99c2f237-87ce-43fd-90f2-0b80d0456d88"
      },
      "execution_count": null,
      "outputs": [
        {
          "output_type": "execute_result",
          "data": {
            "text/plain": [
              "SVC(probability=True)"
            ]
          },
          "metadata": {},
          "execution_count": 60
        }
      ]
    },
    {
      "cell_type": "code",
      "source": [
        "hellinger_dist_svm = hellingerForAll(svm_model,n)\n",
        "hellinger_dist_svm"
      ],
      "metadata": {
        "id": "_4ZDlRrpwlaN",
        "colab": {
          "base_uri": "https://localhost:8080/"
        },
        "outputId": "a6ae6fff-2d85-419d-a368-093a9a7f28bc"
      },
      "execution_count": null,
      "outputs": [
        {
          "output_type": "execute_result",
          "data": {
            "text/plain": [
              "[0.15790421654446238,\n",
              " 0.24346673720314205,\n",
              " 0.2587704594393879,\n",
              " 0.26209069164422766,\n",
              " 0.2512058498020689,\n",
              " 0.1987161148626261,\n",
              " 0.23504663734898187,\n",
              " 0.2324710971355854,\n",
              " 0.24690651511918169,\n",
              " 0.2235789080500907,\n",
              " 0.26599198936889845,\n",
              " 0.27024953278999525,\n",
              " 0.2780367971983346,\n",
              " 0.26875179531024784,\n",
              " 0.3376969067052148,\n",
              " 0.24922848635387923,\n",
              " 0.2911561943008265,\n",
              " 0.30243896888605054,\n",
              " 0.29182698058536594,\n",
              " 0.27692073994292926,\n",
              " 0.29543599036322027,\n",
              " 0.2648703162698093,\n",
              " 0.30185417621030025,\n",
              " 0.2793511445289883,\n",
              " 0.29407536000294493,\n",
              " 0.2767445236702058,\n",
              " 0.24920538063887246,\n",
              " 0.2826220606256618,\n",
              " 0.2960718268290178,\n",
              " 0.3182521797473068,\n",
              " 0.32368379218037646,\n",
              " 0.3015360947418501,\n",
              " 0.30045025363207034,\n",
              " 0.3137692114412258,\n",
              " 0.3152281771299523,\n",
              " 0.3000104835990634,\n",
              " 0.2743855997039628,\n",
              " 0.2949305653168837,\n",
              " 0.2768157126448691,\n",
              " 0.31585219346920895,\n",
              " 0.3240543805106132,\n",
              " 0.3003615093103873,\n",
              " 0.2995280928149335,\n",
              " 0.2958757856121712,\n",
              " 0.32070821755312257,\n",
              " 0.30534830884688535,\n",
              " 0.3137512042986574,\n",
              " 0.3616372714153417,\n",
              " 0.36979449071059084,\n",
              " 0.29673555497875687,\n",
              " 0.29286794083810147,\n",
              " 0.3478750866710281,\n",
              " 0.3337808434964565,\n",
              " 0.3473167611217621,\n",
              " 0.35054132900438,\n",
              " 0.3682612290346199,\n",
              " 0.34491176133318957,\n",
              " 0.2928536751748663,\n",
              " 0.30105222303594226,\n",
              " 0.2818320221690445,\n",
              " 0.3033010111188153,\n",
              " 0.3090713952468336,\n",
              " 0.3022833948024045,\n",
              " 0.2859855466963165,\n",
              " 0.2961121317643558,\n",
              " 0.30884732634927514,\n",
              " 0.2898123020621926,\n",
              " 0.014790597011100446,\n",
              " 0.044451197693737676,\n",
              " 0.02171934373412468,\n",
              " 0.031936181677086235,\n",
              " 0.029096797342630744,\n",
              " 0.012961008865543243,\n",
              " 0.03032890611206433,\n",
              " 0.09433592758484598,\n",
              " 0.06975429560167563,\n",
              " 0.06949408645605631,\n",
              " 0.10314700768983756,\n",
              " 0.13193949172715277,\n",
              " 0.15258015511335915,\n",
              " 0.19643438648990835,\n",
              " 0.24299838973630417,\n",
              " 0.2804416501290368,\n",
              " 0.31354479952910164,\n",
              " 0.22186921645266572,\n",
              " 0.18629726042318298,\n",
              " 0.09505471264276384,\n",
              " 0.2633740465659093,\n",
              " 0.34527474865975327,\n",
              " 0.3169986145727129,\n",
              " 0.24091030947901712,\n",
              " 0.2210231254841259,\n",
              " 0.3074497870214263,\n",
              " 0.3102303131332372,\n",
              " 0.3150527075109828,\n",
              " 0.28523014565391047,\n",
              " 0.32191964152279606,\n",
              " 0.32155455744609035,\n",
              " 0.21085893359512525,\n",
              " 0.20022853578731317,\n",
              " 0.26453076577461265,\n",
              " 0.2899732812321467,\n",
              " 0.31099475455295755,\n",
              " 0.2754725434087711,\n",
              " 0.2574909355367019,\n",
              " 0.2653039182447345,\n",
              " 0.34102011367916646,\n",
              " 0.2783914634163266,\n",
              " 0.31985498147706276,\n",
              " 0.301486497854473,\n",
              " 0.2093515551580703,\n",
              " 0.15515374500319556,\n",
              " 0.07639066807498758,\n",
              " 0.009182452919122598,\n",
              " 0.16689030658809365,\n",
              " 0.13090216654626663,\n",
              " 0.03543262476165742,\n",
              " 0.22683665515921955,\n",
              " 0.333168324473318,\n",
              " 0.33797097988912306,\n",
              " 0.36974438570387563,\n",
              " 0.34723301660325745,\n",
              " 0.3121762156393725,\n",
              " 0.34337095734433576,\n",
              " 0.3189862377946931,\n",
              " 0.3286823647041283,\n",
              " 0.2287608468197115,\n",
              " 0.3260071062096362,\n",
              " 0.3432420554735514,\n",
              " 0.34420277586185377,\n",
              " 0.33050940087557357,\n",
              " 0.29186630774928785,\n",
              " 0.2156516376945129,\n",
              " 0.3169391479669039,\n",
              " 0.3697871396239183,\n",
              " 0.33904522580111607,\n",
              " 0.33797338200608545,\n",
              " 0.33591723172795035,\n",
              " 0.323679724172824,\n",
              " 0.28988509309457944,\n",
              " 0.3696279736634063,\n",
              " 0.30957490247840114,\n",
              " 0.3133610411647441,\n",
              " 0.3697854579547741,\n",
              " 0.32355218760317483,\n",
              " 0.29220517090185205,\n",
              " 0.1303535966862804,\n",
              " 0.1068975179311995,\n",
              " 0.12215874553358431,\n",
              " 0.13065184081104192,\n",
              " 0.165755877799306,\n",
              " 0.1944096608571268,\n",
              " 0.4065938073907606,\n",
              " 0.6755672691749397,\n",
              " 0.6245729576654422,\n",
              " 0.5519269726776603,\n",
              " 0.4578573078386918,\n",
              " 0.6331080548810322,\n",
              " 0.7032280896418857,\n",
              " 0.6868511047201903,\n",
              " 0.6525387520534771,\n",
              " 0.6106698570248321,\n",
              " 0.5417264196740215,\n",
              " 0.43294351018070026,\n",
              " 0.32982220088477876,\n",
              " 0.2826539130211238,\n",
              " 0.6783329533032139,\n",
              " 0.7030307091969177,\n",
              " 0.7028378451534697,\n",
              " 0.702550618609873,\n",
              " 0.6933648902966416,\n",
              " 0.6874066663998328,\n",
              " 0.6790563317874555,\n",
              " 0.6703008610524792,\n",
              " 0.663863420966243,\n",
              " 0.6561621952570132,\n",
              " 0.6466353788529894,\n",
              " 0.6358928761782785,\n",
              " 0.6226321523180965,\n",
              " 0.6034389614894937,\n",
              " 0.5880887741246473,\n",
              " 0.5685578935952683,\n",
              " 0.54256612430783,\n",
              " 0.5129986968639796,\n",
              " 0.4890887297002161,\n",
              " 0.46903291992645846,\n",
              " 0.42670444417840864,\n",
              " 0.38220228202864437,\n",
              " 0.34099722519190134,\n",
              " 0.31824509284294633,\n",
              " 0.29248392254451333,\n",
              " 0.2666846541313347,\n",
              " 0.2381676589827863,\n",
              " 0.22907523751192016,\n",
              " 0.21355748791497978,\n",
              " 0.2039839840201951,\n",
              " 0.19567586875189877,\n",
              " 0.19313460307933908,\n",
              " 0.4625778336098005,\n",
              " 0.4706533790792655,\n",
              " 0.4567653766870969,\n",
              " 0.4814788735897027,\n",
              " 0.4555105945224191,\n",
              " 0.4010553049114773,\n",
              " 0.34475284120539496,\n",
              " 0.2954980369376769,\n",
              " 0.31451101461365033,\n",
              " 0.3312125355865027,\n",
              " 0.3159865470974856,\n",
              " 0.28756802989832253,\n",
              " 0.27362441381262187,\n",
              " 0.25311636602456894,\n",
              " 0.24800435024474574,\n",
              " 0.19070954471361543,\n",
              " 0.14303898503352647,\n",
              " 0.13383738120140237,\n",
              " 0.07707796333413829,\n",
              " 0.08727353201982385,\n",
              " 0.09876823651877038,\n",
              " 0.08793762209876536,\n",
              " 0.07711249170604095,\n",
              " 0.18416060350461672,\n",
              " 0.3027921606411859,\n",
              " 0.5298506230122481,\n",
              " 0.6467991051035925,\n",
              " 0.5723740151680656,\n",
              " 0.6166474756510895,\n",
              " 0.668581553992107,\n",
              " 0.5759464255542557,\n",
              " 0.635958806151835,\n",
              " 0.6669786438373541,\n",
              " 0.6447689906165963,\n",
              " 0.6510740087218224,\n",
              " 0.6111626000075844,\n",
              " 0.6360119543624284,\n",
              " 0.6393451742218346,\n",
              " 0.6355677295406564,\n",
              " 0.6278858707575715,\n",
              " 0.6140377851388613,\n",
              " 0.5972834431633604,\n",
              " 0.5594364295000961,\n",
              " 0.5142222826082902,\n",
              " 0.47845440395618644,\n",
              " 0.4500539870030738,\n",
              " 0.4678401799242356,\n",
              " 0.4337711930792912,\n",
              " 0.6545361317732368,\n",
              " 0.535444346920972,\n",
              " 0.6928084125704985,\n",
              " 0.7035122063560172,\n",
              " 0.7034771428236669,\n",
              " 0.7034187855664421,\n",
              " 0.6357736949397542,\n",
              " 0.37449233490076467,\n",
              " 0.5927040428417245,\n",
              " 0.4986423634608209,\n",
              " 0.6187075164303166,\n",
              " 0.5535543778686745,\n",
              " 0.3739852007423783,\n",
              " 0.7035127828612889,\n",
              " 0.7034315870665278,\n",
              " 0.7029233431986511,\n",
              " 0.6820764419236419,\n",
              " 0.6550521048563175,\n",
              " 0.6222990685143176,\n",
              " 0.5590992788527733,\n",
              " 0.3871077641931828,\n",
              " 0.14710825727664448,\n",
              " 0.053872764186637896,\n",
              " 0.6645281206358683,\n",
              " 0.6584889009042143,\n",
              " 0.6111300299464919,\n",
              " 0.6511463166131962,\n",
              " 0.5681936761620124,\n",
              " 0.5366051522169609,\n",
              " 0.47164865601163214,\n",
              " 0.23719995502324867,\n",
              " 0.6848373373447222,\n",
              " 0.663282940594378,\n",
              " 0.6587441101003633,\n",
              " 0.6675335176057531,\n",
              " 0.6119053172904818,\n",
              " 0.5143801385590668,\n",
              " 0.5064380330842826,\n",
              " 0.6884080266450325,\n",
              " 0.6930803281625556,\n",
              " 0.6832164645292969,\n",
              " 0.6732125980262629,\n",
              " 0.638365600911652,\n",
              " 0.5844098683375103,\n",
              " 0.49200116992846116,\n",
              " 0.03955237102055932,\n",
              " 0.6603195962834912,\n",
              " 0.6605706448558785,\n",
              " 0.6534732245788182,\n",
              " 0.5795373992785051,\n",
              " 0.6118329531681563,\n",
              " 0.5713867519232491,\n",
              " 0.6551571765918973,\n",
              " 0.7031861718589096,\n",
              " 0.6223245797365573,\n",
              " 0.3772660951899756,\n",
              " 0.6759144156429845,\n",
              " 0.6825658258179353,\n",
              " 0.6752597644042501,\n",
              " 0.6562973275235005,\n",
              " 0.6174335340064989,\n",
              " 0.5508935302884824,\n",
              " 0.37795196135324405,\n",
              " 0.029335357108834108,\n",
              " 0.16397142085939684,\n",
              " 0.28393160570748943,\n",
              " 0.2439605842515517,\n",
              " 0.2742033670468447,\n",
              " 0.22253454561492936,\n",
              " 0.23999568909772875,\n",
              " 0.18906925902174643,\n",
              " 0.2220757441219971,\n",
              " 0.26968184582704535,\n",
              " 0.1770058761972003,\n",
              " 0.12223096230633261,\n",
              " 0.24704280258075872,\n",
              " 0.27204312534637975,\n",
              " 0.296432019046975,\n",
              " 0.36594823891011824,\n",
              " 0.31166191644765223,\n",
              " 0.3512106011735799,\n",
              " 0.0334747549957902,\n",
              " 0.6702298313011773,\n",
              " 0.6234552805191866,\n",
              " 0.6909694482036557,\n",
              " 0.7035263263886111,\n",
              " 0.5459986114582023,\n",
              " 0.6264609343280154,\n",
              " 0.7031428881395114,\n",
              " 0.6886775847530332,\n",
              " 0.6486311289543523,\n",
              " 0.587820165234976,\n",
              " 0.49849888807595966,\n",
              " 0.4989392873146787,\n",
              " 0.7035088485286214,\n",
              " 0.7033321874158981,\n",
              " 0.6428371765942804,\n",
              " 0.6696972563821316,\n",
              " 0.6251372604649004,\n",
              " 0.5393443519511615,\n",
              " 0.5143477385472522,\n",
              " 0.6565552789260076,\n",
              " 0.6416951787409855,\n",
              " 0.6430749909919183,\n",
              " 0.6384956289739409,\n",
              " 0.6454500028431923,\n",
              " 0.6245545608760305,\n",
              " 0.6058479721226803,\n",
              " 0.6016899741338032,\n",
              " 0.5746725085470133,\n",
              " 0.5536352302228946,\n",
              " 0.5869004729731843,\n",
              " 0.589825412370663,\n",
              " 0.533348183119067,\n",
              " 0.6859175296670988,\n",
              " 0.6523740125743344,\n",
              " 0.5620476948487578,\n",
              " 0.5563787628003954,\n",
              " 0.6752323003813224,\n",
              " 0.6838829491245263,\n",
              " 0.514669406572658,\n",
              " 0.49722406276832704,\n",
              " 0.44281671406695583,\n",
              " 0.5312146719105271,\n",
              " 0.27724363815425124,\n",
              " 0.6863090146203835,\n",
              " 0.6303955551550218,\n",
              " 0.5120886395502554,\n",
              " 0.5976293780247824,\n",
              " 0.679296279500825,\n",
              " 0.6416768327748964,\n",
              " 0.7034778582163068,\n",
              " 0.6810436431945222,\n",
              " 0.6428292188071876,\n",
              " 0.5685066562191846,\n",
              " 0.4478638225298506,\n",
              " 0.27948722065246906,\n",
              " 0.35164138867723316,\n",
              " 0.32450896634960025,\n",
              " 0.5219169395467494,\n",
              " 0.518083291915243,\n",
              " 0.5190759218890643,\n",
              " 0.5432646879752977,\n",
              " 0.6317282013680577,\n",
              " 0.5711130278223442,\n",
              " 0.5237717987501227,\n",
              " 0.5393782185072991,\n",
              " 0.6509395319338193,\n",
              " 0.6362611375861867,\n",
              " 0.6148262701279024,\n",
              " 0.48200238570389725,\n",
              " 0.4000835678564446,\n",
              " 0.3650208767422423,\n",
              " 0.49760060242032395,\n",
              " 0.5023873573864086,\n",
              " 0.513861533015423,\n",
              " 0.6239487024137328,\n",
              " 0.6526066562519537,\n",
              " 0.6323256693811922,\n",
              " 0.46268216663316303,\n",
              " 0.6278467237640477,\n",
              " 0.695324125321783,\n",
              " 0.6368888008166439,\n",
              " 0.5769759479539944,\n",
              " 0.5323979783812347,\n",
              " 0.5963735961496586,\n",
              " 0.5280608597360269]"
            ]
          },
          "metadata": {},
          "execution_count": 61
        }
      ]
    },
    {
      "cell_type": "code",
      "source": [
        "##Plotting the calculated Hellinger distances\n",
        "plotGraph(hellinger_dist_svm, 'Hellinger Distance using SVM')"
      ],
      "metadata": {
        "id": "5Ef2xy5ewpnk",
        "colab": {
          "base_uri": "https://localhost:8080/",
          "height": 295
        },
        "outputId": "8394b448-e654-4362-910e-c12078d2ac1a"
      },
      "execution_count": null,
      "outputs": [
        {
          "output_type": "display_data",
          "data": {
            "text/plain": [
              "<Figure size 432x288 with 1 Axes>"
            ],
            "image/png": "[encoded data removed]"
          },
          "metadata": {
            "needs_background": "light"
          }
        }
      ]
    },
    {
      "cell_type": "code",
      "source": [
        "y_pred = svm_model.predict(x_test)\n",
        "print(accuracy_score(y_test, y_pred))"
      ],
      "metadata": {
        "colab": {
          "base_uri": "https://localhost:8080/"
        },
        "id": "bSMr1CkhA0l3",
        "outputId": "9a3f5dbb-5800-4175-e0a8-0b3b19462093"
      },
      "execution_count": null,
      "outputs": [
        {
          "output_type": "stream",
          "name": "stdout",
          "text": [
            "0.9195\n"
          ]
        }
      ]
    },
    {
      "cell_type": "code",
      "source": [
        "print(classification_report(y_test, y_pred))"
      ],
      "metadata": {
        "colab": {
          "base_uri": "https://localhost:8080/"
        },
        "id": "_ZI4M9RIBFu3",
        "outputId": "2fa8fb9f-a931-427d-9165-d41a8d6a4836"
      },
      "execution_count": null,
      "outputs": [
        {
          "output_type": "stream",
          "name": "stdout",
          "text": [
            "              precision    recall  f1-score   support\n",
            "\n",
            "           0       0.99      0.86      0.92     16364\n",
            "           1       0.86      0.99      0.92     13636\n",
            "\n",
            "    accuracy                           0.92     30000\n",
            "   macro avg       0.92      0.93      0.92     30000\n",
            "weighted avg       0.93      0.92      0.92     30000\n",
            "\n"
          ]
        }
      ]
    },
    {
      "cell_type": "code",
      "source": [
        "##Using Naive Bayes classifier\n",
        "nb_model = GaussianNB()\n",
        "nb_model.fit(x_train, y_train)"
      ],
      "metadata": {
        "id": "gKZApbYuyQSg",
        "colab": {
          "base_uri": "https://localhost:8080/"
        },
        "outputId": "3ef6079a-7c65-45e1-878e-be334de9dfde"
      },
      "execution_count": null,
      "outputs": [
        {
          "output_type": "execute_result",
          "data": {
            "text/plain": [
              "GaussianNB()"
            ]
          },
          "metadata": {},
          "execution_count": 65
        }
      ]
    },
    {
      "cell_type": "code",
      "source": [
        "hellinger_dist_nb = hellingerForAll(nb_model,n)\n",
        "hellinger_dist_nb"
      ],
      "metadata": {
        "id": "BIPaZwU98UsK",
        "colab": {
          "base_uri": "https://localhost:8080/"
        },
        "outputId": "d3545534-ed1b-4d15-923e-ee2410e80480"
      },
      "execution_count": null,
      "outputs": [
        {
          "output_type": "execute_result",
          "data": {
            "text/plain": [
              "[0.1340009621559459,\n",
              " 0.17708578237855557,\n",
              " 0.20360920894518578,\n",
              " 0.19526293616317866,\n",
              " 0.16783334999022506,\n",
              " 0.11610346941455156,\n",
              " 0.14331835226928957,\n",
              " 0.12470380821303047,\n",
              " 0.1530753205607849,\n",
              " 0.03931688863434025,\n",
              " 0.14998735706190436,\n",
              " 0.23482664472111392,\n",
              " 0.24290030383412944,\n",
              " 0.2180124391033053,\n",
              " 0.3102547235555005,\n",
              " 0.1881038111915107,\n",
              " 0.19691447692976743,\n",
              " 0.2775447660349395,\n",
              " 0.28261174484260604,\n",
              " 0.2177022598058379,\n",
              " 0.22214463228509454,\n",
              " 0.18870877630273042,\n",
              " 0.2250492657744903,\n",
              " 0.2293663912249988,\n",
              " 0.19126536977768618,\n",
              " 0.2039602235326131,\n",
              " 0.285611409628591,\n",
              " 0.22622239441720166,\n",
              " 0.17062786846177375,\n",
              " 0.24953739069755745,\n",
              " 0.24171897679262988,\n",
              " 0.23148182565811656,\n",
              " 0.20809358522066726,\n",
              " 0.2500723126823766,\n",
              " 0.22021823526513634,\n",
              " 0.2342228965031315,\n",
              " 0.2189495671483657,\n",
              " 0.21952260665199932,\n",
              " 0.17465499927240152,\n",
              " 0.2839683020098744,\n",
              " 0.20781584899303068,\n",
              " 0.20686162588702503,\n",
              " 0.23206617512328181,\n",
              " 0.23530004430030438,\n",
              " 0.18463948322415277,\n",
              " 0.18719859938399244,\n",
              " 0.21512615021526688,\n",
              " 0.34697672002020985,\n",
              " 0.3822715268608325,\n",
              " 0.21627653457082313,\n",
              " 0.1761819608608709,\n",
              " 0.2980154387237693,\n",
              " 0.3822715268608325,\n",
              " 0.33226558292992514,\n",
              " 0.3469767200203949,\n",
              " 0.3822715268608325,\n",
              " 0.2980153790830269,\n",
              " 0.1952581220648897,\n",
              " 0.18858544705893734,\n",
              " 0.24346016313339938,\n",
              " 0.18760197629921538,\n",
              " 0.21802750234647997,\n",
              " 0.21125701083832044,\n",
              " 0.23881840593870568,\n",
              " 0.23692075230325682,\n",
              " 0.25717063009272073,\n",
              " 0.23417109415670348,\n",
              " 0.16590197310586713,\n",
              " 0.2006818198002761,\n",
              " 0.22350838747953994,\n",
              " 0.22604388395129182,\n",
              " 0.22615380400225168,\n",
              " 0.22595578628443214,\n",
              " 0.264497003960805,\n",
              " 0.22035271157707398,\n",
              " 0.29250357476794175,\n",
              " 0.23825668083970988,\n",
              " 0.22873334228114384,\n",
              " 0.22505661729883056,\n",
              " 0.2645149564479618,\n",
              " 0.27763206858801825,\n",
              " 0.29801628291705956,\n",
              " 0.3517236804722837,\n",
              " 0.3492677613992632,\n",
              " 0.2715259115671372,\n",
              " 0.23144422874318119,\n",
              " 0.16862887384247072,\n",
              " 0.3111068565757341,\n",
              " 0.3822715268608325,\n",
              " 0.3428107004792012,\n",
              " 0.31362947213436765,\n",
              " 0.27756817276727624,\n",
              " 0.3322655829193294,\n",
              " 0.3369997707384777,\n",
              " 0.3469767200128334,\n",
              " 0.31362947205572067,\n",
              " 0.38227075372404107,\n",
              " 0.3448280835762266,\n",
              " 0.26314164211835395,\n",
              " 0.26801294680908666,\n",
              " 0.3249278210186924,\n",
              " 0.3171836908999484,\n",
              " 0.3646604267727173,\n",
              " 0.3049231758592211,\n",
              " 0.305890965027537,\n",
              " 0.29795502973199245,\n",
              " 0.3822715268608325,\n",
              " 0.307008405008374,\n",
              " 0.354396003344733,\n",
              " 0.3196605026747191,\n",
              " 0.253180288739505,\n",
              " 0.2177968624989029,\n",
              " 0.14562360258441207,\n",
              " 0.2577956627989221,\n",
              " 0.33071786189619534,\n",
              " 0.291614126074185,\n",
              " 0.2864624223054707,\n",
              " 0.3159980266566787,\n",
              " 0.36982571732607333,\n",
              " 0.3517266893177361,\n",
              " 0.3822715268608325,\n",
              " 0.36466042678978594,\n",
              " 0.3372269339979683,\n",
              " 0.3822715268608325,\n",
              " 0.3372269339587093,\n",
              " 0.357344918949909,\n",
              " 0.28074763582363677,\n",
              " 0.3573449189499797,\n",
              " 0.3543960010991867,\n",
              " 0.36466042678978594,\n",
              " 0.3573449189502119,\n",
              " 0.30118266288888046,\n",
              " 0.30807019353694726,\n",
              " 0.35734491895012505,\n",
              " 0.3822715268608325,\n",
              " 0.3543960008685235,\n",
              " 0.3822715268608325,\n",
              " 0.34926775777037167,\n",
              " 0.3822715268608325,\n",
              " 0.3101165457407613,\n",
              " 0.3822715268608325,\n",
              " 0.34482594892699275,\n",
              " 0.3372269335692035,\n",
              " 0.3822715268608325,\n",
              " 0.33389502125239273,\n",
              " 0.33386502137180313,\n",
              " 0.18210977731420677,\n",
              " 0.14592305356983265,\n",
              " 0.11408296942440098,\n",
              " 0.12017514726128395,\n",
              " 0.14038845541768538,\n",
              " 0.15279319865530455,\n",
              " 0.40118302969409075,\n",
              " 0.6874134390239367,\n",
              " 0.6873912854302805,\n",
              " 0.6873494280678955,\n",
              " 0.6874832507369047,\n",
              " 0.6801456583817712,\n",
              " 0.6874689362760273,\n",
              " 0.6871246300496452,\n",
              " 0.687384613709166,\n",
              " 0.6875873074520753,\n",
              " 0.6875785404199322,\n",
              " 0.6082561498137052,\n",
              " 0.6923998707561404,\n",
              " 0.3455223055548231,\n",
              " 0.6671476204123669,\n",
              " 0.6924032206532899,\n",
              " 0.6924029589542836,\n",
              " 0.6924024934904477,\n",
              " 0.6924022780887262,\n",
              " 0.6924026843619137,\n",
              " 0.6924032766287119,\n",
              " 0.6924031137085753,\n",
              " 0.6924024431310275,\n",
              " 0.6924035721052768,\n",
              " 0.692403553970128,\n",
              " 0.6647147193325934,\n",
              " 0.6924021018911739,\n",
              " 0.6924029311579188,\n",
              " 0.6698352663652295,\n",
              " 0.6924016863375472,\n",
              " 0.6924012265257646,\n",
              " 0.6764892606080685,\n",
              " 0.6924010799050881,\n",
              " 0.6624748279052907,\n",
              " 0.692400946899161,\n",
              " 0.6764892586766788,\n",
              " 0.6764892633851193,\n",
              " 0.6698352614613966,\n",
              " 0.6924000679566702,\n",
              " 0.6923998979486109,\n",
              " 0.6924000062796515,\n",
              " 0.6764892548648944,\n",
              " 0.6923996579433938,\n",
              " 0.6671476112260676,\n",
              " 0.6764892527418539,\n",
              " 0.6923990175089303,\n",
              " 0.692422571294788,\n",
              " 0.6924238642721313,\n",
              " 0.6924143939521665,\n",
              " 0.6924067652011997,\n",
              " 0.6811815084009725,\n",
              " 0.6811814937568488,\n",
              " 0.6924009228100905,\n",
              " 0.6924031400033968,\n",
              " 0.6698352607896323,\n",
              " 0.6924009943788153,\n",
              " 0.692399556666587,\n",
              " 0.6923998416780235,\n",
              " 0.6923985258628977,\n",
              " 0.6647147110450973,\n",
              " 0.6923977246317453,\n",
              " 0.6584254668393217,\n",
              " 0.6531077451126971,\n",
              " 0.6923984224815745,\n",
              " 0.6603877353705883,\n",
              " 0.6056364342457587,\n",
              " 0.6309524266691673,\n",
              " 0.5924945939885387,\n",
              " 0.6624748197155638,\n",
              " 0.6923983184439634,\n",
              " 0.6924001279457435,\n",
              " 0.6924023021402836,\n",
              " 0.6924031643750973,\n",
              " 0.692403008328168,\n",
              " 0.6624748339935709,\n",
              " 0.6728815976010842,\n",
              " 0.5580262715994593,\n",
              " 0.6354031739757394,\n",
              " 0.6647147209092183,\n",
              " 0.6469491476397323,\n",
              " 0.6377663106426323,\n",
              " 0.6040777933299629,\n",
              " 0.6354031740475817,\n",
              " 0.6499205176562644,\n",
              " 0.6647147189468567,\n",
              " 0.6924031041371962,\n",
              " 0.6924015373497183,\n",
              " 0.6565677257223261,\n",
              " 0.6811815221333959,\n",
              " 0.6698352842917407,\n",
              " 0.6924051889414393,\n",
              " 0.692406396170879,\n",
              " 0.6924008117586068,\n",
              " 0.43809659686600294,\n",
              " 0.6870342511969016,\n",
              " 0.6880118255850018,\n",
              " 0.6889808502787997,\n",
              " 0.6760200032267982,\n",
              " 0.6804732831496785,\n",
              " 0.6875217666186307,\n",
              " 0.6757897995654341,\n",
              " 0.6698352808738193,\n",
              " 0.6924191060351338,\n",
              " 0.6603877740872109,\n",
              " 0.6924451170925309,\n",
              " 0.6924269606280508,\n",
              " 0.40383973167087556,\n",
              " 0.6924247597616555,\n",
              " 0.6924226951683121,\n",
              " 0.6924114023235786,\n",
              " 0.6924052481591868,\n",
              " 0.6698352604314998,\n",
              " 0.6764892553347237,\n",
              " 0.6764892496960614,\n",
              " 0.48494427550364677,\n",
              " 0.21830391989342823,\n",
              " 0.09764293064594962,\n",
              " 0.6480550010597654,\n",
              " 0.646623692474325,\n",
              " 0.5972495764431973,\n",
              " 0.6544227265409094,\n",
              " 0.5930484646228317,\n",
              " 0.6481154801988688,\n",
              " 0.6875069077585247,\n",
              " 0.19592271207454867,\n",
              " 0.6721420261506732,\n",
              " 0.6641612780041574,\n",
              " 0.6872080095294533,\n",
              " 0.6872385441134146,\n",
              " 0.6756734356828648,\n",
              " 0.6875058234840037,\n",
              " 0.645258045573398,\n",
              " 0.6756585237326457,\n",
              " 0.6799616261854339,\n",
              " 0.6721695949156231,\n",
              " 0.6870392712803596,\n",
              " 0.6875047723876577,\n",
              " 0.6692853484636769,\n",
              " 0.6527993538175311,\n",
              " 0.04414707802813749,\n",
              " 0.6871908317803108,\n",
              " 0.6873542526757791,\n",
              " 0.6873155785789848,\n",
              " 0.6875047729834562,\n",
              " 0.6873799673970785,\n",
              " 0.6873601609385576,\n",
              " 0.6481235564035028,\n",
              " 0.6875166876449805,\n",
              " 0.6874895772922545,\n",
              " 0.39830115248367254,\n",
              " 0.664263638785488,\n",
              " 0.6756488884850875,\n",
              " 0.6800793472305023,\n",
              " 0.6875690054972979,\n",
              " 0.6693012125901565,\n",
              " 0.6875570357883536,\n",
              " 0.4370750446815777,\n",
              " 0.1864080299689431,\n",
              " 0.17993258163526052,\n",
              " 0.27742354979439265,\n",
              " 0.2531527657975823,\n",
              " 0.27990554408094886,\n",
              " 0.22718313843072532,\n",
              " 0.23750155627608915,\n",
              " 0.20931502841781577,\n",
              " 0.24163777689102447,\n",
              " 0.27146329409890535,\n",
              " 0.18827390068121813,\n",
              " 0.1735945115202072,\n",
              " 0.20775343259565857,\n",
              " 0.1779643504386826,\n",
              " 0.1827439611726606,\n",
              " 0.20408252028304447,\n",
              " 0.20941955692244518,\n",
              " 0.24828001097152352,\n",
              " 0.026614992188297024,\n",
              " 0.6924509971024011,\n",
              " 0.6924509451119765,\n",
              " 0.6764893915736052,\n",
              " 0.6924509527318371,\n",
              " 0.5313623143336492,\n",
              " 0.5686862465215848,\n",
              " 0.6917811186376457,\n",
              " 0.6698254088965876,\n",
              " 0.676475538782708,\n",
              " 0.6624675345284894,\n",
              " 0.6918346192510736,\n",
              " 0.5132558712760078,\n",
              " 0.6917555575316183,\n",
              " 0.6917629964980333,\n",
              " 0.6190754941603156,\n",
              " 0.6917496114811953,\n",
              " 0.6917810540331281,\n",
              " 0.6917561061294553,\n",
              " 0.5208658853419118,\n",
              " 0.6924063700440378,\n",
              " 0.6764892898098503,\n",
              " 0.6698352773571333,\n",
              " 0.692408096519073,\n",
              " 0.6924051971377154,\n",
              " 0.6924049736905596,\n",
              " 0.6924038954217562,\n",
              " 0.6924046448033625,\n",
              " 0.6924030664714452,\n",
              " 0.69240180023364,\n",
              " 0.6924034901433418,\n",
              " 0.6924012741113192,\n",
              " 0.5528664432061291,\n",
              " 0.6924199024707065,\n",
              " 0.6924267703938455,\n",
              " 0.6924143423553419,\n",
              " 0.6924062718182901,\n",
              " 0.6924135383534447,\n",
              " 0.6924209924705189,\n",
              " 0.6924027926121284,\n",
              " 0.6924078101496708,\n",
              " 0.6698352836197233,\n",
              " 0.63657280659607,\n",
              " 0.24332967405715464,\n",
              " 0.680036777925814,\n",
              " 0.6425421317472824,\n",
              " 0.6399806964197344,\n",
              " 0.6642591802859478,\n",
              " 0.6599930951715697,\n",
              " 0.6601163815327384,\n",
              " 0.6918211099070304,\n",
              " 0.6918224822565884,\n",
              " 0.6811632476358807,\n",
              " 0.6671393573527488,\n",
              " 0.49847202161321763,\n",
              " 0.6764892783218011,\n",
              " 0.6120892556486353,\n",
              " 0.6924002772582236,\n",
              " 0.6340987201688401,\n",
              " 0.6644363984469208,\n",
              " 0.6695691266144423,\n",
              " 0.67617411933442,\n",
              " 0.6873042827808092,\n",
              " 0.6876039677216582,\n",
              " 0.6801843469544064,\n",
              " 0.6876923271110149,\n",
              " 0.6722821100755653,\n",
              " 0.6876715033936442,\n",
              " 0.6723029590960493,\n",
              " 0.611243960801804,\n",
              " 0.6924014348972093,\n",
              " 0.6924010798157225,\n",
              " 0.6919060632064302,\n",
              " 0.6918105811613078,\n",
              " 0.6918196865935861,\n",
              " 0.6918294520995314,\n",
              " 0.691831025931288,\n",
              " 0.6764770346426919,\n",
              " 0.5493205942790573,\n",
              " 0.6094444457188752,\n",
              " 0.6870594609804744,\n",
              " 0.6873836302043055,\n",
              " 0.6691959614778571,\n",
              " 0.6871422710238522,\n",
              " 0.6872414026690281,\n",
              " 0.5229094157614702]"
            ]
          },
          "metadata": {},
          "execution_count": 66
        }
      ]
    },
    {
      "cell_type": "code",
      "source": [
        "##Plotting the calculated Hellinger distances\n",
        "plotGraph(hellinger_dist_nb, 'Hellinger Distance using Naive Bayes')"
      ],
      "metadata": {
        "colab": {
          "base_uri": "https://localhost:8080/",
          "height": 295
        },
        "id": "VlkGJ2RXEw36",
        "outputId": "7100e5a5-a759-4a89-841e-df63954e2816"
      },
      "execution_count": null,
      "outputs": [
        {
          "output_type": "display_data",
          "data": {
            "text/plain": [
              "<Figure size 432x288 with 1 Axes>"
            ],
            "image/png": "[encoded data removed]"
          },
          "metadata": {
            "needs_background": "light"
          }
        }
      ]
    },
    {
      "cell_type": "code",
      "source": [
        "y_pred = nb_model.predict(x_test)\n",
        "print(accuracy_score(y_test, y_pred))"
      ],
      "metadata": {
        "colab": {
          "base_uri": "https://localhost:8080/"
        },
        "id": "3uEF1RyrFCNR",
        "outputId": "bc6d62e3-a1f3-47db-fc7c-14e689f3e462"
      },
      "execution_count": null,
      "outputs": [
        {
          "output_type": "stream",
          "name": "stdout",
          "text": [
            "0.9522333333333334\n"
          ]
        }
      ]
    },
    {
      "cell_type": "code",
      "source": [
        "print(classification_report(y_test, y_pred))"
      ],
      "metadata": {
        "colab": {
          "base_uri": "https://localhost:8080/"
        },
        "id": "rGtqbhebFIxN",
        "outputId": "ec20b130-2670-49bd-b2e6-4388ad597e35"
      },
      "execution_count": null,
      "outputs": [
        {
          "output_type": "stream",
          "name": "stdout",
          "text": [
            "              precision    recall  f1-score   support\n",
            "\n",
            "           0       1.00      0.91      0.95     16364\n",
            "           1       0.90      1.00      0.95     13636\n",
            "\n",
            "    accuracy                           0.95     30000\n",
            "   macro avg       0.95      0.96      0.95     30000\n",
            "weighted avg       0.96      0.95      0.95     30000\n",
            "\n"
          ]
        }
      ]
    },
    {
      "cell_type": "code",
      "source": [
        "#K Neighbors\n",
        "knn_model = KNeighborsClassifier()\n",
        "knn_model.fit(x_train, y_train)"
      ],
      "metadata": {
        "colab": {
          "base_uri": "https://localhost:8080/"
        },
        "id": "u0wZgCWLFKZ1",
        "outputId": "123db105-9276-4f6b-8816-78139a910fb1"
      },
      "execution_count": null,
      "outputs": [
        {
          "output_type": "execute_result",
          "data": {
            "text/plain": [
              "KNeighborsClassifier()"
            ]
          },
          "metadata": {},
          "execution_count": 70
        }
      ]
    },
    {
      "cell_type": "code",
      "source": [
        "hellinger_dist_knn = hellingerForAll(knn_model,n)\n",
        "hellinger_dist_knn"
      ],
      "metadata": {
        "colab": {
          "base_uri": "https://localhost:8080/"
        },
        "id": "-z0lW_W-FTAU",
        "outputId": "115c3c1b-480c-4415-91ff-ab616a34bd66"
      },
      "execution_count": null,
      "outputs": [
        {
          "output_type": "execute_result",
          "data": {
            "text/plain": [
              "[0.12444510358246884,\n",
              " 0.12444510358246884,\n",
              " 0.12444510358246884,\n",
              " 0.12444510358246884,\n",
              " 0.12444510358246884,\n",
              " 0.11293835902708246,\n",
              " 0.11869291229719271,\n",
              " 0.12444510358246884,\n",
              " 0.12444510358246884,\n",
              " 0.12444510358246884,\n",
              " 0.12444510358246884,\n",
              " 0.12444510358246884,\n",
              " 0.12444510358246884,\n",
              " 0.12444510358246884,\n",
              " 0.12444510358246884,\n",
              " 0.11035090018579992,\n",
              " 0.12444510358246884,\n",
              " 0.12444510358246884,\n",
              " 0.12444510358246884,\n",
              " 0.12444510358246884,\n",
              " 0.12444510358246884,\n",
              " 0.12444510358246884,\n",
              " 0.12444510358246884,\n",
              " 0.10816913612815837,\n",
              " 0.12444510358246884,\n",
              " 0.12444510358246884,\n",
              " 0.12444510358246884,\n",
              " 0.11869291229719271,\n",
              " 0.10624662004980287,\n",
              " 0.12444510358246884,\n",
              " 0.12444510358246884,\n",
              " 0.12444510358246884,\n",
              " 0.12444510358246884,\n",
              " 0.12444510358246884,\n",
              " 0.12444510358246884,\n",
              " 0.10922095842771527,\n",
              " 0.1115795173048587,\n",
              " 0.09870033572197946,\n",
              " 0.09870033572197946,\n",
              " 0.12444510358246884,\n",
              " 0.12444510358246884,\n",
              " 0.10624662004980287,\n",
              " 0.12444510358246884,\n",
              " 0.08801825879204445,\n",
              " 0.12444510358246884,\n",
              " 0.1115795173048587,\n",
              " 0.12444510358246884,\n",
              " 0.12444510358246884,\n",
              " 0.12444510358246884,\n",
              " 0.10215281872126782,\n",
              " 0.09037484310762096,\n",
              " 0.12444510358246884,\n",
              " 0.12444510358246884,\n",
              " 0.12444510358246884,\n",
              " 0.10624662004980287,\n",
              " 0.12444510358246884,\n",
              " 0.12444510358246884,\n",
              " 0.10624662004980287,\n",
              " 0.0956576374266901,\n",
              " 0.09290598443863013,\n",
              " 0.1115795173048587,\n",
              " 0.08171707500578901,\n",
              " 0.09037484310762096,\n",
              " 0.08171707500578901,\n",
              " 0.07981261228156239,\n",
              " 0.0956576374266901,\n",
              " 0.09870033572197946,\n",
              " 0.20324247445377228,\n",
              " 0.24338119318254997,\n",
              " 0.25806960397736656,\n",
              " 0.16162873255164745,\n",
              " 0.058715819749027384,\n",
              " 0.07488859869432503,\n",
              " 0.052342176279658245,\n",
              " 0.02834927389782449,\n",
              " 0.01024945161486014,\n",
              " 0.033113562530483275,\n",
              " 0.007451945194192785,\n",
              " 0.010980707539557082,\n",
              " 0.04053787210354311,\n",
              " 0.0438009728515371,\n",
              " 0.0631347828486061,\n",
              " 0.09238385027961565,\n",
              " 0.0894132915580358,\n",
              " 0.05866591279868717,\n",
              " 0.01539112234151815,\n",
              " 0.0037692404628016773,\n",
              " 0.08171707500578901,\n",
              " 0.12444510358246884,\n",
              " 0.10624662004980287,\n",
              " 0.06975078170296978,\n",
              " 0.0667820533597207,\n",
              " 0.09870033572197946,\n",
              " 0.09290598443863013,\n",
              " 0.10215281872126782,\n",
              " 0.08801825879204445,\n",
              " 0.09870033572197946,\n",
              " 0.10624662004980287,\n",
              " 0.0631347828486061,\n",
              " 0.05765724873762543,\n",
              " 0.09870033572197946,\n",
              " 0.09037484310762096,\n",
              " 0.0956576374266901,\n",
              " 0.08801825879204445,\n",
              " 0.0728881698020489,\n",
              " 0.07554122760483667,\n",
              " 0.12444510358246884,\n",
              " 0.08210816469760197,\n",
              " 0.09683461333558518,\n",
              " 0.09290598443863013,\n",
              " 0.060730403506442335,\n",
              " 0.03342952193179656,\n",
              " 0.004729319867688678,\n",
              " 0.07036385147008647,\n",
              " 0.09508676406736441,\n",
              " 0.08989074137645316,\n",
              " 0.08370976563292502,\n",
              " 0.09744224997745839,\n",
              " 0.12444510358246884,\n",
              " 0.11630960132877802,\n",
              " 0.12444510358246884,\n",
              " 0.10624662004980287,\n",
              " 0.10450824641902383,\n",
              " 0.12444510358246884,\n",
              " 0.10450824641902383,\n",
              " 0.1115795173048587,\n",
              " 0.0741973569096774,\n",
              " 0.1115795173048587,\n",
              " 0.11630960132877802,\n",
              " 0.10624662004980287,\n",
              " 0.1115795173048587,\n",
              " 0.09037484310762096,\n",
              " 0.08847729284056173,\n",
              " 0.09935292944230988,\n",
              " 0.12444510358246884,\n",
              " 0.11630960132877802,\n",
              " 0.12444510358246884,\n",
              " 0.10369346250122684,\n",
              " 0.12444510358246884,\n",
              " 0.09037484310762096,\n",
              " 0.12444510358246884,\n",
              " 0.10718115522885807,\n",
              " 0.10215281872126782,\n",
              " 0.12444510358246884,\n",
              " 0.10215281872126782,\n",
              " 0.0956576374266901,\n",
              " 0.016013033351605744,\n",
              " 0.0373210634410124,\n",
              " 0.04205263192219061,\n",
              " 0.0031039709420606037,\n",
              " 0.0694467812299859,\n",
              " 0.07692271960515007,\n",
              " 0.6058335814473578,\n",
              " 0.8761178717608361,\n",
              " 0.9081248534402839,\n",
              " 0.9081248534402839,\n",
              " 0.9081248534402839,\n",
              " 0.8881769610681065,\n",
              " 0.6051833824926363,\n",
              " 0.6914763914517463,\n",
              " 0.9081248534402839,\n",
              " 0.9081248534402839,\n",
              " 0.9081248534402839,\n",
              " 0.7279965812781996,\n",
              " 0.5475276832920587,\n",
              " 0.4381809550838089,\n",
              " 0.7725441293631715,\n",
              " 0.8102166586744735,\n",
              " 0.9081248534402839,\n",
              " 0.9081248534402839,\n",
              " 0.9081248534402839,\n",
              " 0.9081248534402839,\n",
              " 0.9081248534402839,\n",
              " 0.9081248534402839,\n",
              " 0.8940521061410157,\n",
              " 0.9081248534402839,\n",
              " 0.9081248534402839,\n",
              " 0.8836500257236848,\n",
              " 0.9081248534402839,\n",
              " 0.8981900113779289,\n",
              " 0.8892083115947871,\n",
              " 0.9081248534402839,\n",
              " 0.8914567840534628,\n",
              " 0.8940521061410157,\n",
              " 0.9081248534402839,\n",
              " 0.8816682370688956,\n",
              " 0.771943801564196,\n",
              " 0.5855231820808963,\n",
              " 0.4879555058476369,\n",
              " 0.42178529906407064,\n",
              " 0.4199850385108015,\n",
              " 0.4304609426409894,\n",
              " 0.42196527942163536,\n",
              " 0.42434927145567514,\n",
              " 0.42380961867642286,\n",
              " 0.4245741068371967,\n",
              " 0.4243492714556753,\n",
              " 0.42884388290434317,\n",
              " 0.6979044811194207,\n",
              " 0.4940901362233171,\n",
              " 0.34009500797684084,\n",
              " 0.6972249191465557,\n",
              " 0.4744608278939117,\n",
              " 0.6709466517840175,\n",
              " 0.658006720323718,\n",
              " 0.6549717375959119,\n",
              " 0.6870211970447682,\n",
              " 0.756935165856496,\n",
              " 0.8021415139656973,\n",
              " 0.7886236413419357,\n",
              " 0.7964668585136856,\n",
              " 0.8490450768558966,\n",
              " 0.8305016334445021,\n",
              " 0.8145963980579096,\n",
              " 0.8546331054808249,\n",
              " 0.7920977997306378,\n",
              " 0.8508514149829886,\n",
              " 0.7826468723344955,\n",
              " 0.8360966826530726,\n",
              " 0.808757046680439,\n",
              " 0.8780830770544827,\n",
              " 0.9081248534402839,\n",
              " 0.8126153686542763,\n",
              " 0.7656403759881202,\n",
              " 0.7640787460878223,\n",
              " 0.8038416975475108,\n",
              " 0.879820775465895,\n",
              " 0.8881769610681065,\n",
              " 0.7759291722642675,\n",
              " 0.8566206073004684,\n",
              " 0.8836500257236848,\n",
              " 0.8536647795106718,\n",
              " 0.8597444708982327,\n",
              " 0.81733670488356,\n",
              " 0.8530914109798533,\n",
              " 0.8692030605684947,\n",
              " 0.8836500257236848,\n",
              " 0.9081248534402839,\n",
              " 0.9081248534402839,\n",
              " 0.8761178717608362,\n",
              " 0.8955451643383919,\n",
              " 0.8881769610681065,\n",
              " 0.9081248534402839,\n",
              " 0.9081248534402839,\n",
              " 0.9081248534402839,\n",
              " 0.6555219552191489,\n",
              " 0.9036913603620532,\n",
              " 0.9081248534402839,\n",
              " 0.9081248534402839,\n",
              " 0.7377791168262607,\n",
              " 0.5021401223924606,\n",
              " 0.4148944725773841,\n",
              " 0.6261881573547309,\n",
              " 0.43638636976758877,\n",
              " 0.6047835857830541,\n",
              " 0.6846373084647174,\n",
              " 0.8375957780354539,\n",
              " 0.8517746880392075,\n",
              " 0.6061839614979108,\n",
              " 0.8285799653984506,\n",
              " 0.2630248626031481,\n",
              " 0.6479350132839096,\n",
              " 0.7185223619514284,\n",
              " 0.8881769610681065,\n",
              " 0.8940521061410157,\n",
              " 0.8940521061410157,\n",
              " 0.7044681283682139,\n",
              " 0.04235774450228865,\n",
              " 0.12209282844970462,\n",
              " 0.578988057950834,\n",
              " 0.512447618346794,\n",
              " 0.810669588284486,\n",
              " 0.8705430561859955,\n",
              " 0.8199039021498139,\n",
              " 0.8692030605684947,\n",
              " 0.9081248534402839,\n",
              " 0.43266118547935895,\n",
              " 0.5985680983167584,\n",
              " 0.7804656319579674,\n",
              " 0.7505802457834069,\n",
              " 0.6434109866008776,\n",
              " 0.7220679526152357,\n",
              " 0.9081248534402839,\n",
              " 0.8666468064086149,\n",
              " 0.6803872339322228,\n",
              " 0.48340717039315817,\n",
              " 0.6204679637336004,\n",
              " 0.9081248534402839,\n",
              " 0.9081248534402839,\n",
              " 0.8881769610681065,\n",
              " 0.8733702671921072,\n",
              " 0.28403559069368106,\n",
              " 0.8220315003347355,\n",
              " 0.6388236669522299,\n",
              " 0.7898683196793018,\n",
              " 0.9081248534402839,\n",
              " 0.9081248534402839,\n",
              " 0.5995091394221476,\n",
              " 0.7203225995731232,\n",
              " 0.5661643184312961,\n",
              " 0.7910270785494814,\n",
              " 0.6323885405201528,\n",
              " 0.5438479877844922,\n",
              " 0.7120228608665405,\n",
              " 0.7541200670033461,\n",
              " 0.8497613948921666,\n",
              " 0.8881769610681065,\n",
              " 0.9081248534402839,\n",
              " 0.6531062022788472,\n",
              " 0.028573948835244185,\n",
              " 0.0039018992210115592,\n",
              " 0.054957749460791766,\n",
              " 0.04215359200501892,\n",
              " 0.061787781033163035,\n",
              " 0.014618517308368394,\n",
              " 0.037781251325801464,\n",
              " 0.01203000734005697,\n",
              " 0.032327276345419965,\n",
              " 0.05617176942142219,\n",
              " 0.1252175289975778,\n",
              " 0.3085515858742855,\n",
              " 0.30669614824428515,\n",
              " 0.28468973419002,\n",
              " 0.2584360970067474,\n",
              " 0.2249132135464879,\n",
              " 0.2340092541313487,\n",
              " 0.16330499654556416,\n",
              " 0.3495868437198322,\n",
              " 0.9081248534402839,\n",
              " 0.9081248534402839,\n",
              " 0.6570110745254693,\n",
              " 0.29060050962769113,\n",
              " 0.5739891332276741,\n",
              " 0.6135368796911247,\n",
              " 0.5905466915711555,\n",
              " 0.6033862331092671,\n",
              " 0.890867766935231,\n",
              " 0.8816682370688956,\n",
              " 0.8940521061410157,\n",
              " 0.715614496264304,\n",
              " 0.7737512963514412,\n",
              " 0.49395467499675016,\n",
              " 0.6402059359794713,\n",
              " 0.9081248534402839,\n",
              " 0.9081248534402839,\n",
              " 0.9081248534402839,\n",
              " 0.7457549898002254,\n",
              " 0.9081248534402839,\n",
              " 0.7189879113016305,\n",
              " 0.7474011102768705,\n",
              " 0.7359179793104501,\n",
              " 0.7617208267107886,\n",
              " 0.7440475746026385,\n",
              " 0.7789389777096376,\n",
              " 0.7740111213354647,\n",
              " 0.7833809397654632,\n",
              " 0.7916100826982023,\n",
              " 0.7949613935685963,\n",
              " 0.771687172955145,\n",
              " 0.63845218467169,\n",
              " 0.6504314943576447,\n",
              " 0.9081248534402839,\n",
              " 0.8311983846599871,\n",
              " 0.9081248534402839,\n",
              " 0.8761178717608363,\n",
              " 0.36183414941413916,\n",
              " 0.7144993331194893,\n",
              " 0.7168663035156005,\n",
              " 0.6492900849818164,\n",
              " 0.7383548461051711,\n",
              " 0.4034211211609867,\n",
              " 0.8805453953989256,\n",
              " 0.8642320242072329,\n",
              " 0.8619368348464722,\n",
              " 0.7211938098386854,\n",
              " 0.5657843427803612,\n",
              " 0.520752015819346,\n",
              " 0.6117156709940506,\n",
              " 0.80731579975623,\n",
              " 0.8881769610681065,\n",
              " 0.8858015068231214,\n",
              " 0.725185228360382,\n",
              " 0.4980666987552962,\n",
              " 0.5550642303802628,\n",
              " 0.5445457782495747,\n",
              " 0.8126153686542759,\n",
              " 0.692690900218655,\n",
              " 0.5080822444665252,\n",
              " 0.5826604532615467,\n",
              " 0.8414771834443119,\n",
              " 0.8527122354351121,\n",
              " 0.8355049192375904,\n",
              " 0.8439085155111578,\n",
              " 0.640099468067569,\n",
              " 0.6219053609869543,\n",
              " 0.7105991188970862,\n",
              " 0.7531905866488106,\n",
              " 0.626810139849531,\n",
              " 0.6248429683797163,\n",
              " 0.7259363857370126,\n",
              " 0.7417674393492822,\n",
              " 0.7904465024029191,\n",
              " 0.6501594670585359,\n",
              " 0.7171305845886193,\n",
              " 0.5823699134230816,\n",
              " 0.6191876434722733,\n",
              " 0.534212180507295,\n",
              " 0.6184719124129342,\n",
              " 0.8080896205586823,\n",
              " 0.8881769610681065,\n",
              " 0.9081248534402839,\n",
              " 0.9081248534402839,\n",
              " 0.5273832819863989]"
            ]
          },
          "metadata": {},
          "execution_count": 71
        }
      ]
    },
    {
      "cell_type": "code",
      "source": [
        "##Plotting the calculated Hellinger distances\n",
        "plotGraph(hellinger_dist_knn, 'Hellinger Distance using KNN')"
      ],
      "metadata": {
        "colab": {
          "base_uri": "https://localhost:8080/",
          "height": 295
        },
        "id": "BMwGmL7qFXbd",
        "outputId": "1ec3d841-0974-4481-df13-3f1f2e5f0dc6"
      },
      "execution_count": null,
      "outputs": [
        {
          "output_type": "display_data",
          "data": {
            "text/plain": [
              "<Figure size 432x288 with 1 Axes>"
            ],
            "image/png": "[encoded data removed]"
          },
          "metadata": {
            "needs_background": "light"
          }
        }
      ]
    },
    {
      "cell_type": "code",
      "source": [
        "y_pred = knn_model.predict(x_test)\n",
        "print(accuracy_score(y_test, y_pred))"
      ],
      "metadata": {
        "colab": {
          "base_uri": "https://localhost:8080/"
        },
        "id": "ie8mMUQEFbUQ",
        "outputId": "f957a6f7-f9b2-464b-f676-e78a56ff51ca"
      },
      "execution_count": null,
      "outputs": [
        {
          "output_type": "stream",
          "name": "stdout",
          "text": [
            "0.9792\n"
          ]
        }
      ]
    },
    {
      "cell_type": "code",
      "source": [
        "print(classification_report(y_test, y_pred))"
      ],
      "metadata": {
        "colab": {
          "base_uri": "https://localhost:8080/"
        },
        "id": "-Ov-_w5RFf0y",
        "outputId": "dcd54dc1-f57e-46da-f231-ccc6fe918bb0"
      },
      "execution_count": null,
      "outputs": [
        {
          "output_type": "stream",
          "name": "stdout",
          "text": [
            "              precision    recall  f1-score   support\n",
            "\n",
            "           0       0.96      1.00      0.98     16364\n",
            "           1       1.00      0.96      0.98     13636\n",
            "\n",
            "    accuracy                           0.98     30000\n",
            "   macro avg       0.98      0.98      0.98     30000\n",
            "weighted avg       0.98      0.98      0.98     30000\n",
            "\n"
          ]
        }
      ]
    },
    {
      "cell_type": "code",
      "source": [
        "#Random Forest\n",
        "rf_model = RandomForestClassifier()\n",
        "rf_model.fit(x_train,y_train)"
      ],
      "metadata": {
        "colab": {
          "base_uri": "https://localhost:8080/"
        },
        "id": "fOxTilFNFjg5",
        "outputId": "af2c9ace-a4c8-4f9b-8220-9c8b2e3ca29b"
      },
      "execution_count": null,
      "outputs": [
        {
          "output_type": "execute_result",
          "data": {
            "text/plain": [
              "RandomForestClassifier()"
            ]
          },
          "metadata": {},
          "execution_count": 75
        }
      ]
    },
    {
      "cell_type": "code",
      "source": [
        "hellinger_dist_rf = hellingerForAll(rf_model,n)\n",
        "hellinger_dist_rf"
      ],
      "metadata": {
        "colab": {
          "base_uri": "https://localhost:8080/"
        },
        "id": "84-Q8lzBP_Lt",
        "outputId": "2199c831-7443-4f2b-d51d-84bf0faad7b8"
      },
      "execution_count": null,
      "outputs": [
        {
          "output_type": "execute_result",
          "data": {
            "text/plain": [
              "[0.06298993215482332,\n",
              " 0.06298993215482332,\n",
              " 0.0642796196795004,\n",
              " 0.0642796196795004,\n",
              " 0.0642796196795004,\n",
              " 0.05981176194336952,\n",
              " 0.0642796196795004,\n",
              " 0.0642796196795004,\n",
              " 0.0642796196795004,\n",
              " 0.0642796196795004,\n",
              " 0.0642796196795004,\n",
              " 0.0642796196795004,\n",
              " 0.0642796196795004,\n",
              " 0.0642796196795004,\n",
              " 0.0642796196795004,\n",
              " 0.06245570964164307,\n",
              " 0.0642796196795004,\n",
              " 0.0642796196795004,\n",
              " 0.06204577953948922,\n",
              " 0.06204577953948922,\n",
              " 0.022070731116674493,\n",
              " 0.05637957325050119,\n",
              " 0.049313678129113574,\n",
              " 0.03697726256188697,\n",
              " 0.0672552484738966,\n",
              " 0.060565622070957274,\n",
              " 0.05819543023986813,\n",
              " 0.05921069501631058,\n",
              " 0.0685633262964689,\n",
              " 0.06355368557190517,\n",
              " 0.06298686765741666,\n",
              " 0.06476589182977524,\n",
              " 0.06785605575675464,\n",
              " 0.06469333606217366,\n",
              " 0.06722934829505543,\n",
              " 0.06409159194471024,\n",
              " 0.059985703896067326,\n",
              " 0.0611768406211416,\n",
              " 0.0664174885218645,\n",
              " 0.05986256312239252,\n",
              " 0.060504341770298654,\n",
              " 0.06628714178617968,\n",
              " 0.06257188903802172,\n",
              " 0.06419758919314864,\n",
              " 0.06429688539622834,\n",
              " 0.06797203889551826,\n",
              " 0.06749459379587763,\n",
              " 0.05573069379040789,\n",
              " 0.05470107183790022,\n",
              " 0.06106160793407209,\n",
              " 0.06560731640635266,\n",
              " 0.061630005014499424,\n",
              " 0.059079923336303325,\n",
              " 0.05951302382903802,\n",
              " 0.0583201835826073,\n",
              " 0.05667468412838819,\n",
              " 0.060878381515125854,\n",
              " 0.0641313507600411,\n",
              " 0.06481204329780395,\n",
              " 0.05220141534981597,\n",
              " 0.06330058370234068,\n",
              " 0.06744934421862273,\n",
              " 0.0605383899565553,\n",
              " 0.06048390856600088,\n",
              " 0.05968448520294927,\n",
              " 0.059937829783056465,\n",
              " 0.06036805951426886,\n",
              " 0.05404330979206033,\n",
              " 0.024198344328196238,\n",
              " 0.014750638187129702,\n",
              " 0.014110330388083627,\n",
              " 0.017252111339971586,\n",
              " 0.016807652920726005,\n",
              " 0.009322135696503269,\n",
              " 0.022148644545853077,\n",
              " 0.017953967469402008,\n",
              " 0.0003379395016125386,\n",
              " 0.0028313631546143993,\n",
              " 0.010582030104995418,\n",
              " 0.0030697330349305782,\n",
              " 0.008807113140433745,\n",
              " 0.020436114682320934,\n",
              " 0.048270204990581836,\n",
              " 0.052041959144809906,\n",
              " 0.005954637256681159,\n",
              " 0.03292920004169606,\n",
              " 0.03885318199771922,\n",
              " 0.026510993528262753,\n",
              " 0.060001986452404774,\n",
              " 0.04659026809090009,\n",
              " 0.024216673878815962,\n",
              " 0.00956616198450615,\n",
              " 0.037057236214943355,\n",
              " 0.043000300106232625,\n",
              " 0.0438794790074745,\n",
              " 0.03185828842992145,\n",
              " 0.05388002405431592,\n",
              " 0.04429186150604609,\n",
              " 0.002281449997308756,\n",
              " 0.003979145544756726,\n",
              " 0.03539366189353862,\n",
              " 0.03277120348900747,\n",
              " 0.056870100096816714,\n",
              " 0.02802109658160135,\n",
              " 0.02631269891082994,\n",
              " 0.021301611738171796,\n",
              " 0.05896172144885475,\n",
              " 0.029524522472884545,\n",
              " 0.05396034865590841,\n",
              " 0.03147478750239486,\n",
              " 0.0015296454649576371,\n",
              " 0.015206404091812327,\n",
              " 0.03950859946671716,\n",
              " 0.010771586254838074,\n",
              " 0.042497427634763454,\n",
              " 0.033412747247874595,\n",
              " 0.028136309183569092,\n",
              " 0.03955967117471881,\n",
              " 0.05664883830095374,\n",
              " 0.05137980160502389,\n",
              " 0.05515881569469571,\n",
              " 0.05281437564907525,\n",
              " 0.04112576126736897,\n",
              " 0.053642686459628774,\n",
              " 0.043118041223134285,\n",
              " 0.049180002334804684,\n",
              " 0.012664377998647126,\n",
              " 0.0489610763826393,\n",
              " 0.05356474125927264,\n",
              " 0.05572364631248883,\n",
              " 0.04853234181251894,\n",
              " 0.02952452247288451,\n",
              " 0.03072088224719956,\n",
              " 0.049799084518295074,\n",
              " 0.05796089480152155,\n",
              " 0.05480093173179798,\n",
              " 0.057702849508677295,\n",
              " 0.054456069284026326,\n",
              " 0.05388002405431595,\n",
              " 0.030080887614990278,\n",
              " 0.05809395131562372,\n",
              " 0.04745876255832062,\n",
              " 0.04319689989978724,\n",
              " 0.0568701000968167,\n",
              " 0.04261244123933464,\n",
              " 0.05014817909084294,\n",
              " 0.014163885755465953,\n",
              " 0.026620413576933386,\n",
              " 0.046069600687340416,\n",
              " 0.03655112402847507,\n",
              " 0.023453154434629146,\n",
              " 0.03919168022309821,\n",
              " 0.6854626414481771,\n",
              " 0.9245916648980916,\n",
              " 0.9535139435933854,\n",
              " 0.9535139435933854,\n",
              " 0.9535139435933854,\n",
              " 0.9153617326579343,\n",
              " 0.8821263291000111,\n",
              " 0.8786904860731487,\n",
              " 0.9000317906748464,\n",
              " 0.9119684484165788,\n",
              " 0.9157270033438428,\n",
              " 0.8269469945960577,\n",
              " 0.782897729350472,\n",
              " 0.5902463755868705,\n",
              " 0.894310847290732,\n",
              " 0.9158664329890006,\n",
              " 0.9535139435933854,\n",
              " 0.9535139435933854,\n",
              " 0.9535139435933854,\n",
              " 0.9535139435933854,\n",
              " 0.9535139435933854,\n",
              " 0.9535139435933854,\n",
              " 0.9399499515917881,\n",
              " 0.9535139435933854,\n",
              " 0.9535139435933854,\n",
              " 0.9299156523627435,\n",
              " 0.9535139435933854,\n",
              " 0.9438916587116813,\n",
              " 0.9341625272399549,\n",
              " 0.9500711560890093,\n",
              " 0.9372459972217541,\n",
              " 0.9399158792370929,\n",
              " 0.9535139435933854,\n",
              " 0.9280031508345353,\n",
              " 0.8814065575604944,\n",
              " 0.7925208275991693,\n",
              " 0.7453690287855859,\n",
              " 0.7191922888127652,\n",
              " 0.7184116974048779,\n",
              " 0.7291244232543014,\n",
              " 0.7325077831715949,\n",
              " 0.734203006756304,\n",
              " 0.7344992938864132,\n",
              " 0.7345654895508406,\n",
              " 0.7351647024670935,\n",
              " 0.7365601680176018,\n",
              " 0.8497650849278006,\n",
              " 0.82941412330854,\n",
              " 0.7866014807394135,\n",
              " 0.7900037671796579,\n",
              " 0.7920761932688968,\n",
              " 0.8135581675326338,\n",
              " 0.8126015180381095,\n",
              " 0.8092266149335123,\n",
              " 0.8206651493097891,\n",
              " 0.8647330414318697,\n",
              " 0.8836645125289819,\n",
              " 0.8760075481119171,\n",
              " 0.8782943349221167,\n",
              " 0.8921746582842547,\n",
              " 0.8892655171501098,\n",
              " 0.8759488667630683,\n",
              " 0.8836287278668292,\n",
              " 0.8683390493987435,\n",
              " 0.8766819591501037,\n",
              " 0.8462020704983914,\n",
              " 0.8680633902859872,\n",
              " 0.845603199301986,\n",
              " 0.8879269868691662,\n",
              " 0.8934513123661812,\n",
              " 0.8817621391393645,\n",
              " 0.8803147962115699,\n",
              " 0.8902764976084133,\n",
              " 0.9032557012785759,\n",
              " 0.9252355342590894,\n",
              " 0.9330376571460524,\n",
              " 0.8250263882023211,\n",
              " 0.9038102314501335,\n",
              " 0.9299156523627435,\n",
              " 0.9004904196759943,\n",
              " 0.9068295874731435,\n",
              " 0.8659460051798733,\n",
              " 0.9004200118324415,\n",
              " 0.9159681447506919,\n",
              " 0.9299156523627435,\n",
              " 0.9535139435933854,\n",
              " 0.9498153819832438,\n",
              " 0.9223097125073819,\n",
              " 0.9413649136797742,\n",
              " 0.9342833825819917,\n",
              " 0.9535139435933854,\n",
              " 0.9535139435933854,\n",
              " 0.9535139435933854,\n",
              " 0.7063527233489867,\n",
              " 0.9521648086728988,\n",
              " 0.9535139435933854,\n",
              " 0.9535139435933854,\n",
              " 0.9220676449740536,\n",
              " 0.8686034571783453,\n",
              " 0.9535139435933854,\n",
              " 0.910054908828213,\n",
              " 0.7684068610939891,\n",
              " 0.8020076796614598,\n",
              " 0.8212485581924237,\n",
              " 0.8661786175455847,\n",
              " 0.9278561070606373,\n",
              " 0.6800682398711463,\n",
              " 0.9535139435933854,\n",
              " 0.8187390877897439,\n",
              " 0.8081652506625923,\n",
              " 0.8552921553650872,\n",
              " 0.8649474058669231,\n",
              " 0.8979584465347383,\n",
              " 0.9399841081964143,\n",
              " 0.756360733769962,\n",
              " 0.021366381957108917,\n",
              " 0.18346117384458982,\n",
              " 0.9160063541042114,\n",
              " 0.9147519671294515,\n",
              " 0.8618734667244392,\n",
              " 0.9173414102162682,\n",
              " 0.8683210478016483,\n",
              " 0.9160063541042114,\n",
              " 0.9504949799061356,\n",
              " 0.48903745980109636,\n",
              " 0.8925947888518662,\n",
              " 0.8897691835679206,\n",
              " 0.8862045635267394,\n",
              " 0.8768925594812144,\n",
              " 0.8958517690138631,\n",
              " 0.9151491413843398,\n",
              " 0.8976417325888776,\n",
              " 0.9027547324678875,\n",
              " 0.8764325364699517,\n",
              " 0.8670750300316137,\n",
              " 0.9000317906748464,\n",
              " 0.9028411090674427,\n",
              " 0.9102994909904154,\n",
              " 0.9028027025858576,\n",
              " 0.3422067140647085,\n",
              " 0.8942110877552902,\n",
              " 0.8859385678029769,\n",
              " 0.8876773489068248,\n",
              " 0.9152240458898944,\n",
              " 0.9141755044463731,\n",
              " 0.898650440899108,\n",
              " 0.8805553793121356,\n",
              " 0.8809902298234938,\n",
              " 0.9016534062014154,\n",
              " 0.6604457486977241,\n",
              " 0.7907865769936406,\n",
              " 0.7915013004774913,\n",
              " 0.8013935542096648,\n",
              " 0.8153228218053317,\n",
              " 0.8242561469110334,\n",
              " 0.8280285552744944,\n",
              " 0.6667415192898638,\n",
              " 0.01389574795147628,\n",
              " 0.036324809127101405,\n",
              " 0.013794108236041805,\n",
              " 0.00031200620923864565,\n",
              " 0.009965022700903525,\n",
              " 0.018652566856784996,\n",
              " 0.012124795605537171,\n",
              " 0.02552058609475109,\n",
              " 0.011262891918718085,\n",
              " 0.0037297833592385876,\n",
              " 0.04203266253049574,\n",
              " 0.0926156420648548,\n",
              " 0.08151857038605158,\n",
              " 0.08779326177193605,\n",
              " 0.08526978386444821,\n",
              " 0.08057670426843412,\n",
              " 0.07822615282375453,\n",
              " 0.07220953462961091,\n",
              " 0.17517538658068707,\n",
              " 0.5081628036228819,\n",
              " 0.49999726582619997,\n",
              " 0.49459823292267635,\n",
              " 0.4509922292088981,\n",
              " 0.4082692038575663,\n",
              " 0.7217073713858424,\n",
              " 0.8358192298513442,\n",
              " 0.8528101496574615,\n",
              " 0.8740722746070096,\n",
              " 0.8800133497172744,\n",
              " 0.8862119658671768,\n",
              " 0.749351483103016,\n",
              " 0.8559677453176303,\n",
              " 0.8370455987213198,\n",
              " 0.815414924162985,\n",
              " 0.8715240029903812,\n",
              " 0.8773086923191684,\n",
              " 0.8790614736922234,\n",
              " 0.730163375404365,\n",
              " 0.7167014346934979,\n",
              " 0.7068187878982628,\n",
              " 0.7084993927357437,\n",
              " 0.7000094393108848,\n",
              " 0.7153619814090422,\n",
              " 0.7066674250324945,\n",
              " 0.7051219803045937,\n",
              " 0.7020048111315098,\n",
              " 0.696582420825264,\n",
              " 0.6936862756295337,\n",
              " 0.7093354324599992,\n",
              " 0.7169237388141746,\n",
              " 0.6058577117570855,\n",
              " 0.5157185102925786,\n",
              " 0.5431609967217299,\n",
              " 0.5940141712001231,\n",
              " 0.6269784781302031,\n",
              " 0.6077758461377273,\n",
              " 0.5517512875114273,\n",
              " 0.6854011791603328,\n",
              " 0.6848278827223075,\n",
              " 0.6734514620767191,\n",
              " 0.7115702632813483,\n",
              " 0.4369665759990954,\n",
              " 0.9204493606453662,\n",
              " 0.9111659820959604,\n",
              " 0.9089482560685984,\n",
              " 0.9244125368663073,\n",
              " 0.9262200569389866,\n",
              " 0.9000317906748563,\n",
              " 0.8582093850848228,\n",
              " 0.8606530830539112,\n",
              " 0.8743470860659945,\n",
              " 0.8827747883604048,\n",
              " 0.7582470689598549,\n",
              " 0.7557356878218116,\n",
              " 0.7647750262802708,\n",
              " 0.775805301509982,\n",
              " 0.888857477193974,\n",
              " 0.9172623596524336,\n",
              " 0.8622174770438246,\n",
              " 0.8491238287204546,\n",
              " 0.9112342025290148,\n",
              " 0.9253693596788614,\n",
              " 0.9095257141130854,\n",
              " 0.9223400974727154,\n",
              " 0.9207379104567706,\n",
              " 0.9158537373389254,\n",
              " 0.9068088556992249,\n",
              " 0.8549743587141908,\n",
              " 0.8099285045268991,\n",
              " 0.8131701485532918,\n",
              " 0.8378105858377847,\n",
              " 0.8408141855887503,\n",
              " 0.8523489475361734,\n",
              " 0.8525767333794825,\n",
              " 0.8402439244372585,\n",
              " 0.8311209339559452,\n",
              " 0.7835981658938557,\n",
              " 0.8425252209030736,\n",
              " 0.8837074759307346,\n",
              " 0.9197805499424302,\n",
              " 0.9202487983785294,\n",
              " 0.9271684705904312,\n",
              " 0.9252188488850496,\n",
              " 0.7772052228965268]"
            ]
          },
          "metadata": {},
          "execution_count": 76
        }
      ]
    },
    {
      "cell_type": "code",
      "source": [
        "##Plotting the calculated Hellinger distances\n",
        "plotGraph(hellinger_dist_rf, 'Hellinger Distance using RF')"
      ],
      "metadata": {
        "colab": {
          "base_uri": "https://localhost:8080/",
          "height": 295
        },
        "id": "HD6nIV5cQGio",
        "outputId": "0688eae0-9f81-4b22-dad5-5dc5bcfa35b0"
      },
      "execution_count": null,
      "outputs": [
        {
          "output_type": "display_data",
          "data": {
            "text/plain": [
              "<Figure size 432x288 with 1 Axes>"
            ],
            "image/png": "[encoded data removed]"
          },
          "metadata": {
            "needs_background": "light"
          }
        }
      ]
    },
    {
      "cell_type": "code",
      "source": [
        "y_pred = rf_model.predict(x_test)\n",
        "print(accuracy_score(y_test,y_pred))"
      ],
      "metadata": {
        "colab": {
          "base_uri": "https://localhost:8080/"
        },
        "id": "30CuOdoBQMpU",
        "outputId": "6118bd49-8505-4991-d8bd-55918e531cd0"
      },
      "execution_count": null,
      "outputs": [
        {
          "output_type": "stream",
          "name": "stdout",
          "text": [
            "0.9860666666666666\n"
          ]
        }
      ]
    },
    {
      "cell_type": "code",
      "source": [
        "print(classification_report(y_test,y_pred))"
      ],
      "metadata": {
        "colab": {
          "base_uri": "https://localhost:8080/"
        },
        "id": "2UTVOCyHQP4B",
        "outputId": "c8ff7bc0-a4b1-4bae-f8e8-2156a70702a7"
      },
      "execution_count": null,
      "outputs": [
        {
          "output_type": "stream",
          "name": "stdout",
          "text": [
            "              precision    recall  f1-score   support\n",
            "\n",
            "           0       0.98      1.00      0.99     16364\n",
            "           1       1.00      0.97      0.98     13636\n",
            "\n",
            "    accuracy                           0.99     30000\n",
            "   macro avg       0.99      0.98      0.99     30000\n",
            "weighted avg       0.99      0.99      0.99     30000\n",
            "\n"
          ]
        }
      ]
    },
    {
      "cell_type": "markdown",
      "source": [
        "## Threshold Calculation\n",
        "\n",
        "Case 1: UL: mean (Mu)"
      ],
      "metadata": {
        "id": "ZM51LOTUSRrg"
      }
    },
    {
      "cell_type": "code",
      "source": [
        "##Function to calculate the mean and standard deviation of a list of Hellinger distances\n",
        "def uhl(dist):\n",
        "  dist = np.array(dist)\n",
        "  mean = np.mean(dist)\n",
        "  stddev = np.std(dist)\n",
        "  return mean,stddev"
      ],
      "metadata": {
        "id": "HlkUcSGkQQ0D"
      },
      "execution_count": null,
      "outputs": []
    },
    {
      "cell_type": "code",
      "source": [
        "##Function to plot the Hellinger distances along with thresholds\n",
        "def plot(dist, mean, stddev, i, title):\n",
        "  y = dist\n",
        "  x = [i for i in range(1, len(dist)+1)]\n",
        "  # plt.axhline(y = uhl, color = 'blue') ##Upper limit passed in function\n",
        "  plt.axhline(y = mean + i*(stddev/2), color = 'green') ##Varying the threshold by adding standard deviation \n",
        "  # plt.axhline(y = uhl - stddev/2, color = 'yellow') ##Varying the threshold by subtracting standard deviation\n",
        "  # plt.scatter(x, y, label= \"stars\", color= \"red\",\n",
        "              # marker= \".\", s=30)\n",
        "  plt.plot(x, y)\n",
        "\n",
        "  plt.xlabel('Batch number')\n",
        "  plt.ylabel('Hellinger Distance')\n",
        "  plt.title(title)\n",
        "  plt.show()"
      ],
      "metadata": {
        "id": "Ri78O3gBSYbE"
      },
      "execution_count": null,
      "outputs": []
    },
    {
      "cell_type": "code",
      "source": [
        "mean_lr, stddev_lr = uhl(hellinger_dist_lr)\n",
        "mean_rf, stddev_rf = uhl(hellinger_dist_rf)\n",
        "mean_svm, stddev_svm = uhl(hellinger_dist_svm) \n",
        "mean_knn, stddev_knn = uhl(hellinger_dist_knn)\n",
        "mean_nb, stddev_nb = uhl(hellinger_dist_nb)"
      ],
      "metadata": {
        "id": "gLFc7h9zSbxE"
      },
      "execution_count": null,
      "outputs": []
    },
    {
      "cell_type": "code",
      "source": [
        "##Returns list of labels for all the frames\n",
        "## 1 : attack, 0: normal\n",
        "##input : hellinger_dis = list of the calculated Hellinger distances\n",
        "##        mean = (mu) mean of the Hellinger distances \n",
        "##        stddev = standard deviation of the Hellinger distances\n",
        "##        i = i for different cases {-1, 0, 1}\n",
        "\n",
        "def list_of_labels(hellinger_dis, mean, stddev, i):\n",
        "  uhl = mean + i * stddev/2\n",
        "  l = []\n",
        "  for i in range(0, len(hellinger_dis)):\n",
        "    if hellinger_dis[i] <= uhl:\n",
        "      l.append(0)\n",
        "    else:\n",
        "      l.append(1)\n",
        "\n",
        "  return l"
      ],
      "metadata": {
        "id": "UtL_BR3DShB2"
      },
      "execution_count": null,
      "outputs": []
    },
    {
      "cell_type": "code",
      "source": [
        "test_list_lr = list_of_labels(hellinger_dist_lr, mean_lr, stddev_lr, 0)\n",
        "test_list_nb = list_of_labels(hellinger_dist_nb, mean_nb, stddev_nb, 0)\n",
        "test_list_svm = list_of_labels(hellinger_dist_svm, mean_svm, stddev_svm, 0)\n",
        "test_list_knn = list_of_labels(hellinger_dist_knn, mean_knn, stddev_knn, 0)\n",
        "test_list_rf = list_of_labels(hellinger_dist_rf, mean_rf, stddev_rf, 0)"
      ],
      "metadata": {
        "id": "iotyWwb9S4Aj"
      },
      "execution_count": null,
      "outputs": []
    },
    {
      "cell_type": "code",
      "source": [
        "df_arr[0]['attack'].values"
      ],
      "metadata": {
        "colab": {
          "base_uri": "https://localhost:8080/"
        },
        "id": "RR63I6KbUjvr",
        "outputId": "7d3c3635-d61f-423d-8d31-a654a1640a1a"
      },
      "execution_count": null,
      "outputs": [
        {
          "output_type": "execute_result",
          "data": {
            "text/plain": [
              "array([0, 0, 0, ..., 0, 0, 0])"
            ]
          },
          "metadata": {},
          "execution_count": 85
        }
      ]
    },
    {
      "cell_type": "code",
      "source": [
        "# if number of attack packets are more than 50% in a profile\n",
        "# then we mark it as an attack batch, else normal batch\n",
        "real = []\n",
        "for i in range(1, len_df):\n",
        "  cnt = 0\n",
        "  for j in df_arr[i]['attack'].values:\n",
        "    cnt += j\n",
        "    \n",
        "  if(cnt >= n/2):\n",
        "    real.append(1)\n",
        "  else:\n",
        "    real.append(0)"
      ],
      "metadata": {
        "id": "8EuEElBoS7mM"
      },
      "execution_count": null,
      "outputs": []
    },
    {
      "cell_type": "code",
      "source": [
        "##Function to return the metrics\n",
        "## tp : True Positive\n",
        "## tn : True Negative\n",
        "## fp : False Positive\n",
        "## fn : False Negative\n",
        "\n",
        "def give_metrics(real, predicted):\n",
        "  tp, tn, fp, fn = 0, 0, 0, 0\n",
        "  for i in range(0, len(predicted)):\n",
        "    if(real[i] == 1 and real[i] == predicted[i]):\n",
        "      tp+=1\n",
        "    elif real[i] == 1 and predicted[i] == 0:\n",
        "      fn+=1\n",
        "    elif real[i] == 0 and predicted[i] == 1:\n",
        "      fp+=1\n",
        "    else:\n",
        "      tn+=1\n",
        "\n",
        "  return tp, tn, fp, fn"
      ],
      "metadata": {
        "id": "3wVMX38mVGBP"
      },
      "execution_count": null,
      "outputs": []
    },
    {
      "cell_type": "code",
      "source": [
        "##Function to calculate the evaluation metrics \n",
        "## Precision, Recall, Accuracy, F1 score\n",
        "\n",
        "def checker(tp, tn, fp, fn):\n",
        "  precision, recall, accuracy, f1 = 0, 0, 0, 0\n",
        "  precision = tp/(tp+fp)\n",
        "  recall = tp/(tp+fn)\n",
        "  accuracy = (tp+tn)/(tp+tn+fp+fn)\n",
        "  f1 = (2*precision*recall)/(precision+recall)\n",
        "\n",
        "  dic = {\"precision\" : precision, \"recall\" : recall, \"accuracy\" : accuracy, \"f1_score\" : f1}\n",
        "\n",
        "  # print(precision,\" \", recall,\" \", accuracy,\" \", f1)\n",
        "  return dic"
      ],
      "metadata": {
        "id": "xcY2OIL1VOWP"
      },
      "execution_count": null,
      "outputs": []
    },
    {
      "cell_type": "code",
      "source": [
        "test_lists = [test_list_lr, test_list_nb, test_list_knn,test_list_rf,test_list_svm]  #TODO: SVM"
      ],
      "metadata": {
        "id": "9gvPyaywVTLL"
      },
      "execution_count": null,
      "outputs": []
    },
    {
      "cell_type": "code",
      "source": [
        "# Case 1: Threshold Values\n",
        "print(\"LR: \",mean_lr)\n",
        "print(\"KNN: \",mean_knn)\n",
        "print(\"NB: \",mean_nb)\n",
        "print(\"SVM: \",mean_svm)\n",
        "print(\"RF: \",mean_rf)"
      ],
      "metadata": {
        "colab": {
          "base_uri": "https://localhost:8080/"
        },
        "id": "lcVcno8xVZ45",
        "outputId": "7ce780fb-5498-4b6a-f214-a3ada7113029"
      },
      "execution_count": null,
      "outputs": [
        {
          "output_type": "stream",
          "name": "stdout",
          "text": [
            "LR:  0.49916565571712057\n",
            "KNN:  0.47500854663594816\n",
            "NB:  0.4903016874895394\n",
            "SVM:  0.4187769886310937\n",
            "RF:  0.5054086058800916\n"
          ]
        }
      ]
    },
    {
      "cell_type": "code",
      "source": [
        "plot(hellinger_dist_lr, mean_lr, stddev_lr, 0, \"using Logistic Regression\")"
      ],
      "metadata": {
        "colab": {
          "base_uri": "https://localhost:8080/",
          "height": 295
        },
        "id": "s9Z7QTmrVd2J",
        "outputId": "4150a47d-976b-4eba-9570-409a6ac77266"
      },
      "execution_count": null,
      "outputs": [
        {
          "output_type": "display_data",
          "data": {
            "text/plain": [
              "<Figure size 432x288 with 1 Axes>"
            ],
            "image/png": "[encoded data removed]"
          },
          "metadata": {
            "needs_background": "light"
          }
        }
      ]
    },
    {
      "cell_type": "code",
      "source": [
        "plot(hellinger_dist_knn, mean_knn, stddev_knn, 0, \"using KNN\")"
      ],
      "metadata": {
        "colab": {
          "base_uri": "https://localhost:8080/",
          "height": 295
        },
        "id": "rd6oUfd0VpHe",
        "outputId": "c3e02496-27e9-4765-da69-995cbd9fa75b"
      },
      "execution_count": null,
      "outputs": [
        {
          "output_type": "display_data",
          "data": {
            "text/plain": [
              "<Figure size 432x288 with 1 Axes>"
            ],
            "image/png": "[encoded data removed]"
          },
          "metadata": {
            "needs_background": "light"
          }
        }
      ]
    },
    {
      "cell_type": "code",
      "source": [
        "plot(hellinger_dist_nb, mean_nb, stddev_nb, 0, \"using Naive Bayes\")"
      ],
      "metadata": {
        "colab": {
          "base_uri": "https://localhost:8080/",
          "height": 295
        },
        "id": "KGdcC4fwVsq8",
        "outputId": "d8b3b95b-34b2-41de-d082-0bedc5145297"
      },
      "execution_count": null,
      "outputs": [
        {
          "output_type": "display_data",
          "data": {
            "text/plain": [
              "<Figure size 432x288 with 1 Axes>"
            ],
            "image/png": "[encoded data removed]"
          },
          "metadata": {
            "needs_background": "light"
          }
        }
      ]
    },
    {
      "cell_type": "code",
      "source": [
        "plot(hellinger_dist_rf, mean_rf, stddev_rf, 0, \"using RF\")"
      ],
      "metadata": {
        "colab": {
          "base_uri": "https://localhost:8080/",
          "height": 295
        },
        "id": "0V2XbVx5VvkL",
        "outputId": "6a572e75-1481-407a-cc9a-6b54ff9fa610"
      },
      "execution_count": null,
      "outputs": [
        {
          "output_type": "display_data",
          "data": {
            "text/plain": [
              "<Figure size 432x288 with 1 Axes>"
            ],
            "image/png": "[encoded data removed]"
          },
          "metadata": {
            "needs_background": "light"
          }
        }
      ]
    },
    {
      "cell_type": "code",
      "source": [
        "plot(hellinger_dist_svm, mean_svm, stddev_svm, 0, \"using SVM\")"
      ],
      "metadata": {
        "colab": {
          "base_uri": "https://localhost:8080/",
          "height": 295
        },
        "id": "_McZTRWvVxxo",
        "outputId": "f8bc73df-9577-4f5d-ab97-d2ee12785682"
      },
      "execution_count": null,
      "outputs": [
        {
          "output_type": "display_data",
          "data": {
            "text/plain": [
              "<Figure size 432x288 with 1 Axes>"
            ],
            "image/png": "[encoded data removed]"
          },
          "metadata": {
            "needs_background": "light"
          }
        }
      ]
    },
    {
      "cell_type": "code",
      "source": [
        "##Function to return evaluation metrics for all the four algorithms in sequence : Logistic Regression, Naive Bayes, SVM, k Nearest Neighbor\n",
        "## Returns a list of dictionary with precision, recall, accuracy and f1 score of all the algorithms\n",
        "def total_metrics(test_lists):\n",
        "  l = []\n",
        "  for i in range(len(test_lists)):\n",
        "    tp, tn, fp, fn = give_metrics(real, test_lists[i])\n",
        "    temp = checker(tp, tn, fp, fn)\n",
        "    l.append(temp)\n",
        "  \n",
        "  return l"
      ],
      "metadata": {
        "id": "0fiWYKKIV24_"
      },
      "execution_count": null,
      "outputs": []
    },
    {
      "cell_type": "code",
      "source": [
        "metrics_case_1 = total_metrics(test_lists) ##0 : logistic regression, 1 : naive bayes, 2 : k nearest neighbors, 3: RF, 4: SVM\n",
        "for dic in metrics_case_1:\n",
        "  print(dic)"
      ],
      "metadata": {
        "colab": {
          "base_uri": "https://localhost:8080/"
        },
        "id": "tr35kgMQV-re",
        "outputId": "0a4bb7d4-7759-451a-fc9a-8b8acabfeda5"
      },
      "execution_count": null,
      "outputs": [
        {
          "output_type": "stream",
          "name": "stdout",
          "text": [
            "{'precision': 1.0, 'recall': 0.9916317991631799, 'accuracy': 0.9951573849878934, 'f1_score': 0.995798319327731}\n",
            "{'precision': 1.0, 'recall': 0.9623430962343096, 'accuracy': 0.9782082324455206, 'f1_score': 0.9808102345415778}\n",
            "{'precision': 1.0, 'recall': 0.9205020920502092, 'accuracy': 0.9539951573849879, 'f1_score': 0.9586056644880174}\n",
            "{'precision': 1.0, 'recall': 0.9748953974895398, 'accuracy': 0.9854721549636803, 'f1_score': 0.9872881355932204}\n",
            "{'precision': 1.0, 'recall': 0.8075313807531381, 'accuracy': 0.8886198547215496, 'f1_score': 0.8935185185185186}\n"
          ]
        }
      ]
    },
    {
      "cell_type": "markdown",
      "source": [
        "Case 2: UL = mean + stddev/2"
      ],
      "metadata": {
        "id": "RxY_7hB6WTwp"
      }
    },
    {
      "cell_type": "code",
      "source": [
        "test_list_lr =  list_of_labels(hellinger_dist_lr, mean_lr, stddev_lr, 1)\n",
        "test_list_nb = list_of_labels(hellinger_dist_nb, mean_nb, stddev_nb, 1)\n",
        "test_list_svm = list_of_labels(hellinger_dist_svm, mean_svm, stddev_svm, 1)\n",
        "test_list_knn = list_of_labels(hellinger_dist_knn, mean_knn, stddev_knn,1)\n",
        "test_list_rf = list_of_labels(hellinger_dist_rf, mean_rf, stddev_rf, 1)"
      ],
      "metadata": {
        "id": "wgH3q_q1WIcx"
      },
      "execution_count": null,
      "outputs": []
    },
    {
      "cell_type": "code",
      "source": [
        "test_lists = [test_list_lr, test_list_nb, test_list_knn,test_list_rf,test_list_svm]  #TODO: SVM"
      ],
      "metadata": {
        "id": "Hfpnp4F9XBM8"
      },
      "execution_count": null,
      "outputs": []
    },
    {
      "cell_type": "code",
      "source": [
        "# Case 2: Threshold Values\n",
        "print(\"LR: \",mean_lr + stddev_lr/2)\n",
        "print(\"KNN: \",mean_knn + stddev_knn/2)\n",
        "print(\"NB: \",mean_nb + stddev_nb/2)\n",
        "print(\"SVM: \",mean_svm + stddev_svm/2)\n",
        "print(\"RF: \",mean_rf + stddev_rf/2)"
      ],
      "metadata": {
        "colab": {
          "base_uri": "https://localhost:8080/"
        },
        "id": "ChI2c0w8XEwz",
        "outputId": "26d12cbc-cda8-46ff-9b5a-26895595eecf"
      },
      "execution_count": null,
      "outputs": [
        {
          "output_type": "stream",
          "name": "stdout",
          "text": [
            "LR:  0.6614965133746169\n",
            "KNN:  0.6447492364128227\n",
            "NB:  0.5963953745164382\n",
            "SVM:  0.5153590389116224\n",
            "RF:  0.7049319949833559\n"
          ]
        }
      ]
    },
    {
      "cell_type": "code",
      "source": [
        "plot(hellinger_dist_lr, mean_lr, stddev_lr, 1, \"using Logistic Regression\")"
      ],
      "metadata": {
        "colab": {
          "base_uri": "https://localhost:8080/",
          "height": 295
        },
        "id": "72MPaovKXH5L",
        "outputId": "da637aeb-aec4-4680-b196-c3e5d17a8ddc"
      },
      "execution_count": null,
      "outputs": [
        {
          "output_type": "display_data",
          "data": {
            "text/plain": [
              "<Figure size 432x288 with 1 Axes>"
            ],
            "image/png": "[encoded data removed]"
          },
          "metadata": {
            "needs_background": "light"
          }
        }
      ]
    },
    {
      "cell_type": "code",
      "source": [
        "plot(hellinger_dist_knn, mean_knn, stddev_knn, 1, \"using KNN\")"
      ],
      "metadata": {
        "colab": {
          "base_uri": "https://localhost:8080/",
          "height": 295
        },
        "id": "clhvWDlSXLr8",
        "outputId": "cd751213-747b-4bd5-b22d-b0438cf97764"
      },
      "execution_count": null,
      "outputs": [
        {
          "output_type": "display_data",
          "data": {
            "text/plain": [
              "<Figure size 432x288 with 1 Axes>"
            ],
            "image/png": "[encoded data removed]"
          },
          "metadata": {
            "needs_background": "light"
          }
        }
      ]
    },
    {
      "cell_type": "code",
      "source": [
        "plot(hellinger_dist_nb, mean_nb, stddev_nb, 1, \"using Naive Bayes\")"
      ],
      "metadata": {
        "colab": {
          "base_uri": "https://localhost:8080/",
          "height": 295
        },
        "id": "3EBUitJwXNkR",
        "outputId": "beb036d0-f329-44e8-fd6d-90f33717a05a"
      },
      "execution_count": null,
      "outputs": [
        {
          "output_type": "display_data",
          "data": {
            "text/plain": [
              "<Figure size 432x288 with 1 Axes>"
            ],
            "image/png": "[encoded data removed]"
          },
          "metadata": {
            "needs_background": "light"
          }
        }
      ]
    },
    {
      "cell_type": "code",
      "source": [
        "plot(hellinger_dist_rf, mean_rf, stddev_rf, 1, \"using RF\")"
      ],
      "metadata": {
        "colab": {
          "base_uri": "https://localhost:8080/",
          "height": 295
        },
        "id": "Jd_HA5nsXPW2",
        "outputId": "7401e839-d58f-4089-94cd-984c632eaa86"
      },
      "execution_count": null,
      "outputs": [
        {
          "output_type": "display_data",
          "data": {
            "text/plain": [
              "<Figure size 432x288 with 1 Axes>"
            ],
            "image/png": "[encoded data removed]"
          },
          "metadata": {
            "needs_background": "light"
          }
        }
      ]
    },
    {
      "cell_type": "code",
      "source": [
        "plot(hellinger_dist_svm, mean_svm, stddev_svm, 1, \"using SVM\")"
      ],
      "metadata": {
        "colab": {
          "base_uri": "https://localhost:8080/",
          "height": 295
        },
        "id": "rq-3M7FCXReI",
        "outputId": "6a88bb60-81a7-409f-c435-61a00e0edeb8"
      },
      "execution_count": null,
      "outputs": [
        {
          "output_type": "display_data",
          "data": {
            "text/plain": [
              "<Figure size 432x288 with 1 Axes>"
            ],
            "image/png": "[encoded data removed]"
          },
          "metadata": {
            "needs_background": "light"
          }
        }
      ]
    },
    {
      "cell_type": "code",
      "source": [
        "metrics_case_2 = total_metrics(test_lists) ##0 : logistic regression, 1 : naive bayes, 2 : k nearest neighbors, 3: RF, 4: SVM\n",
        "for dic in metrics_case_2:\n",
        "  print(dic)"
      ],
      "metadata": {
        "colab": {
          "base_uri": "https://localhost:8080/"
        },
        "id": "Dnn_xJRtXT5W",
        "outputId": "a457b704-cd72-4ce6-f570-44d0fb5d58e5"
      },
      "execution_count": null,
      "outputs": [
        {
          "output_type": "stream",
          "name": "stdout",
          "text": [
            "{'precision': 1.0, 'recall': 0.9497907949790795, 'accuracy': 0.9709443099273608, 'f1_score': 0.9742489270386265}\n",
            "{'precision': 1.0, 'recall': 0.9163179916317992, 'accuracy': 0.9515738498789347, 'f1_score': 0.9563318777292577}\n",
            "{'precision': 1.0, 'recall': 0.7322175732217573, 'accuracy': 0.8450363196125908, 'f1_score': 0.8454106280193237}\n",
            "{'precision': 1.0, 'recall': 0.891213389121339, 'accuracy': 0.937046004842615, 'f1_score': 0.9424778761061947}\n",
            "{'precision': 1.0, 'recall': 0.6652719665271967, 'accuracy': 0.8062953995157385, 'f1_score': 0.7989949748743719}\n"
          ]
        }
      ]
    },
    {
      "cell_type": "markdown",
      "source": [
        "Case 3: UL = mean - stddev/2"
      ],
      "metadata": {
        "id": "LQmM3tjmXeCc"
      }
    },
    {
      "cell_type": "code",
      "source": [
        "test_list_lr =  list_of_labels(hellinger_dist_lr, mean_lr, stddev_lr, -1)\n",
        "test_list_nb = list_of_labels(hellinger_dist_nb, mean_nb, stddev_nb, -1)\n",
        "test_list_svm = list_of_labels(hellinger_dist_svm, mean_svm, stddev_svm, -1)\n",
        "test_list_knn = list_of_labels(hellinger_dist_knn, mean_knn, stddev_knn,-1)\n",
        "test_list_rf = list_of_labels(hellinger_dist_rf, mean_rf, stddev_rf, -1)"
      ],
      "metadata": {
        "id": "g64-UXQkXZ7e"
      },
      "execution_count": null,
      "outputs": []
    },
    {
      "cell_type": "code",
      "source": [
        "test_lists = [test_list_lr, test_list_nb, test_list_knn,test_list_rf,test_list_svm]  #TODO: SVM"
      ],
      "metadata": {
        "id": "5B_dH6j7Xh7J"
      },
      "execution_count": null,
      "outputs": []
    },
    {
      "cell_type": "code",
      "source": [
        "# Case 3: Threshold Values\n",
        "print(\"LR: \",mean_lr - stddev_lr/2)\n",
        "print(\"KNN: \",mean_knn - stddev_knn/2)\n",
        "print(\"NB: \",mean_nb - stddev_nb/2)\n",
        "print(\"SVM: \",mean_svm - stddev_svm/2)\n",
        "print(\"RF: \",mean_rf - stddev_rf/2)"
      ],
      "metadata": {
        "colab": {
          "base_uri": "https://localhost:8080/"
        },
        "id": "hA3tc6evXoDp",
        "outputId": "2e9c0528-5173-41dc-a9e7-31f1ce254fbb"
      },
      "execution_count": null,
      "outputs": [
        {
          "output_type": "stream",
          "name": "stdout",
          "text": [
            "LR:  0.33683479805962424\n",
            "KNN:  0.30526785685907365\n",
            "NB:  0.3842080004626406\n",
            "SVM:  0.322194938350565\n",
            "RF:  0.30588521677682734\n"
          ]
        }
      ]
    },
    {
      "cell_type": "code",
      "source": [
        "plot(hellinger_dist_lr, mean_lr, stddev_lr, -1, \"using Logistic Regression\")"
      ],
      "metadata": {
        "colab": {
          "base_uri": "https://localhost:8080/",
          "height": 295
        },
        "id": "4MKW7kf1XqeQ",
        "outputId": "c60c4583-92e0-4e36-b838-20c1d4df7aee"
      },
      "execution_count": null,
      "outputs": [
        {
          "output_type": "display_data",
          "data": {
            "text/plain": [
              "<Figure size 432x288 with 1 Axes>"
            ],
            "image/png": "[encoded data removed]"
          },
          "metadata": {
            "needs_background": "light"
          }
        }
      ]
    },
    {
      "cell_type": "code",
      "source": [
        "plot(hellinger_dist_knn, mean_knn, stddev_knn, -1, \"using KNN\")"
      ],
      "metadata": {
        "colab": {
          "base_uri": "https://localhost:8080/",
          "height": 295
        },
        "id": "I5LcwHw8XsyT",
        "outputId": "b8baa557-59f6-46bd-9a87-0e5f3396cbcf"
      },
      "execution_count": null,
      "outputs": [
        {
          "output_type": "display_data",
          "data": {
            "text/plain": [
              "<Figure size 432x288 with 1 Axes>"
            ],
            "image/png": "[encoded data removed]"
          },
          "metadata": {
            "needs_background": "light"
          }
        }
      ]
    },
    {
      "cell_type": "code",
      "source": [
        "plot(hellinger_dist_nb, mean_nb, stddev_nb, -1, \"using Naive Bayes\")"
      ],
      "metadata": {
        "colab": {
          "base_uri": "https://localhost:8080/",
          "height": 295
        },
        "id": "J6TIXoJ9Xu4I",
        "outputId": "c50e6fd1-499d-4c3f-9eca-d0529c1e58f8"
      },
      "execution_count": null,
      "outputs": [
        {
          "output_type": "display_data",
          "data": {
            "text/plain": [
              "<Figure size 432x288 with 1 Axes>"
            ],
            "image/png": "[encoded data removed]"
          },
          "metadata": {
            "needs_background": "light"
          }
        }
      ]
    },
    {
      "cell_type": "code",
      "source": [
        "plot(hellinger_dist_rf, mean_rf, stddev_rf, -1, \"using RF\")"
      ],
      "metadata": {
        "colab": {
          "base_uri": "https://localhost:8080/",
          "height": 295
        },
        "id": "Y725Xz4WXwk7",
        "outputId": "845d6991-a90d-4c6e-b9ff-39bc6872609f"
      },
      "execution_count": null,
      "outputs": [
        {
          "output_type": "display_data",
          "data": {
            "text/plain": [
              "<Figure size 432x288 with 1 Axes>"
            ],
            "image/png": "[encoded data removed]"
          },
          "metadata": {
            "needs_background": "light"
          }
        }
      ]
    },
    {
      "cell_type": "code",
      "source": [
        "plot(hellinger_dist_svm, mean_svm, stddev_svm, -1, \"using SVM\")"
      ],
      "metadata": {
        "colab": {
          "base_uri": "https://localhost:8080/",
          "height": 295
        },
        "id": "Z8VzrsIaXyjN",
        "outputId": "39048bf4-4619-457d-b4e1-f04a3abb3fd1"
      },
      "execution_count": null,
      "outputs": [
        {
          "output_type": "display_data",
          "data": {
            "text/plain": [
              "<Figure size 432x288 with 1 Axes>"
            ],
            "image/png": "[encoded data removed]"
          },
          "metadata": {
            "needs_background": "light"
          }
        }
      ]
    },
    {
      "cell_type": "code",
      "source": [
        "metrics_case_3 = total_metrics(test_lists) ##0 : logistic regression, 1 : naive bayes, 2 : k nearest neighbors, 3: RF, 4: SVM\n",
        "for dic in metrics_case_3:\n",
        "  print(dic)"
      ],
      "metadata": {
        "colab": {
          "base_uri": "https://localhost:8080/"
        },
        "id": "-SMFjG6QX17B",
        "outputId": "629965ed-5389-4aa9-d667-b7415e7bcc5a"
      },
      "execution_count": null,
      "outputs": [
        {
          "output_type": "stream",
          "name": "stdout",
          "text": [
            "{'precision': 1.0, 'recall': 1.0, 'accuracy': 1.0, 'f1_score': 1.0}\n",
            "{'precision': 1.0, 'recall': 0.9874476987447699, 'accuracy': 0.9927360774818402, 'f1_score': 0.9936842105263157}\n",
            "{'precision': 0.9875, 'recall': 0.9916317991631799, 'accuracy': 0.9878934624697336, 'f1_score': 0.989561586638831}\n",
            "{'precision': 0.9958333333333333, 'recall': 1.0, 'accuracy': 0.9975786924939467, 'f1_score': 0.9979123173277662}\n",
            "{'precision': 0.8636363636363636, 'recall': 0.8744769874476988, 'accuracy': 0.847457627118644, 'f1_score': 0.8690228690228691}\n"
          ]
        }
      ]
    },
    {
      "cell_type": "code",
      "source": [
        ""
      ],
      "metadata": {
        "id": "ptR3ATcQX7z4"
      },
      "execution_count": null,
      "outputs": []
    }
  ]
}