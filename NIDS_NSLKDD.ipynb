{
  "cells": [
    {
      "cell_type": "code",
      "execution_count": null,
      "metadata": {
        "id": "hrDU8YawCfFl"
      },
      "outputs": [],
      "source": [
        "# module imports\n",
        "import numpy as np \n",
        "import pandas as pd  \n",
        "import math\n",
        "import matplotlib.pyplot as plt\n",
        "import seaborn as sns\n",
        "import itertools\n",
        "import random"
      ]
    },
    {
      "cell_type": "code",
      "execution_count": null,
      "metadata": {
        "id": "dviH-ly2Cqx6"
      },
      "outputs": [],
      "source": [
        " # model imports\n",
        "from sklearn.ensemble import RandomForestClassifier\n",
        "from sklearn.neighbors import KNeighborsClassifier\n",
        "from sklearn.linear_model import LogisticRegression\n",
        "from sklearn.naive_bayes import GaussianNB\n",
        "from sklearn import svm\n",
        "\n",
        "# processing imports\n",
        "from sklearn.preprocessing import LabelEncoder\n",
        "from sklearn.model_selection import train_test_split\n",
        "from sklearn.model_selection import cross_val_score\n",
        "from sklearn.preprocessing import StandardScaler, MinMaxScaler\n",
        "from sklearn.feature_selection import SelectKBest\n",
        "from sklearn.feature_selection import chi2,f_classif\n",
        "from sklearn.feature_selection import RFECV\n",
        "from sklearn.metrics import mean_absolute_error\n",
        "from sklearn.metrics import accuracy_score\n",
        "from sklearn.metrics import confusion_matrix\n",
        "from sklearn.metrics import classification_report"
      ]
    },
    {
      "cell_type": "code",
      "execution_count": null,
      "metadata": {
        "colab": {
          "base_uri": "https://localhost:8080/"
        },
        "id": "Cel0S9huEzJe",
        "outputId": "652786ad-c805-41d2-ef54-ea3efefee57c"
      },
      "outputs": [
        {
          "output_type": "stream",
          "name": "stdout",
          "text": [
            "Mounted at /content/drive\n"
          ]
        }
      ],
      "source": [
        "#Mounting google drive\n",
        "from google.colab import drive\n",
        "drive.mount('/content/drive')"
      ]
    },
    {
      "cell_type": "code",
      "execution_count": null,
      "metadata": {
        "id": "E6blPZWeDpSG"
      },
      "outputs": [],
      "source": [
        "test_df = pd.read_csv('/content/drive/My Drive/KDDTest+.csv')\n",
        "# train_df = pd.read_csv('NSL_KDD-master/NSL_KDD-master/KDDTrain+.csv')\n",
        "# test_df = pd.read_csv('/content/drive/My Drive/KDDTestSmall.csv')\n",
        "train_df = pd.read_csv('/content/drive/My Drive/KDDTrain+.csv')"
      ]
    },
    {
      "cell_type": "code",
      "execution_count": null,
      "metadata": {
        "id": "AreAHoE_Eq3q"
      },
      "outputs": [],
      "source": [
        "#column name\n",
        "columns = ['duration'\n",
        ",'protocol_type'\n",
        ",'service'\n",
        ",'flag'\n",
        ",'src_bytes'\n",
        ",'dst_bytes'\n",
        ",'land'\n",
        ",'wrong_fragment'\n",
        ",'urgent'\n",
        ",'hot'\n",
        ",'num_failed_logins'\n",
        ",'logged_in'\n",
        ",'num_compromised'\n",
        ",'root_shell'\n",
        ",'su_attempted'\n",
        ",'num_root'\n",
        ",'num_file_creations'\n",
        ",'num_shells'\n",
        ",'num_access_files'\n",
        ",'num_outbound_cmds'\n",
        ",'is_host_login'\n",
        ",'is_guest_login'\n",
        ",'count'\n",
        ",'srv_count'\n",
        ",'serror_rate'\n",
        ",'srv_serror_rate'\n",
        ",'rerror_rate'\n",
        ",'srv_rerror_rate'\n",
        ",'same_srv_rate'\n",
        ",'diff_srv_rate'\n",
        ",'srv_diff_host_rate'\n",
        ",'dst_host_count'\n",
        ",'dst_host_srv_count'\n",
        ",'dst_host_same_srv_rate'\n",
        ",'dst_host_diff_srv_rate'\n",
        ",'dst_host_same_src_port_rate'\n",
        ",'dst_host_srv_diff_host_rate'\n",
        ",'dst_host_serror_rate'\n",
        ",'dst_host_srv_serror_rate'\n",
        ",'dst_host_rerror_rate'\n",
        ",'dst_host_srv_rerror_rate'\n",
        ",'attack'\n",
        ",'level']"
      ]
    },
    {
      "cell_type": "code",
      "execution_count": null,
      "metadata": {
        "id": "7FLzLUYFFmMp"
      },
      "outputs": [],
      "source": [
        "train_df.columns = columns\n",
        "test_df.columns = columns"
      ]
    },
    {
      "cell_type": "code",
      "source": [
        "df = pd.concat([train_df,test_df],axis = 0)\n",
        "org_df = df.copy()"
      ],
      "metadata": {
        "id": "Ua0IDf11KnIF"
      },
      "execution_count": null,
      "outputs": []
    },
    {
      "cell_type": "code",
      "source": [
        "print(df.shape)\n",
        "print(train_df.shape)\n",
        "print(test_df.shape)"
      ],
      "metadata": {
        "colab": {
          "base_uri": "https://localhost:8080/"
        },
        "id": "ZRtlqOkwKvQO",
        "outputId": "a66fec98-6680-4312-aa77-81c72bb04464"
      },
      "execution_count": null,
      "outputs": [
        {
          "output_type": "stream",
          "name": "stdout",
          "text": [
            "(148514, 43)\n",
            "(125972, 43)\n",
            "(22542, 43)\n"
          ]
        }
      ]
    },
    {
      "cell_type": "code",
      "execution_count": null,
      "metadata": {
        "colab": {
          "base_uri": "https://localhost:8080/"
        },
        "id": "p2JdJSt8GU-M",
        "outputId": "6b2fc073-ef21-45ae-ade1-6358ce4e8afb"
      },
      "outputs": [
        {
          "output_type": "stream",
          "name": "stdout",
          "text": [
            "<class 'pandas.core.frame.DataFrame'>\n",
            "Int64Index: 148514 entries, 0 to 22541\n",
            "Data columns (total 43 columns):\n",
            " #   Column                       Non-Null Count   Dtype  \n",
            "---  ------                       --------------   -----  \n",
            " 0   duration                     148514 non-null  int64  \n",
            " 1   protocol_type                148514 non-null  object \n",
            " 2   service                      148514 non-null  object \n",
            " 3   flag                         148514 non-null  object \n",
            " 4   src_bytes                    148514 non-null  int64  \n",
            " 5   dst_bytes                    148514 non-null  int64  \n",
            " 6   land                         148514 non-null  int64  \n",
            " 7   wrong_fragment               148514 non-null  int64  \n",
            " 8   urgent                       148514 non-null  int64  \n",
            " 9   hot                          148514 non-null  int64  \n",
            " 10  num_failed_logins            148514 non-null  int64  \n",
            " 11  logged_in                    148514 non-null  int64  \n",
            " 12  num_compromised              148514 non-null  int64  \n",
            " 13  root_shell                   148514 non-null  int64  \n",
            " 14  su_attempted                 148514 non-null  int64  \n",
            " 15  num_root                     148514 non-null  int64  \n",
            " 16  num_file_creations           148514 non-null  int64  \n",
            " 17  num_shells                   148514 non-null  int64  \n",
            " 18  num_access_files             148514 non-null  int64  \n",
            " 19  num_outbound_cmds            148514 non-null  int64  \n",
            " 20  is_host_login                148514 non-null  int64  \n",
            " 21  is_guest_login               148514 non-null  int64  \n",
            " 22  count                        148514 non-null  int64  \n",
            " 23  srv_count                    148514 non-null  int64  \n",
            " 24  serror_rate                  148514 non-null  float64\n",
            " 25  srv_serror_rate              148514 non-null  float64\n",
            " 26  rerror_rate                  148514 non-null  float64\n",
            " 27  srv_rerror_rate              148514 non-null  float64\n",
            " 28  same_srv_rate                148514 non-null  float64\n",
            " 29  diff_srv_rate                148514 non-null  float64\n",
            " 30  srv_diff_host_rate           148514 non-null  float64\n",
            " 31  dst_host_count               148514 non-null  int64  \n",
            " 32  dst_host_srv_count           148514 non-null  int64  \n",
            " 33  dst_host_same_srv_rate       148514 non-null  float64\n",
            " 34  dst_host_diff_srv_rate       148514 non-null  float64\n",
            " 35  dst_host_same_src_port_rate  148514 non-null  float64\n",
            " 36  dst_host_srv_diff_host_rate  148514 non-null  float64\n",
            " 37  dst_host_serror_rate         148514 non-null  float64\n",
            " 38  dst_host_srv_serror_rate     148514 non-null  float64\n",
            " 39  dst_host_rerror_rate         148514 non-null  float64\n",
            " 40  dst_host_srv_rerror_rate     148514 non-null  float64\n",
            " 41  attack                       148514 non-null  object \n",
            " 42  level                        148514 non-null  int64  \n",
            "dtypes: float64(15), int64(24), object(4)\n",
            "memory usage: 49.9+ MB\n"
          ]
        }
      ],
      "source": [
        "df.info()"
      ]
    },
    {
      "cell_type": "code",
      "execution_count": null,
      "metadata": {
        "colab": {
          "base_uri": "https://localhost:8080/"
        },
        "id": "suDYx0U9HW-N",
        "outputId": "2cb29105-e04e-495f-cb5e-4ee0d8227d05"
      },
      "outputs": [
        {
          "output_type": "execute_result",
          "data": {
            "text/plain": [
              "duration                       0\n",
              "protocol_type                  0\n",
              "service                        0\n",
              "flag                           0\n",
              "src_bytes                      0\n",
              "dst_bytes                      0\n",
              "land                           0\n",
              "wrong_fragment                 0\n",
              "urgent                         0\n",
              "hot                            0\n",
              "num_failed_logins              0\n",
              "logged_in                      0\n",
              "num_compromised                0\n",
              "root_shell                     0\n",
              "su_attempted                   0\n",
              "num_root                       0\n",
              "num_file_creations             0\n",
              "num_shells                     0\n",
              "num_access_files               0\n",
              "num_outbound_cmds              0\n",
              "is_host_login                  0\n",
              "is_guest_login                 0\n",
              "count                          0\n",
              "srv_count                      0\n",
              "serror_rate                    0\n",
              "srv_serror_rate                0\n",
              "rerror_rate                    0\n",
              "srv_rerror_rate                0\n",
              "same_srv_rate                  0\n",
              "diff_srv_rate                  0\n",
              "srv_diff_host_rate             0\n",
              "dst_host_count                 0\n",
              "dst_host_srv_count             0\n",
              "dst_host_same_srv_rate         0\n",
              "dst_host_diff_srv_rate         0\n",
              "dst_host_same_src_port_rate    0\n",
              "dst_host_srv_diff_host_rate    0\n",
              "dst_host_serror_rate           0\n",
              "dst_host_srv_serror_rate       0\n",
              "dst_host_rerror_rate           0\n",
              "dst_host_srv_rerror_rate       0\n",
              "attack                         0\n",
              "level                          0\n",
              "dtype: int64"
            ]
          },
          "metadata": {},
          "execution_count": 10
        }
      ],
      "source": [
        "#NaN values\n",
        "df.isna().sum()"
      ]
    },
    {
      "cell_type": "code",
      "execution_count": null,
      "metadata": {
        "id": "hEJoYZv1HoZU"
      },
      "outputs": [],
      "source": [
        "# Binary Classification\n",
        "# mapping a normal traffic as 0 and attack traffic to 1\n",
        "\n",
        "df['attack'] = df.attack.map(lambda x: 0 if x == 'normal' else 1)"
      ]
    },
    {
      "cell_type": "code",
      "execution_count": null,
      "metadata": {
        "colab": {
          "base_uri": "https://localhost:8080/"
        },
        "id": "jCE9bGd5KU7v",
        "outputId": "480769f0-90db-4d87-e888-1c6871c4f47e"
      },
      "outputs": [
        {
          "output_type": "stream",
          "name": "stdout",
          "text": [
            "Protocol type:  ['udp' 'tcp' 'icmp']\n",
            "service:  ['other' 'private' 'http' 'remote_job' 'ftp_data' 'name' 'netbios_ns'\n",
            " 'eco_i' 'mtp' 'telnet' 'finger' 'domain_u' 'supdup' 'uucp_path' 'Z39_50'\n",
            " 'smtp' 'csnet_ns' 'uucp' 'netbios_dgm' 'urp_i' 'auth' 'domain' 'ftp'\n",
            " 'bgp' 'ldap' 'ecr_i' 'gopher' 'vmnet' 'systat' 'http_443' 'efs' 'whois'\n",
            " 'imap4' 'iso_tsap' 'echo' 'klogin' 'link' 'sunrpc' 'login' 'kshell'\n",
            " 'sql_net' 'time' 'hostnames' 'exec' 'ntp_u' 'discard' 'nntp' 'courier'\n",
            " 'ctf' 'ssh' 'daytime' 'shell' 'netstat' 'pop_3' 'nnsp' 'IRC' 'pop_2'\n",
            " 'printer' 'tim_i' 'pm_dump' 'red_i' 'netbios_ssn' 'rje' 'X11' 'urh_i'\n",
            " 'http_8001' 'aol' 'http_2784' 'tftp_u' 'harvest']\n",
            "flag:  ['SF' 'S0' 'REJ' 'RSTR' 'SH' 'RSTO' 'S1' 'RSTOS0' 'S3' 'S2' 'OTH']\n"
          ]
        }
      ],
      "source": [
        "# Data transformation and Processing\n",
        "tooneencode = ['protocol_type']\n",
        "tolabelencode = ['protocol_type','service', 'flag']\n",
        "print(\"Protocol type: \",df['protocol_type'].unique())\n",
        "print(\"service: \",df['service'].unique())\n",
        "print(\"flag: \",df['flag'].unique())"
      ]
    },
    {
      "cell_type": "code",
      "execution_count": null,
      "metadata": {
        "id": "aHzPrPiuO27v"
      },
      "outputs": [],
      "source": [
        "#Label Encoding\n",
        "l = LabelEncoder()\n",
        "for col in tolabelencode:\n",
        "  df[col] = l.fit_transform(df[col])"
      ]
    },
    {
      "cell_type": "code",
      "source": [
        "# feature Scaling\n",
        "min_max = MinMaxScaler()\n",
        "df = min_max.fit_transform(df)\n",
        "df = pd.DataFrame(data = df,columns = columns)"
      ],
      "metadata": {
        "id": "yzoWuDgrGjX6"
      },
      "execution_count": null,
      "outputs": []
    },
    {
      "cell_type": "code",
      "execution_count": null,
      "metadata": {
        "id": "2-8iPOGRmRVk"
      },
      "outputs": [],
      "source": [
        "Y = df[\"attack\"]\n",
        "df.drop([\"attack\"],axis = 1,inplace = True)\n",
        "df[\"attack\"] = Y"
      ]
    },
    {
      "cell_type": "code",
      "execution_count": null,
      "metadata": {
        "colab": {
          "base_uri": "https://localhost:8080/",
          "height": 317
        },
        "id": "W4tgD-moTrWP",
        "outputId": "03462976-6d32-4dd2-d842-74324eede69b"
      },
      "outputs": [
        {
          "output_type": "stream",
          "name": "stdout",
          "text": [
            "(148514, 43)\n"
          ]
        },
        {
          "output_type": "execute_result",
          "data": {
            "text/plain": [
              "   duration  protocol_type   service  flag     src_bytes     dst_bytes  land  \\\n",
              "0       0.0            1.0  0.637681   0.9  1.057999e-07  0.000000e+00   0.0   \n",
              "1       0.0            0.5  0.710145   0.5  0.000000e+00  0.000000e+00   0.0   \n",
              "2       0.0            0.5  0.347826   0.9  1.681203e-07  6.223962e-06   0.0   \n",
              "3       0.0            0.5  0.347826   0.9  1.442067e-07  3.206260e-07   0.0   \n",
              "4       0.0            0.5  0.710145   0.1  0.000000e+00  0.000000e+00   0.0   \n",
              "\n",
              "   wrong_fragment  urgent  hot  ...  dst_host_same_srv_rate  \\\n",
              "0             0.0     0.0  0.0  ...                    0.00   \n",
              "1             0.0     0.0  0.0  ...                    0.10   \n",
              "2             0.0     0.0  0.0  ...                    1.00   \n",
              "3             0.0     0.0  0.0  ...                    1.00   \n",
              "4             0.0     0.0  0.0  ...                    0.07   \n",
              "\n",
              "   dst_host_diff_srv_rate  dst_host_same_src_port_rate  \\\n",
              "0                    0.60                         0.88   \n",
              "1                    0.05                         0.00   \n",
              "2                    0.00                         0.03   \n",
              "3                    0.00                         0.00   \n",
              "4                    0.07                         0.00   \n",
              "\n",
              "   dst_host_srv_diff_host_rate  dst_host_serror_rate  \\\n",
              "0                         0.00                  0.00   \n",
              "1                         0.00                  1.00   \n",
              "2                         0.04                  0.03   \n",
              "3                         0.00                  0.00   \n",
              "4                         0.00                  0.00   \n",
              "\n",
              "   dst_host_srv_serror_rate  dst_host_rerror_rate  dst_host_srv_rerror_rate  \\\n",
              "0                      0.00                   0.0                      0.00   \n",
              "1                      1.00                   0.0                      0.00   \n",
              "2                      0.01                   0.0                      0.01   \n",
              "3                      0.00                   0.0                      0.00   \n",
              "4                      0.00                   1.0                      1.00   \n",
              "\n",
              "      level  attack  \n",
              "0  0.714286     0.0  \n",
              "1  0.904762     1.0  \n",
              "2  1.000000     0.0  \n",
              "3  1.000000     0.0  \n",
              "4  1.000000     1.0  \n",
              "\n",
              "[5 rows x 43 columns]"
            ],
            "text/html": [
              "\n",
              "  <div id=\"df-15aa0056-e78f-4f08-8fa0-34818a6752a1\">\n",
              "    <div class=\"colab-df-container\">\n",
              "      <div>\n",
              "<style scoped>\n",
              "    .dataframe tbody tr th:only-of-type {\n",
              "        vertical-align: middle;\n",
              "    }\n",
              "\n",
              "    .dataframe tbody tr th {\n",
              "        vertical-align: top;\n",
              "    }\n",
              "\n",
              "    .dataframe thead th {\n",
              "        text-align: right;\n",
              "    }\n",
              "</style>\n",
              "<table border=\"1\" class=\"dataframe\">\n",
              "  <thead>\n",
              "    <tr style=\"text-align: right;\">\n",
              "      <th></th>\n",
              "      <th>duration</th>\n",
              "      <th>protocol_type</th>\n",
              "      <th>service</th>\n",
              "      <th>flag</th>\n",
              "      <th>src_bytes</th>\n",
              "      <th>dst_bytes</th>\n",
              "      <th>land</th>\n",
              "      <th>wrong_fragment</th>\n",
              "      <th>urgent</th>\n",
              "      <th>hot</th>\n",
              "      <th>...</th>\n",
              "      <th>dst_host_same_srv_rate</th>\n",
              "      <th>dst_host_diff_srv_rate</th>\n",
              "      <th>dst_host_same_src_port_rate</th>\n",
              "      <th>dst_host_srv_diff_host_rate</th>\n",
              "      <th>dst_host_serror_rate</th>\n",
              "      <th>dst_host_srv_serror_rate</th>\n",
              "      <th>dst_host_rerror_rate</th>\n",
              "      <th>dst_host_srv_rerror_rate</th>\n",
              "      <th>level</th>\n",
              "      <th>attack</th>\n",
              "    </tr>\n",
              "  </thead>\n",
              "  <tbody>\n",
              "    <tr>\n",
              "      <th>0</th>\n",
              "      <td>0.0</td>\n",
              "      <td>1.0</td>\n",
              "      <td>0.637681</td>\n",
              "      <td>0.9</td>\n",
              "      <td>1.057999e-07</td>\n",
              "      <td>0.000000e+00</td>\n",
              "      <td>0.0</td>\n",
              "      <td>0.0</td>\n",
              "      <td>0.0</td>\n",
              "      <td>0.0</td>\n",
              "      <td>...</td>\n",
              "      <td>0.00</td>\n",
              "      <td>0.60</td>\n",
              "      <td>0.88</td>\n",
              "      <td>0.00</td>\n",
              "      <td>0.00</td>\n",
              "      <td>0.00</td>\n",
              "      <td>0.0</td>\n",
              "      <td>0.00</td>\n",
              "      <td>0.714286</td>\n",
              "      <td>0.0</td>\n",
              "    </tr>\n",
              "    <tr>\n",
              "      <th>1</th>\n",
              "      <td>0.0</td>\n",
              "      <td>0.5</td>\n",
              "      <td>0.710145</td>\n",
              "      <td>0.5</td>\n",
              "      <td>0.000000e+00</td>\n",
              "      <td>0.000000e+00</td>\n",
              "      <td>0.0</td>\n",
              "      <td>0.0</td>\n",
              "      <td>0.0</td>\n",
              "      <td>0.0</td>\n",
              "      <td>...</td>\n",
              "      <td>0.10</td>\n",
              "      <td>0.05</td>\n",
              "      <td>0.00</td>\n",
              "      <td>0.00</td>\n",
              "      <td>1.00</td>\n",
              "      <td>1.00</td>\n",
              "      <td>0.0</td>\n",
              "      <td>0.00</td>\n",
              "      <td>0.904762</td>\n",
              "      <td>1.0</td>\n",
              "    </tr>\n",
              "    <tr>\n",
              "      <th>2</th>\n",
              "      <td>0.0</td>\n",
              "      <td>0.5</td>\n",
              "      <td>0.347826</td>\n",
              "      <td>0.9</td>\n",
              "      <td>1.681203e-07</td>\n",
              "      <td>6.223962e-06</td>\n",
              "      <td>0.0</td>\n",
              "      <td>0.0</td>\n",
              "      <td>0.0</td>\n",
              "      <td>0.0</td>\n",
              "      <td>...</td>\n",
              "      <td>1.00</td>\n",
              "      <td>0.00</td>\n",
              "      <td>0.03</td>\n",
              "      <td>0.04</td>\n",
              "      <td>0.03</td>\n",
              "      <td>0.01</td>\n",
              "      <td>0.0</td>\n",
              "      <td>0.01</td>\n",
              "      <td>1.000000</td>\n",
              "      <td>0.0</td>\n",
              "    </tr>\n",
              "    <tr>\n",
              "      <th>3</th>\n",
              "      <td>0.0</td>\n",
              "      <td>0.5</td>\n",
              "      <td>0.347826</td>\n",
              "      <td>0.9</td>\n",
              "      <td>1.442067e-07</td>\n",
              "      <td>3.206260e-07</td>\n",
              "      <td>0.0</td>\n",
              "      <td>0.0</td>\n",
              "      <td>0.0</td>\n",
              "      <td>0.0</td>\n",
              "      <td>...</td>\n",
              "      <td>1.00</td>\n",
              "      <td>0.00</td>\n",
              "      <td>0.00</td>\n",
              "      <td>0.00</td>\n",
              "      <td>0.00</td>\n",
              "      <td>0.00</td>\n",
              "      <td>0.0</td>\n",
              "      <td>0.00</td>\n",
              "      <td>1.000000</td>\n",
              "      <td>0.0</td>\n",
              "    </tr>\n",
              "    <tr>\n",
              "      <th>4</th>\n",
              "      <td>0.0</td>\n",
              "      <td>0.5</td>\n",
              "      <td>0.710145</td>\n",
              "      <td>0.1</td>\n",
              "      <td>0.000000e+00</td>\n",
              "      <td>0.000000e+00</td>\n",
              "      <td>0.0</td>\n",
              "      <td>0.0</td>\n",
              "      <td>0.0</td>\n",
              "      <td>0.0</td>\n",
              "      <td>...</td>\n",
              "      <td>0.07</td>\n",
              "      <td>0.07</td>\n",
              "      <td>0.00</td>\n",
              "      <td>0.00</td>\n",
              "      <td>0.00</td>\n",
              "      <td>0.00</td>\n",
              "      <td>1.0</td>\n",
              "      <td>1.00</td>\n",
              "      <td>1.000000</td>\n",
              "      <td>1.0</td>\n",
              "    </tr>\n",
              "  </tbody>\n",
              "</table>\n",
              "<p>5 rows × 43 columns</p>\n",
              "</div>\n",
              "      <button class=\"colab-df-convert\" onclick=\"convertToInteractive('df-15aa0056-e78f-4f08-8fa0-34818a6752a1')\"\n",
              "              title=\"Convert this dataframe to an interactive table.\"\n",
              "              style=\"display:none;\">\n",
              "        \n",
              "  <svg xmlns=\"http://www.w3.org/2000/svg\" height=\"24px\"viewBox=\"0 0 24 24\"\n",
              "       width=\"24px\">\n",
              "    <path d=\"M0 0h24v24H0V0z\" fill=\"none\"/>\n",
              "    <path d=\"M18.56 5.44l.94 2.06.94-2.06 2.06-.94-2.06-.94-.94-2.06-.94 2.06-2.06.94zm-11 1L8.5 8.5l.94-2.06 2.06-.94-2.06-.94L8.5 2.5l-.94 2.06-2.06.94zm10 10l.94 2.06.94-2.06 2.06-.94-2.06-.94-.94-2.06-.94 2.06-2.06.94z\"/><path d=\"M17.41 7.96l-1.37-1.37c-.4-.4-.92-.59-1.43-.59-.52 0-1.04.2-1.43.59L10.3 9.45l-7.72 7.72c-.78.78-.78 2.05 0 2.83L4 21.41c.39.39.9.59 1.41.59.51 0 1.02-.2 1.41-.59l7.78-7.78 2.81-2.81c.8-.78.8-2.07 0-2.86zM5.41 20L4 18.59l7.72-7.72 1.47 1.35L5.41 20z\"/>\n",
              "  </svg>\n",
              "      </button>\n",
              "      \n",
              "  <style>\n",
              "    .colab-df-container {\n",
              "      display:flex;\n",
              "      flex-wrap:wrap;\n",
              "      gap: 12px;\n",
              "    }\n",
              "\n",
              "    .colab-df-convert {\n",
              "      background-color: #E8F0FE;\n",
              "      border: none;\n",
              "      border-radius: 50%;\n",
              "      cursor: pointer;\n",
              "      display: none;\n",
              "      fill: #1967D2;\n",
              "      height: 32px;\n",
              "      padding: 0 0 0 0;\n",
              "      width: 32px;\n",
              "    }\n",
              "\n",
              "    .colab-df-convert:hover {\n",
              "      background-color: #E2EBFA;\n",
              "      box-shadow: 0px 1px 2px rgba(60, 64, 67, 0.3), 0px 1px 3px 1px rgba(60, 64, 67, 0.15);\n",
              "      fill: #174EA6;\n",
              "    }\n",
              "\n",
              "    [theme=dark] .colab-df-convert {\n",
              "      background-color: #3B4455;\n",
              "      fill: #D2E3FC;\n",
              "    }\n",
              "\n",
              "    [theme=dark] .colab-df-convert:hover {\n",
              "      background-color: #434B5C;\n",
              "      box-shadow: 0px 1px 3px 1px rgba(0, 0, 0, 0.15);\n",
              "      filter: drop-shadow(0px 1px 2px rgba(0, 0, 0, 0.3));\n",
              "      fill: #FFFFFF;\n",
              "    }\n",
              "  </style>\n",
              "\n",
              "      <script>\n",
              "        const buttonEl =\n",
              "          document.querySelector('#df-15aa0056-e78f-4f08-8fa0-34818a6752a1 button.colab-df-convert');\n",
              "        buttonEl.style.display =\n",
              "          google.colab.kernel.accessAllowed ? 'block' : 'none';\n",
              "\n",
              "        async function convertToInteractive(key) {\n",
              "          const element = document.querySelector('#df-15aa0056-e78f-4f08-8fa0-34818a6752a1');\n",
              "          const dataTable =\n",
              "            await google.colab.kernel.invokeFunction('convertToInteractive',\n",
              "                                                     [key], {});\n",
              "          if (!dataTable) return;\n",
              "\n",
              "          const docLinkHtml = 'Like what you see? Visit the ' +\n",
              "            '<a target=\"_blank\" href=https://colab.research.google.com/notebooks/data_table.ipynb>data table notebook</a>'\n",
              "            + ' to learn more about interactive tables.';\n",
              "          element.innerHTML = '';\n",
              "          dataTable['output_type'] = 'display_data';\n",
              "          await google.colab.output.renderOutput(dataTable, element);\n",
              "          const docLink = document.createElement('div');\n",
              "          docLink.innerHTML = docLinkHtml;\n",
              "          element.appendChild(docLink);\n",
              "        }\n",
              "      </script>\n",
              "    </div>\n",
              "  </div>\n",
              "  "
            ]
          },
          "metadata": {},
          "execution_count": 16
        }
      ],
      "source": [
        "print(df.shape)\n",
        "df.head()"
      ]
    },
    {
      "cell_type": "code",
      "execution_count": null,
      "metadata": {
        "id": "NM95EgbtQeYn"
      },
      "outputs": [],
      "source": [
        "#Feature Selection\n",
        "\n",
        "X = df.iloc[:,0:42]\n",
        "Y = df.iloc[:,42]\n",
        "bestfeatures = SelectKBest(score_func=chi2, k=10)\n",
        "fit = bestfeatures.fit(X,Y)"
      ]
    },
    {
      "cell_type": "code",
      "execution_count": null,
      "metadata": {
        "id": "1opB93FzRa8k"
      },
      "outputs": [],
      "source": [
        "dfscores = pd.DataFrame(fit.scores_)\n",
        "dfcolumns = pd.DataFrame(X.columns)"
      ]
    },
    {
      "cell_type": "code",
      "execution_count": null,
      "metadata": {
        "id": "7M1zSGIoSkQl"
      },
      "outputs": [],
      "source": [
        "featureScores = pd.concat([dfcolumns,dfscores],axis=1)\n",
        "featureScores.columns = ['Specs','Score']"
      ]
    },
    {
      "cell_type": "code",
      "execution_count": null,
      "metadata": {
        "colab": {
          "base_uri": "https://localhost:8080/"
        },
        "id": "lmabEOi5Snby",
        "outputId": "a2ddc680-0dff-439b-a6c2-2f5b4c34c65b"
      },
      "outputs": [
        {
          "output_type": "stream",
          "name": "stdout",
          "text": [
            "                       Specs         Score\n",
            "11                 logged_in  39120.091168\n",
            "38  dst_host_srv_serror_rate  38464.242550\n",
            "25           srv_serror_rate  37455.977943\n",
            "24               serror_rate  37343.880396\n",
            "37      dst_host_serror_rate  37053.683895\n",
            "32        dst_host_srv_count  28933.890852\n",
            "33    dst_host_same_srv_rate  24863.064396\n",
            "28             same_srv_rate  21135.120253\n",
            "22                     count  13059.926399\n",
            "26               rerror_rate  11209.071636\n",
            "27           srv_rerror_rate  11208.215280\n",
            "40  dst_host_srv_rerror_rate  10866.952603\n",
            "39      dst_host_rerror_rate  10271.486113\n",
            "3                       flag   6508.377513\n",
            "31            dst_host_count   4287.431065\n",
            "34    dst_host_diff_srv_rate   3982.730083\n",
            "29             diff_srv_rate   3868.572335\n"
          ]
        }
      ],
      "source": [
        "print(featureScores.nlargest(17,'Score')) "
      ]
    },
    {
      "cell_type": "code",
      "execution_count": null,
      "metadata": {
        "colab": {
          "base_uri": "https://localhost:8080/"
        },
        "id": "0p4AzXlVXEDG",
        "outputId": "4cc1e481-dcf8-41d6-c524-e59956633c7e"
      },
      "outputs": [
        {
          "output_type": "execute_result",
          "data": {
            "text/plain": [
              "RandomForestClassifier(random_state=0)"
            ]
          },
          "metadata": {},
          "execution_count": 21
        }
      ],
      "source": [
        "estimator = RandomForestClassifier(random_state=0)\n",
        "estimator.fit(X,Y)"
      ]
    },
    {
      "cell_type": "code",
      "execution_count": null,
      "metadata": {
        "colab": {
          "base_uri": "https://localhost:8080/",
          "height": 279
        },
        "id": "lqvx87WAZv1b",
        "outputId": "b85caa27-7450-41b9-f1f9-8b49be722a34"
      },
      "outputs": [
        {
          "output_type": "display_data",
          "data": {
            "text/plain": [
              "<Figure size 432x288 with 1 Axes>"
            ],
            "image/png": "[encoded data removed]"
          },
          "metadata": {
            "needs_background": "light"
          }
        }
      ],
      "source": [
        "#plot graph of feature importances for better visualization\n",
        "feat_importances = pd.Series(estimator.feature_importances_, index = X.columns)\n",
        "feat_importances.nlargest(17).plot(kind='barh')\n",
        "plt.xlabel('Feature importance')\n",
        "plt.ylabel('Feature')\n",
        "plt.show()"
      ]
    },
    {
      "cell_type": "code",
      "execution_count": null,
      "metadata": {
        "id": "waMwkcjeecRX"
      },
      "outputs": [],
      "source": [
        "features = [\"flag\",\n",
        "            \"protocol_type\",\n",
        "            \"service\",\n",
        "            \"logged_in\",\n",
        "            \"same_srv_rate\",\n",
        "            \"diff_srv_rate\",\n",
        "            \"level\",\n",
        "            \"count\"]"
      ]
    },
    {
      "cell_type": "code",
      "execution_count": null,
      "metadata": {
        "id": "kVwcjKv_gPA3"
      },
      "outputs": [],
      "source": [
        "_df = df[features]"
      ]
    },
    {
      "cell_type": "code",
      "execution_count": null,
      "metadata": {
        "colab": {
          "base_uri": "https://localhost:8080/"
        },
        "id": "keY1woJ4h4pO",
        "outputId": "110ec85c-6395-46e5-b3e4-a7c8e41861ad"
      },
      "outputs": [
        {
          "output_type": "stream",
          "name": "stdout",
          "text": [
            "(148514, 8)\n"
          ]
        }
      ],
      "source": [
        "print(_df.shape)"
      ]
    },
    {
      "cell_type": "code",
      "execution_count": null,
      "metadata": {
        "id": "gL8pAB5pnhGy"
      },
      "outputs": [],
      "source": [
        "#One hot encoding all features\n",
        "df_e = pd.get_dummies(org_df[tooneencode])"
      ]
    },
    {
      "cell_type": "code",
      "execution_count": null,
      "metadata": {
        "id": "jwntxNfLoe_H"
      },
      "outputs": [],
      "source": [
        "_df = _df.drop(tooneencode,axis = 1)"
      ]
    },
    {
      "cell_type": "code",
      "source": [
        "print(_df.shape)\n",
        "print(df_e.shape)"
      ],
      "metadata": {
        "colab": {
          "base_uri": "https://localhost:8080/"
        },
        "id": "cdZCyF-lO_91",
        "outputId": "81b32bfc-0e17-4fc7-8e46-7069d88404fa"
      },
      "execution_count": null,
      "outputs": [
        {
          "output_type": "stream",
          "name": "stdout",
          "text": [
            "(148514, 7)\n",
            "(148514, 3)\n"
          ]
        }
      ]
    },
    {
      "cell_type": "code",
      "execution_count": null,
      "metadata": {
        "id": "Hq-skze4oez1"
      },
      "outputs": [],
      "source": [
        "df_e.reset_index(inplace = True,drop = True)\n",
        "_df = pd.concat([_df,df_e],axis = 1)\n",
        "_df = _df.join(df['attack'])\n",
        "_df['attack'] = _df['attack'].astype(int)"
      ]
    },
    {
      "cell_type": "code",
      "execution_count": null,
      "metadata": {
        "id": "oBhy4-iu7Loz"
      },
      "outputs": [],
      "source": [
        "n = 2000\n",
        "normal_df = _df.loc[_df['attack']==0].iloc[:n]"
      ]
    },
    {
      "cell_type": "code",
      "execution_count": null,
      "metadata": {
        "id": "p0VSoIwU7Loz"
      },
      "outputs": [],
      "source": [
        "normal_idx = normal_df.index.tolist()\n",
        "print(len(normal_idx))\n",
        "normal_df.reset_index(drop = True,inplace = True)"
      ]
    },
    {
      "cell_type": "code",
      "execution_count": null,
      "metadata": {
        "colab": {
          "base_uri": "https://localhost:8080/",
          "height": 206
        },
        "id": "VDQ-lcZs7Lo0",
        "outputId": "8acd5106-1314-43dd-9a6d-b405b3dd3a9b"
      },
      "outputs": [
        {
          "output_type": "execute_result",
          "data": {
            "text/plain": [
              "   flag   service  logged_in  same_srv_rate  diff_srv_rate     level  \\\n",
              "0   0.5  0.710145        0.0           0.05           0.07  0.904762   \n",
              "1   0.1  0.710145        0.0           0.16           0.06  1.000000   \n",
              "2   0.5  0.710145        0.0           0.05           0.06  1.000000   \n",
              "3   0.5  0.710145        0.0           0.14           0.06  1.000000   \n",
              "4   0.5  0.739130        0.0           0.09           0.05  1.000000   \n",
              "\n",
              "      count  protocol_type_icmp  protocol_type_tcp  protocol_type_udp  attack  \n",
              "0  0.240705                   0                  1                  0       1  \n",
              "1  0.236791                   0                  1                  0       1  \n",
              "2  0.324853                   0                  1                  0       1  \n",
              "3  0.228963                   0                  1                  0       1  \n",
              "4  0.528376                   0                  1                  0       1  "
            ],
            "text/html": [
              "\n",
              "  <div id=\"df-c6e6bf2a-dd3f-4436-8eb3-c37cafde857f\">\n",
              "    <div class=\"colab-df-container\">\n",
              "      <div>\n",
              "<style scoped>\n",
              "    .dataframe tbody tr th:only-of-type {\n",
              "        vertical-align: middle;\n",
              "    }\n",
              "\n",
              "    .dataframe tbody tr th {\n",
              "        vertical-align: top;\n",
              "    }\n",
              "\n",
              "    .dataframe thead th {\n",
              "        text-align: right;\n",
              "    }\n",
              "</style>\n",
              "<table border=\"1\" class=\"dataframe\">\n",
              "  <thead>\n",
              "    <tr style=\"text-align: right;\">\n",
              "      <th></th>\n",
              "      <th>flag</th>\n",
              "      <th>service</th>\n",
              "      <th>logged_in</th>\n",
              "      <th>same_srv_rate</th>\n",
              "      <th>diff_srv_rate</th>\n",
              "      <th>level</th>\n",
              "      <th>count</th>\n",
              "      <th>protocol_type_icmp</th>\n",
              "      <th>protocol_type_tcp</th>\n",
              "      <th>protocol_type_udp</th>\n",
              "      <th>attack</th>\n",
              "    </tr>\n",
              "  </thead>\n",
              "  <tbody>\n",
              "    <tr>\n",
              "      <th>0</th>\n",
              "      <td>0.5</td>\n",
              "      <td>0.710145</td>\n",
              "      <td>0.0</td>\n",
              "      <td>0.05</td>\n",
              "      <td>0.07</td>\n",
              "      <td>0.904762</td>\n",
              "      <td>0.240705</td>\n",
              "      <td>0</td>\n",
              "      <td>1</td>\n",
              "      <td>0</td>\n",
              "      <td>1</td>\n",
              "    </tr>\n",
              "    <tr>\n",
              "      <th>1</th>\n",
              "      <td>0.1</td>\n",
              "      <td>0.710145</td>\n",
              "      <td>0.0</td>\n",
              "      <td>0.16</td>\n",
              "      <td>0.06</td>\n",
              "      <td>1.000000</td>\n",
              "      <td>0.236791</td>\n",
              "      <td>0</td>\n",
              "      <td>1</td>\n",
              "      <td>0</td>\n",
              "      <td>1</td>\n",
              "    </tr>\n",
              "    <tr>\n",
              "      <th>2</th>\n",
              "      <td>0.5</td>\n",
              "      <td>0.710145</td>\n",
              "      <td>0.0</td>\n",
              "      <td>0.05</td>\n",
              "      <td>0.06</td>\n",
              "      <td>1.000000</td>\n",
              "      <td>0.324853</td>\n",
              "      <td>0</td>\n",
              "      <td>1</td>\n",
              "      <td>0</td>\n",
              "      <td>1</td>\n",
              "    </tr>\n",
              "    <tr>\n",
              "      <th>3</th>\n",
              "      <td>0.5</td>\n",
              "      <td>0.710145</td>\n",
              "      <td>0.0</td>\n",
              "      <td>0.14</td>\n",
              "      <td>0.06</td>\n",
              "      <td>1.000000</td>\n",
              "      <td>0.228963</td>\n",
              "      <td>0</td>\n",
              "      <td>1</td>\n",
              "      <td>0</td>\n",
              "      <td>1</td>\n",
              "    </tr>\n",
              "    <tr>\n",
              "      <th>4</th>\n",
              "      <td>0.5</td>\n",
              "      <td>0.739130</td>\n",
              "      <td>0.0</td>\n",
              "      <td>0.09</td>\n",
              "      <td>0.05</td>\n",
              "      <td>1.000000</td>\n",
              "      <td>0.528376</td>\n",
              "      <td>0</td>\n",
              "      <td>1</td>\n",
              "      <td>0</td>\n",
              "      <td>1</td>\n",
              "    </tr>\n",
              "  </tbody>\n",
              "</table>\n",
              "</div>\n",
              "      <button class=\"colab-df-convert\" onclick=\"convertToInteractive('df-c6e6bf2a-dd3f-4436-8eb3-c37cafde857f')\"\n",
              "              title=\"Convert this dataframe to an interactive table.\"\n",
              "              style=\"display:none;\">\n",
              "        \n",
              "  <svg xmlns=\"http://www.w3.org/2000/svg\" height=\"24px\"viewBox=\"0 0 24 24\"\n",
              "       width=\"24px\">\n",
              "    <path d=\"M0 0h24v24H0V0z\" fill=\"none\"/>\n",
              "    <path d=\"M18.56 5.44l.94 2.06.94-2.06 2.06-.94-2.06-.94-.94-2.06-.94 2.06-2.06.94zm-11 1L8.5 8.5l.94-2.06 2.06-.94-2.06-.94L8.5 2.5l-.94 2.06-2.06.94zm10 10l.94 2.06.94-2.06 2.06-.94-2.06-.94-.94-2.06-.94 2.06-2.06.94z\"/><path d=\"M17.41 7.96l-1.37-1.37c-.4-.4-.92-.59-1.43-.59-.52 0-1.04.2-1.43.59L10.3 9.45l-7.72 7.72c-.78.78-.78 2.05 0 2.83L4 21.41c.39.39.9.59 1.41.59.51 0 1.02-.2 1.41-.59l7.78-7.78 2.81-2.81c.8-.78.8-2.07 0-2.86zM5.41 20L4 18.59l7.72-7.72 1.47 1.35L5.41 20z\"/>\n",
              "  </svg>\n",
              "      </button>\n",
              "      \n",
              "  <style>\n",
              "    .colab-df-container {\n",
              "      display:flex;\n",
              "      flex-wrap:wrap;\n",
              "      gap: 12px;\n",
              "    }\n",
              "\n",
              "    .colab-df-convert {\n",
              "      background-color: #E8F0FE;\n",
              "      border: none;\n",
              "      border-radius: 50%;\n",
              "      cursor: pointer;\n",
              "      display: none;\n",
              "      fill: #1967D2;\n",
              "      height: 32px;\n",
              "      padding: 0 0 0 0;\n",
              "      width: 32px;\n",
              "    }\n",
              "\n",
              "    .colab-df-convert:hover {\n",
              "      background-color: #E2EBFA;\n",
              "      box-shadow: 0px 1px 2px rgba(60, 64, 67, 0.3), 0px 1px 3px 1px rgba(60, 64, 67, 0.15);\n",
              "      fill: #174EA6;\n",
              "    }\n",
              "\n",
              "    [theme=dark] .colab-df-convert {\n",
              "      background-color: #3B4455;\n",
              "      fill: #D2E3FC;\n",
              "    }\n",
              "\n",
              "    [theme=dark] .colab-df-convert:hover {\n",
              "      background-color: #434B5C;\n",
              "      box-shadow: 0px 1px 3px 1px rgba(0, 0, 0, 0.15);\n",
              "      filter: drop-shadow(0px 1px 2px rgba(0, 0, 0, 0.3));\n",
              "      fill: #FFFFFF;\n",
              "    }\n",
              "  </style>\n",
              "\n",
              "      <script>\n",
              "        const buttonEl =\n",
              "          document.querySelector('#df-c6e6bf2a-dd3f-4436-8eb3-c37cafde857f button.colab-df-convert');\n",
              "        buttonEl.style.display =\n",
              "          google.colab.kernel.accessAllowed ? 'block' : 'none';\n",
              "\n",
              "        async function convertToInteractive(key) {\n",
              "          const element = document.querySelector('#df-c6e6bf2a-dd3f-4436-8eb3-c37cafde857f');\n",
              "          const dataTable =\n",
              "            await google.colab.kernel.invokeFunction('convertToInteractive',\n",
              "                                                     [key], {});\n",
              "          if (!dataTable) return;\n",
              "\n",
              "          const docLinkHtml = 'Like what you see? Visit the ' +\n",
              "            '<a target=\"_blank\" href=https://colab.research.google.com/notebooks/data_table.ipynb>data table notebook</a>'\n",
              "            + ' to learn more about interactive tables.';\n",
              "          element.innerHTML = '';\n",
              "          dataTable['output_type'] = 'display_data';\n",
              "          await google.colab.output.renderOutput(dataTable, element);\n",
              "          const docLink = document.createElement('div');\n",
              "          docLink.innerHTML = docLinkHtml;\n",
              "          element.appendChild(docLink);\n",
              "        }\n",
              "      </script>\n",
              "    </div>\n",
              "  </div>\n",
              "  "
            ]
          },
          "metadata": {},
          "execution_count": 32
        }
      ],
      "source": [
        "_df = _df.drop(normal_idx,axis = 0)\n",
        "_df.reset_index(drop = True,inplace = True)\n",
        "_df.head()"
      ]
    },
    {
      "cell_type": "code",
      "execution_count": null,
      "metadata": {
        "id": "HgI74bMJ7Lo0"
      },
      "outputs": [],
      "source": [
        "n=2000\n",
        "df_arr=[_df[i:i+n] for i in range(0,_df.shape[0],n)]"
      ]
    },
    {
      "cell_type": "code",
      "execution_count": null,
      "metadata": {
        "id": "TaR8Qw_57Lo0",
        "colab": {
          "base_uri": "https://localhost:8080/"
        },
        "outputId": "1546781b-a4fe-42b5-e115-a439c8dd91b9"
      },
      "outputs": [
        {
          "output_type": "stream",
          "name": "stdout",
          "text": [
            "74\n"
          ]
        }
      ],
      "source": [
        "len_df=len(df_arr)\n",
        "print(len_df)"
      ]
    },
    {
      "cell_type": "code",
      "execution_count": null,
      "metadata": {
        "id": "7dUgoMM_7Lo0"
      },
      "outputs": [],
      "source": [
        "testsize = 50\n",
        "_frames=[]\n",
        "for i in range(testsize):\n",
        "    _frames.append(df_arr[i])\n",
        "train_fr=pd.concat(_frames)\n",
        "\n",
        "\n",
        "_frames.clear()\n",
        "for i in range(testsize,len_df):\n",
        "    _frames.append(df_arr[i])\n",
        "test_fr=pd.concat(_frames)"
      ]
    },
    {
      "cell_type": "code",
      "execution_count": null,
      "metadata": {
        "id": "du9lfAUE7Lo1"
      },
      "outputs": [],
      "source": [
        "#Function to calculate Hellinger distance between two probability distributions\n",
        "def hellinger(p, q):\n",
        "\n",
        "  dis = math.sqrt(sum(\n",
        "      [(math.sqrt(p_i) - math.sqrt(q_i))**2 for p_i, q_i in zip(p, q)]\n",
        "      )/2)\n",
        "  return dis"
      ]
    },
    {
      "cell_type": "code",
      "execution_count": null,
      "metadata": {
        "id": "DpJ2ovU_7Lo1"
      },
      "outputs": [],
      "source": [
        "##Function to get average probability distribution from a batch of probability distibutions \n",
        "def getProba(x_test, model, n):\n",
        "  proba = model.predict_proba(x_test)\n",
        "  t = [proba[0][0], proba[0][1]]\n",
        "  for i in range(x_test.shape[0]):\n",
        "    t[0]+=proba[i][0]\n",
        "    t[1]+=proba[i][1]\n",
        "\n",
        "  t[0]/=n\n",
        "  t[1]/=n\n",
        "  return t"
      ]
    },
    {
      "cell_type": "code",
      "execution_count": null,
      "metadata": {
        "id": "PHnfx-Oo7Lo1"
      },
      "outputs": [],
      "source": [
        "test_fr.reset_index(drop = True,inplace = True)"
      ]
    },
    {
      "cell_type": "code",
      "source": [
        "print(test_fr.shape)\n",
        "print(train_fr.shape)"
      ],
      "metadata": {
        "colab": {
          "base_uri": "https://localhost:8080/"
        },
        "id": "-eJIkSpaSrhx",
        "outputId": "725ee5f5-9fa8-4597-e94f-e97d6dbf46c2"
      },
      "execution_count": null,
      "outputs": [
        {
          "output_type": "stream",
          "name": "stdout",
          "text": [
            "(46514, 11)\n",
            "(100000, 11)\n"
          ]
        }
      ]
    },
    {
      "cell_type": "code",
      "execution_count": null,
      "metadata": {
        "id": "6tWUIG9g7Lo2"
      },
      "outputs": [],
      "source": [
        "##Calculating Hellinger distance between the probability distribution of the training set and other batches\n",
        "##input : model (Trained model on a classification ML algorithm)\n",
        "##output : Hellinger distance between the training set and other remaining sets \n",
        "def hellingerForAll(normal_df,df,model,n) :\n",
        "  m = normal_df.shape[1]\n",
        "  model_proba = getProba(normal_df.iloc[:,0:m-1], model, n)\n",
        "\n",
        "  cnt = len(df)\n",
        "  dist = []\n",
        "  for i in range(0, cnt):\n",
        "    y_pred = getProba(df[i].iloc[:,0:m-1], model, n)\n",
        "    dist.append(hellinger(model_proba, y_pred))\n",
        "  return dist"
      ]
    },
    {
      "cell_type": "code",
      "execution_count": null,
      "metadata": {
        "id": "98rTMDmo7Lo2"
      },
      "outputs": [],
      "source": [
        "##Function to plot scatter plot \n",
        "##input : dist (A list containing the Hellinger distances of the different sets)\n",
        "##        title (Title of Graph, a string)\n",
        "def plotGraph(dist,df, title): \n",
        "  cnt = len(df)\n",
        "  y = dist\n",
        "  x = [i for i in range(0, cnt)]\n",
        "  plt.scatter(x, y, label= \"stars\", color= \"red\",\n",
        "              marker= \"*\", s=30)\n",
        "\n",
        "  plt.xlabel('Batch number')\n",
        "  plt.ylabel('Hellinger Distance')\n",
        "  plt.title(title)\n",
        "  plt.show()"
      ]
    },
    {
      "cell_type": "code",
      "execution_count": null,
      "metadata": {
        "id": "9axCSV0t7Lo2"
      },
      "outputs": [],
      "source": [
        "m = train_fr.shape[1]\n",
        "x_train = train_fr.iloc[:,0:m-1]\n",
        "y_train = train_fr.iloc[:,m-1]\n",
        "\n",
        "x_test = test_fr.iloc[:,0:m-1]\n",
        "y_test = test_fr.iloc[:,m-1]"
      ]
    },
    {
      "cell_type": "code",
      "execution_count": null,
      "metadata": {
        "colab": {
          "base_uri": "https://localhost:8080/"
        },
        "id": "UtKV77TR7Lo2",
        "outputId": "3724ceec-5b5b-4756-a788-5a4cf0db6bd2"
      },
      "outputs": [
        {
          "output_type": "execute_result",
          "data": {
            "text/plain": [
              "LogisticRegression(max_iter=1000)"
            ]
          },
          "metadata": {},
          "execution_count": 43
        }
      ],
      "source": [
        "#Logistic Regression\n",
        "lr_model = LogisticRegression(max_iter = 1000)\n",
        "lr_model.fit(x_train,y_train)"
      ]
    },
    {
      "cell_type": "code",
      "execution_count": null,
      "metadata": {
        "colab": {
          "base_uri": "https://localhost:8080/"
        },
        "id": "SF__69m17Lo3",
        "outputId": "58c8086e-8872-4ed3-9d5c-4b570b01daa0"
      },
      "outputs": [
        {
          "output_type": "stream",
          "name": "stdout",
          "text": [
            "0.9241948660618309\n",
            "              precision    recall  f1-score   support\n",
            "\n",
            "           0       0.91      0.94      0.92     22519\n",
            "           1       0.94      0.91      0.93     23995\n",
            "\n",
            "    accuracy                           0.92     46514\n",
            "   macro avg       0.92      0.92      0.92     46514\n",
            "weighted avg       0.92      0.92      0.92     46514\n",
            "\n"
          ]
        }
      ],
      "source": [
        "y_pred = lr_model.predict(x_test)\n",
        "print(accuracy_score(y_test,y_pred))\n",
        "print(classification_report(y_test,y_pred))"
      ]
    },
    {
      "cell_type": "code",
      "execution_count": null,
      "metadata": {
        "colab": {
          "base_uri": "https://localhost:8080/"
        },
        "id": "dIiTZtSV7Lo3",
        "outputId": "1949186b-4548-4e75-872b-fbdcfe468582"
      },
      "outputs": [
        {
          "output_type": "execute_result",
          "data": {
            "text/plain": [
              "[0.35923707618490563,\n",
              " 0.3669827980653847,\n",
              " 0.36008404531539495,\n",
              " 0.36249365282766266,\n",
              " 0.35530034226347934,\n",
              " 0.3496872011749842,\n",
              " 0.34664898608458095,\n",
              " 0.3587491411736462,\n",
              " 0.3587689805901639,\n",
              " 0.3746622505402566,\n",
              " 0.3515178891566261,\n",
              " 0.3625175813695002,\n",
              " 0.38376141245492634,\n",
              " 0.3921708163463976,\n",
              " 0.3923608164173913,\n",
              " 0.3879782565137726,\n",
              " 0.3818733503064677,\n",
              " 0.37058445234347465,\n",
              " 0.3875674329479031,\n",
              " 0.3838614161651807,\n",
              " 0.3880947502954924,\n",
              " 0.38790440731911674,\n",
              " 0.38683089136381993,\n",
              " 0.4444597676699957]"
            ]
          },
          "metadata": {},
          "execution_count": 45
        }
      ],
      "source": [
        "hellinger_dist_lr = hellingerForAll(normal_df,df_arr[testsize:],lr_model,n)\n",
        "hellinger_dist_lr"
      ]
    },
    {
      "cell_type": "code",
      "execution_count": null,
      "metadata": {
        "colab": {
          "base_uri": "https://localhost:8080/",
          "height": 295
        },
        "id": "uqq2Ita87Lo3",
        "outputId": "6d7b18d9-806c-4637-ee77-cdce7dff9095"
      },
      "outputs": [
        {
          "output_type": "display_data",
          "data": {
            "text/plain": [
              "<Figure size 432x288 with 1 Axes>"
            ],
            "image/png": "[encoded data removed]"
          },
          "metadata": {
            "needs_background": "light"
          }
        }
      ],
      "source": [
        "##Plotting the calculated Hellinger distances\n",
        "plotGraph(hellinger_dist_lr,df_arr[testsize:], 'Hellinger Distance using LR')"
      ]
    },
    {
      "cell_type": "code",
      "execution_count": null,
      "metadata": {
        "colab": {
          "base_uri": "https://localhost:8080/"
        },
        "id": "1qfftfKX7Lo3",
        "outputId": "5dbaa1f3-1b90-4002-af09-f1f5343d05df"
      },
      "outputs": [
        {
          "output_type": "execute_result",
          "data": {
            "text/plain": [
              "RandomForestClassifier()"
            ]
          },
          "metadata": {},
          "execution_count": 47
        }
      ],
      "source": [
        "#Random Forest\n",
        "rf_model = RandomForestClassifier()\n",
        "rf_model.fit(x_train,y_train)"
      ]
    },
    {
      "cell_type": "code",
      "execution_count": null,
      "metadata": {
        "colab": {
          "base_uri": "https://localhost:8080/"
        },
        "id": "_C45Wh1v7Lo4",
        "outputId": "b5699b41-4c20-4915-ca24-5307bbb6c894"
      },
      "outputs": [
        {
          "output_type": "stream",
          "name": "stdout",
          "text": [
            "0.9222814636453541\n",
            "              precision    recall  f1-score   support\n",
            "\n",
            "           0       0.89      0.96      0.92     22519\n",
            "           1       0.96      0.89      0.92     23995\n",
            "\n",
            "    accuracy                           0.92     46514\n",
            "   macro avg       0.92      0.92      0.92     46514\n",
            "weighted avg       0.93      0.92      0.92     46514\n",
            "\n"
          ]
        }
      ],
      "source": [
        "y_pred = rf_model.predict(x_test)\n",
        "print(accuracy_score(y_test,y_pred))\n",
        "print(classification_report(y_test,y_pred))"
      ]
    },
    {
      "cell_type": "code",
      "execution_count": null,
      "metadata": {
        "colab": {
          "base_uri": "https://localhost:8080/"
        },
        "id": "65wm12637Lo4",
        "outputId": "17e54a39-aa18-4f1e-ebc5-6150e9b01ea3"
      },
      "outputs": [
        {
          "output_type": "execute_result",
          "data": {
            "text/plain": [
              "[0.46614225867371595,\n",
              " 0.47286739088639723,\n",
              " 0.46469260935741585,\n",
              " 0.4663251548544135,\n",
              " 0.4574168798693999,\n",
              " 0.4554022557049957,\n",
              " 0.45199463886115104,\n",
              " 0.458440120142694,\n",
              " 0.46403278938684367,\n",
              " 0.47458063835343184,\n",
              " 0.4524864303538934,\n",
              " 0.4669041861771934,\n",
              " 0.4734559168603969,\n",
              " 0.47497597968148364,\n",
              " 0.48003522826252226,\n",
              " 0.4727618845846008,\n",
              " 0.4729443459291631,\n",
              " 0.4542096131353868,\n",
              " 0.47580070554606274,\n",
              " 0.47390520000361863,\n",
              " 0.4772315409050056,\n",
              " 0.471258057747099,\n",
              " 0.47019640012686825,\n",
              " 0.48558714393341185]"
            ]
          },
          "metadata": {},
          "execution_count": 49
        }
      ],
      "source": [
        "hellinger_dist_rf = hellingerForAll(normal_df,df_arr[testsize:],rf_model,n)\n",
        "hellinger_dist_rf"
      ]
    },
    {
      "cell_type": "code",
      "execution_count": null,
      "metadata": {
        "colab": {
          "base_uri": "https://localhost:8080/",
          "height": 295
        },
        "id": "h3Nh6Kp47Lo4",
        "outputId": "d7bf1703-2fca-46b7-8fc5-10c02ab631f0"
      },
      "outputs": [
        {
          "output_type": "display_data",
          "data": {
            "text/plain": [
              "<Figure size 432x288 with 1 Axes>"
            ],
            "image/png": "[encoded data removed]"
          },
          "metadata": {
            "needs_background": "light"
          }
        }
      ],
      "source": [
        "##Plotting the calculated Hellinger distances\n",
        "plotGraph(hellinger_dist_rf,df_arr[testsize:], 'Hellinger Distance using RF')"
      ]
    },
    {
      "cell_type": "code",
      "execution_count": null,
      "metadata": {
        "colab": {
          "base_uri": "https://localhost:8080/"
        },
        "id": "0BYwIuh57Lo4",
        "outputId": "886bd911-fa57-4226-9cbe-2a628850e9f8"
      },
      "outputs": [
        {
          "output_type": "execute_result",
          "data": {
            "text/plain": [
              "KNeighborsClassifier(n_neighbors=10)"
            ]
          },
          "metadata": {},
          "execution_count": 51
        }
      ],
      "source": [
        "#K Nearest Neighbour\n",
        "knn_model = KNeighborsClassifier(n_neighbors = 10)\n",
        "knn_model.fit(x_train,y_train)"
      ]
    },
    {
      "cell_type": "code",
      "execution_count": null,
      "metadata": {
        "colab": {
          "base_uri": "https://localhost:8080/"
        },
        "id": "yj_jNOAS7Lo5",
        "outputId": "b22d92b4-d05b-4e53-a1c0-b45af0589c7d"
      },
      "outputs": [
        {
          "output_type": "stream",
          "name": "stdout",
          "text": [
            "0.9361052586318098\n",
            "              precision    recall  f1-score   support\n",
            "\n",
            "           0       0.90      0.98      0.94     22519\n",
            "           1       0.98      0.89      0.94     23995\n",
            "\n",
            "    accuracy                           0.94     46514\n",
            "   macro avg       0.94      0.94      0.94     46514\n",
            "weighted avg       0.94      0.94      0.94     46514\n",
            "\n"
          ]
        }
      ],
      "source": [
        "y_pred = knn_model.predict(x_test)\n",
        "print(accuracy_score(y_test,y_pred))\n",
        "print(classification_report(y_test,y_pred))"
      ]
    },
    {
      "cell_type": "code",
      "source": [
        "hellinger_dist_knn = hellingerForAll(normal_df,df_arr[testsize:],knn_model,n)\n",
        "hellinger_dist_knn"
      ],
      "metadata": {
        "colab": {
          "base_uri": "https://localhost:8080/"
        },
        "id": "s2dwLHXs0M1S",
        "outputId": "9fbf024e-0e3c-47f1-be4f-bbbdf4748165"
      },
      "execution_count": null,
      "outputs": [
        {
          "output_type": "execute_result",
          "data": {
            "text/plain": [
              "[0.46596966700648473,\n",
              " 0.47431357129343016,\n",
              " 0.4651671104401318,\n",
              " 0.4670727194189811,\n",
              " 0.45796413976729683,\n",
              " 0.45594943576402186,\n",
              " 0.4530579636643475,\n",
              " 0.4587358938011325,\n",
              " 0.4640631231671871,\n",
              " 0.4750465263234189,\n",
              " 0.45369716441042374,\n",
              " 0.46717297068363545,\n",
              " 0.4655349844093621,\n",
              " 0.46967786648524945,\n",
              " 0.47281371858979643,\n",
              " 0.46620369230305675,\n",
              " 0.4645315487686541,\n",
              " 0.4474298371164901,\n",
              " 0.47117956026752583,\n",
              " 0.4666382469837459,\n",
              " 0.47091265888865586,\n",
              " 0.46546810272163974,\n",
              " 0.46376193953035105,\n",
              " 0.48208604859623716]"
            ]
          },
          "metadata": {},
          "execution_count": 62
        }
      ]
    },
    {
      "cell_type": "code",
      "source": [
        "##Plotting the calculated Hellinger distances\n",
        "plotGraph(hellinger_dist_knn,df_arr[testsize:], 'Hellinger Distance using KNN')"
      ],
      "metadata": {
        "colab": {
          "base_uri": "https://localhost:8080/",
          "height": 295
        },
        "id": "yC94GMxU0XXA",
        "outputId": "b1b27d52-55bf-4578-b988-c90d9b61fcb3"
      },
      "execution_count": null,
      "outputs": [
        {
          "output_type": "display_data",
          "data": {
            "text/plain": [
              "<Figure size 432x288 with 1 Axes>"
            ],
            "image/png": "[encoded data removed]"
          },
          "metadata": {
            "needs_background": "light"
          }
        }
      ]
    },
    {
      "cell_type": "code",
      "execution_count": null,
      "metadata": {
        "colab": {
          "base_uri": "https://localhost:8080/"
        },
        "id": "K85AZXdd7Lo5",
        "outputId": "16d4f58b-7731-429b-e3e9-f2a34c3822c0"
      },
      "outputs": [
        {
          "output_type": "execute_result",
          "data": {
            "text/plain": [
              "GaussianNB()"
            ]
          },
          "metadata": {},
          "execution_count": 53
        }
      ],
      "source": [
        "##Using Naive Bayes classifier\n",
        "nb_model = GaussianNB()\n",
        "nb_model.fit(x_train, y_train)"
      ]
    },
    {
      "cell_type": "code",
      "execution_count": null,
      "metadata": {
        "colab": {
          "base_uri": "https://localhost:8080/"
        },
        "id": "wHu49dxs7Lo5",
        "outputId": "c5965a8c-5840-48c2-f2e0-c4bcb9dcb6c6"
      },
      "outputs": [
        {
          "output_type": "stream",
          "name": "stdout",
          "text": [
            "0.8696091499333534\n",
            "              precision    recall  f1-score   support\n",
            "\n",
            "           0       0.84      0.91      0.87     22519\n",
            "           1       0.90      0.83      0.87     23995\n",
            "\n",
            "    accuracy                           0.87     46514\n",
            "   macro avg       0.87      0.87      0.87     46514\n",
            "weighted avg       0.87      0.87      0.87     46514\n",
            "\n"
          ]
        }
      ],
      "source": [
        "y_pred = nb_model.predict(x_test)\n",
        "print(accuracy_score(y_test,y_pred))\n",
        "print(classification_report(y_test,y_pred))"
      ]
    },
    {
      "cell_type": "code",
      "execution_count": null,
      "metadata": {
        "colab": {
          "base_uri": "https://localhost:8080/"
        },
        "id": "z9LtoscI7Lo5",
        "outputId": "4a0b7a48-3b34-47f1-a956-eeecd02c6f80"
      },
      "outputs": [
        {
          "output_type": "execute_result",
          "data": {
            "text/plain": [
              "[0.32290325554720045,\n",
              " 0.33243378298246334,\n",
              " 0.32636176057421773,\n",
              " 0.32780786120820066,\n",
              " 0.3193645608559747,\n",
              " 0.3106829791281526,\n",
              " 0.3065673624678727,\n",
              " 0.3257208891483785,\n",
              " 0.3174471763809238,\n",
              " 0.33716592669634204,\n",
              " 0.31564016645133836,\n",
              " 0.3219210943409313,\n",
              " 0.30765640447073334,\n",
              " 0.31500152797876735,\n",
              " 0.310443880920412,\n",
              " 0.3081039521481743,\n",
              " 0.30128431197917027,\n",
              " 0.2881906463502445,\n",
              " 0.30511656816634897,\n",
              " 0.3001723167323515,\n",
              " 0.3083155622123262,\n",
              " 0.3058959639084911,\n",
              " 0.30421060170964975,\n",
              " 0.4109710260526097]"
            ]
          },
          "metadata": {},
          "execution_count": 55
        }
      ],
      "source": [
        "hellinger_dist_nb = hellingerForAll(normal_df,df_arr[testsize:],nb_model,n)\n",
        "hellinger_dist_nb"
      ]
    },
    {
      "cell_type": "code",
      "execution_count": null,
      "metadata": {
        "colab": {
          "base_uri": "https://localhost:8080/",
          "height": 295
        },
        "id": "awLqJmpU7Lo6",
        "outputId": "bb8f40b6-3c15-48cf-ef90-7390d972ac79"
      },
      "outputs": [
        {
          "output_type": "display_data",
          "data": {
            "text/plain": [
              "<Figure size 432x288 with 1 Axes>"
            ],
            "image/png": "[encoded data removed]"
          },
          "metadata": {
            "needs_background": "light"
          }
        }
      ],
      "source": [
        "plotGraph(hellinger_dist_nb,df_arr[testsize:], 'Hellinger Distance using Naive Bayes')"
      ]
    },
    {
      "cell_type": "code",
      "source": [
        "# svm_model = svm.SVC(probability=True)\n",
        "# svm_model.fit(x_train, y_train)"
      ],
      "metadata": {
        "id": "EgshWlsgM6R8"
      },
      "execution_count": null,
      "outputs": []
    },
    {
      "cell_type": "code",
      "source": [
        "# y_pred = svm_model.predict(x_test)\n",
        "# print(accuracy_score(y_test,y_pred))\n",
        "# print(classification_report(y_test,y_pred))"
      ],
      "metadata": {
        "id": "admoPlQjTJd1"
      },
      "execution_count": null,
      "outputs": []
    },
    {
      "cell_type": "code",
      "source": [
        "# hellinger_dist_svm = hellingerForAll(normal_df,df_arr[testsize:],svm_model,n)\n",
        "# hellinger_dist_svm"
      ],
      "metadata": {
        "id": "uY5I8xSjTmXU"
      },
      "execution_count": null,
      "outputs": []
    },
    {
      "cell_type": "code",
      "source": [
        "# plotGraph(hellinger_dist_svm,df_arr[testsize:], 'Hellinger Distance using SVM')"
      ],
      "metadata": {
        "id": "2VI2A19xWWiV"
      },
      "execution_count": null,
      "outputs": []
    },
    {
      "cell_type": "markdown",
      "source": [
        "#Threshold Calculation\n",
        "\n",
        "Case 1: UL: mean (Mu)"
      ],
      "metadata": {
        "id": "BsQUAC4rWiPO"
      }
    },
    {
      "cell_type": "code",
      "source": [
        "##Function to calculate the mean and standard deviation of a list of Hellinger distances\n",
        "def uhl(dist):\n",
        "  dist = np.array(dist)\n",
        "  mean = np.mean(dist)\n",
        "  stddev = np.std(dist)\n",
        "  return mean,stddev"
      ],
      "metadata": {
        "id": "lDa7Q7hVWePd"
      },
      "execution_count": null,
      "outputs": []
    },
    {
      "cell_type": "code",
      "source": [
        "##Function to plot the Hellinger distances along with thresholds\n",
        "def plot(dist, mean, stddev, i, title):\n",
        "  y = dist\n",
        "  x = [i for i in range(1, len(dist)+1)]\n",
        "  # plt.axhline(y = uhl, color = 'blue') ##Upper limit passed in function\n",
        "  plt.axhline(y = mean + i*(stddev/2), color = 'green') ##Varying the threshold by adding standard deviation \n",
        "  # plt.axhline(y = uhl - stddev/2, color = 'yellow') ##Varying the threshold by subtracting standard deviation\n",
        "  # plt.scatter(x, y, label= \"stars\", color= \"red\",\n",
        "              # marker= \".\", s=30)\n",
        "  plt.plot(x, y)\n",
        "\n",
        "  plt.xlabel('Batch number')\n",
        "  plt.ylabel('Hellinger Distance')\n",
        "  plt.title(title)\n",
        "  plt.show()"
      ],
      "metadata": {
        "id": "_LbNrZ-2XRbp"
      },
      "execution_count": null,
      "outputs": []
    },
    {
      "cell_type": "code",
      "source": [
        "mean_lr, stddev_lr = uhl(hellinger_dist_lr)\n",
        "mean_rf, stddev_rf = uhl(hellinger_dist_rf)\n",
        "# mean_svm, stddev_svm = uhl(hellinger_dist_svm) \n",
        "mean_knn, stddev_knn = uhl(hellinger_dist_knn)\n",
        "mean_nb, stddev_nb = uhl(hellinger_dist_nb)"
      ],
      "metadata": {
        "id": "mknXpmnSzqcS"
      },
      "execution_count": null,
      "outputs": []
    },
    {
      "cell_type": "code",
      "source": [
        "##Returns list of labels for all the frames\n",
        "## 1 : attack, 0: normal\n",
        "##input : hellinger_dis = list of the calculated Hellinger distances\n",
        "##        mean = (mu) mean of the Hellinger distances \n",
        "##        stddev = standard deviation of the Hellinger distances\n",
        "##        i = i for different cases {-1, 0, 1}\n",
        "\n",
        "def list_of_labels(hellinger_dis, mean, stddev, i):\n",
        "  uhl = mean + i * stddev/2\n",
        "  l = []\n",
        "  for i in range(0, len(hellinger_dis)):\n",
        "    if hellinger_dis[i] <= uhl:\n",
        "      l.append(0)\n",
        "    else:\n",
        "      l.append(1)\n",
        "\n",
        "  return l"
      ],
      "metadata": {
        "id": "j11jECnK0iok"
      },
      "execution_count": null,
      "outputs": []
    },
    {
      "cell_type": "code",
      "source": [
        "test_list_lr =  list_of_labels(hellinger_dist_lr, mean_lr, stddev_lr, 0)\n",
        "test_list_nb = list_of_labels(hellinger_dist_nb, mean_nb, stddev_nb, 0)\n",
        "# test_list_svm = list_of_labels(hellinger_dist_svm, mean_svm, stddev_svm, 0)\n",
        "test_list_knn = list_of_labels(hellinger_dist_knn, mean_knn, stddev_knn, 0)\n",
        "test_list_rf = list_of_labels(hellinger_dist_rf, mean_rf, stddev_rf, 0)"
      ],
      "metadata": {
        "id": "6qgcAXum0_bX"
      },
      "execution_count": null,
      "outputs": []
    },
    {
      "cell_type": "code",
      "source": [
        "real = []\n",
        "for i in range(testsize, len_df):\n",
        "  if 1 in df_arr[i]['attack'].values:\n",
        "    real.append(1)\n",
        "  else:\n",
        "    real.append(0)"
      ],
      "metadata": {
        "id": "Ur3f90Cl25yS"
      },
      "execution_count": null,
      "outputs": []
    },
    {
      "cell_type": "code",
      "source": [
        "##Function to return the metrics\n",
        "## tp : True Positive\n",
        "## tn : True Negative\n",
        "## fp : False Positive\n",
        "## fn : False Negative\n",
        "\n",
        "def give_metrics(real, predicted):\n",
        "  tp, tn, fp, fn = 0, 0, 0, 0\n",
        "  for i in range(0, len(predicted)):\n",
        "    if(real[i] == 1 and real[i] == predicted[i]):\n",
        "      tp+=1\n",
        "\n",
        "    elif real[i] == 1 and predicted[i] == 0:\n",
        "      fn+=1\n",
        "\n",
        "    elif real[i] == 0 and predicted[i] == 1:\n",
        "      fp+=1\n",
        "\n",
        "    else:\n",
        "      tn+=1\n",
        "\n",
        "  return tp, tn, fp, fn\n"
      ],
      "metadata": {
        "id": "ANV0gwiA3JD0"
      },
      "execution_count": null,
      "outputs": []
    },
    {
      "cell_type": "code",
      "source": [
        "##Function to calculate the evaluation metrics \n",
        "## Precision, Recall, Accuracy, F1 score\n",
        "\n",
        "def checker(tp, tn, fp, fn):\n",
        "  precision, recall, accuracy, f1 = 0, 0, 0, 0\n",
        "  precision = tp/(tp+fp)\n",
        "  recall = tp/(tp+fn)\n",
        "  accuracy = (tp+tn)/(tp+tn+fp+fn)\n",
        "  f1 = (2*precision*recall)/(precision+recall)\n",
        "\n",
        "  dic = {\"precision\" : precision, \"recall\" : recall, \"accuracy\" : accuracy, \"f1_score\" : f1}\n",
        "\n",
        "  # print(precision,\" \", recall,\" \", accuracy,\" \", f1)\n",
        "  return dic"
      ],
      "metadata": {
        "id": "TR3JfTrv3SWB"
      },
      "execution_count": null,
      "outputs": []
    },
    {
      "cell_type": "code",
      "source": [
        "test_lists = [test_list_lr, test_list_nb, test_list_knn,test_list_rf]  #TODO: SVM"
      ],
      "metadata": {
        "id": "Tj515kfr3U-_"
      },
      "execution_count": null,
      "outputs": []
    },
    {
      "cell_type": "code",
      "source": [
        "# Case 1: Threshold Values\n",
        "print(\"LR: \",mean_lr)\n",
        "print(\"KNN: \",mean_knn)\n",
        "print(\"NB: \",mean_nb)\n",
        "# print(\"SVM: \",mean_svm)\n",
        "print(\"RF: \",mean_rf)"
      ],
      "metadata": {
        "colab": {
          "base_uri": "https://localhost:8080/"
        },
        "id": "0PM2V8nO3mCp",
        "outputId": "c6315168-642e-41ad-f477-6b0eb37881a2"
      },
      "execution_count": null,
      "outputs": [
        {
          "output_type": "stream",
          "name": "stdout",
          "text": [
            "LR:  0.3747540714537719\n",
            "KNN:  0.465185353766719\n",
            "NB:  0.31789081576713646\n",
            "RF:  0.46806864038904855\n"
          ]
        }
      ]
    },
    {
      "cell_type": "code",
      "source": [
        "plot(hellinger_dist_lr, mean_lr, stddev_lr, 0, \"using Logistic Regression\")"
      ],
      "metadata": {
        "colab": {
          "base_uri": "https://localhost:8080/",
          "height": 295
        },
        "id": "TMJSK8ra3bAt",
        "outputId": "0d8cead6-fe02-46ae-cde0-460264503f6b"
      },
      "execution_count": null,
      "outputs": [
        {
          "output_type": "display_data",
          "data": {
            "text/plain": [
              "<Figure size 432x288 with 1 Axes>"
            ],
            "image/png": "[encoded data removed]"
          },
          "metadata": {
            "needs_background": "light"
          }
        }
      ]
    },
    {
      "cell_type": "code",
      "source": [
        "plot(hellinger_dist_knn, mean_knn, stddev_knn, 0, \"using KNN\")"
      ],
      "metadata": {
        "colab": {
          "base_uri": "https://localhost:8080/",
          "height": 295
        },
        "id": "-bPhk_h_3jap",
        "outputId": "bad2480b-3efa-4400-c43f-57064b17b394"
      },
      "execution_count": null,
      "outputs": [
        {
          "output_type": "display_data",
          "data": {
            "text/plain": [
              "<Figure size 432x288 with 1 Axes>"
            ],
            "image/png": "[encoded data removed]"
          },
          "metadata": {
            "needs_background": "light"
          }
        }
      ]
    },
    {
      "cell_type": "code",
      "source": [
        "plot(hellinger_dist_nb, mean_nb, stddev_nb, 0, \"using Naive Bayes\")"
      ],
      "metadata": {
        "colab": {
          "base_uri": "https://localhost:8080/",
          "height": 295
        },
        "id": "oNmiSjOw38ny",
        "outputId": "3cf28b04-5092-4443-f03a-9e0e5e1f2c8f"
      },
      "execution_count": null,
      "outputs": [
        {
          "output_type": "display_data",
          "data": {
            "text/plain": [
              "<Figure size 432x288 with 1 Axes>"
            ],
            "image/png": "[encoded data removed]"
          },
          "metadata": {
            "needs_background": "light"
          }
        }
      ]
    },
    {
      "cell_type": "code",
      "source": [
        "plot(hellinger_dist_rf, mean_rf, stddev_rf, 0, \"using RF\")"
      ],
      "metadata": {
        "colab": {
          "base_uri": "https://localhost:8080/",
          "height": 295
        },
        "id": "9U7YTxvP4FlH",
        "outputId": "efeb49f7-bfac-49b6-db67-d4ad15f14f15"
      },
      "execution_count": null,
      "outputs": [
        {
          "output_type": "display_data",
          "data": {
            "text/plain": [
              "<Figure size 432x288 with 1 Axes>"
            ],
            "image/png": "[encoded data removed]"
          },
          "metadata": {
            "needs_background": "light"
          }
        }
      ]
    },
    {
      "cell_type": "code",
      "source": [
        "# plot(hellinger_dist_svm, mean_svm, stddev_svm, 0, \"using SVM\")"
      ],
      "metadata": {
        "id": "zpmhzPGs4ZKy"
      },
      "execution_count": null,
      "outputs": []
    },
    {
      "cell_type": "code",
      "source": [
        "##Function to return evaluation metrics for all the four algorithms in sequence : Logistic Regression, Naive Bayes, SVM, k Nearest Neighbor\n",
        "## Returns a list of dictionary with precision, recall, accuracy and f1 score of all the algorithms\n",
        "def total_metrics(test_lists):\n",
        "  l = []\n",
        "\n",
        "  for i in range(len(test_lists)):\n",
        "    tp, tn, fp, fn = give_metrics(real, test_lists[i])\n",
        "    temp = checker(tp, tn, fp, fn)\n",
        "    l.append(temp)\n",
        "  \n",
        "  return l"
      ],
      "metadata": {
        "id": "RaPo5Dkn4e4X"
      },
      "execution_count": null,
      "outputs": []
    },
    {
      "cell_type": "code",
      "source": [
        "metrics_case_1 = total_metrics(test_lists) ##0 : logistic regression, 1 : naive bayes, 2 : k nearest neighbors, 3: RF\n",
        "for dic in metrics_case_1:\n",
        "  print(dic)"
      ],
      "metadata": {
        "colab": {
          "base_uri": "https://localhost:8080/"
        },
        "id": "IJVFYTFe4iys",
        "outputId": "7b413a4d-5826-4858-fd8f-c86a6d6d1d10"
      },
      "execution_count": null,
      "outputs": [
        {
          "output_type": "stream",
          "name": "stdout",
          "text": [
            "{'precision': 1.0, 'recall': 0.4583333333333333, 'accuracy': 0.4583333333333333, 'f1_score': 0.6285714285714286}\n",
            "{'precision': 1.0, 'recall': 0.375, 'accuracy': 0.375, 'f1_score': 0.5454545454545454}\n",
            "{'precision': 1.0, 'recall': 0.5833333333333334, 'accuracy': 0.5833333333333334, 'f1_score': 0.7368421052631579}\n",
            "{'precision': 1.0, 'recall': 0.5416666666666666, 'accuracy': 0.5416666666666666, 'f1_score': 0.7027027027027027}\n"
          ]
        }
      ]
    },
    {
      "cell_type": "markdown",
      "source": [
        "Case 2: UL = mean + stddev/2"
      ],
      "metadata": {
        "id": "A9fZSgcL8BrO"
      }
    },
    {
      "cell_type": "code",
      "source": [
        "test_list_lr =  list_of_labels(hellinger_dist_lr, mean_lr, stddev_lr, 1)\n",
        "test_list_nb = list_of_labels(hellinger_dist_nb, mean_nb, stddev_nb, 1)\n",
        "# test_list_svm = list_of_labels(hellinger_dist_svm, mean_svm, stddev_svm, 1)\n",
        "test_list_knn = list_of_labels(hellinger_dist_knn, mean_knn, stddev_knn,1)\n",
        "test_list_rf = list_of_labels(hellinger_dist_rf, mean_rf, stddev_rf, 1)"
      ],
      "metadata": {
        "id": "Sm0SpKG440s1"
      },
      "execution_count": null,
      "outputs": []
    },
    {
      "cell_type": "code",
      "source": [
        "test_lists = [test_list_lr, test_list_nb, test_list_knn,test_list_rf]  #TODO: SVM"
      ],
      "metadata": {
        "id": "pEsP2CIf8NnH"
      },
      "execution_count": null,
      "outputs": []
    },
    {
      "cell_type": "code",
      "source": [
        "# Case 2: Threshold Values\n",
        "print(\"LR: \",mean_lr + stddev_lr/2)\n",
        "print(\"KNN: \",mean_knn + stddev_knn/2)\n",
        "print(\"NB: \",mean_nb + stddev_nb/2)\n",
        "# print(\"SVM: \",mean_svm + stddev_svm/2)\n",
        "print(\"RF: \",mean_rf + stddev_rf/2)"
      ],
      "metadata": {
        "colab": {
          "base_uri": "https://localhost:8080/"
        },
        "id": "lRHRqT178bFS",
        "outputId": "bf2b46ee-e621-4d61-d28f-920626a6b0dc"
      },
      "execution_count": null,
      "outputs": [
        {
          "output_type": "stream",
          "name": "stdout",
          "text": [
            "LR:  0.38506431929994184\n",
            "KNN:  0.46900669344535223\n",
            "NB:  0.32908483714370723\n",
            "RF:  0.47254801749929587\n"
          ]
        }
      ]
    },
    {
      "cell_type": "code",
      "source": [
        "plot(hellinger_dist_lr, mean_lr, stddev_lr, 1, \"using Logistic Regression\")"
      ],
      "metadata": {
        "colab": {
          "base_uri": "https://localhost:8080/",
          "height": 295
        },
        "id": "xpjDEVDX8Rtt",
        "outputId": "59df74dd-788a-4cf9-bfde-4d747e082302"
      },
      "execution_count": null,
      "outputs": [
        {
          "output_type": "display_data",
          "data": {
            "text/plain": [
              "<Figure size 432x288 with 1 Axes>"
            ],
            "image/png": "[encoded data removed]"
          },
          "metadata": {
            "needs_background": "light"
          }
        }
      ]
    },
    {
      "cell_type": "code",
      "source": [
        "plot(hellinger_dist_knn, mean_knn, stddev_knn, 1, \"using KNN\")"
      ],
      "metadata": {
        "colab": {
          "base_uri": "https://localhost:8080/",
          "height": 295
        },
        "id": "vUlpuYyb8XUK",
        "outputId": "19c405de-cd14-4eda-c113-25fb6d8b820a"
      },
      "execution_count": null,
      "outputs": [
        {
          "output_type": "display_data",
          "data": {
            "text/plain": [
              "<Figure size 432x288 with 1 Axes>"
            ],
            "image/png": "[encoded data removed]"
          },
          "metadata": {
            "needs_background": "light"
          }
        }
      ]
    },
    {
      "cell_type": "code",
      "source": [
        "plot(hellinger_dist_nb, mean_nb, stddev_nb, 1, \"using Naive Bayes\")"
      ],
      "metadata": {
        "colab": {
          "base_uri": "https://localhost:8080/",
          "height": 295
        },
        "id": "WTVu-1368xNv",
        "outputId": "89acf21b-d8f3-47cf-d93c-6d53ec7c7345"
      },
      "execution_count": null,
      "outputs": [
        {
          "output_type": "display_data",
          "data": {
            "text/plain": [
              "<Figure size 432x288 with 1 Axes>"
            ],
            "image/png": "[encoded data removed]"
          },
          "metadata": {
            "needs_background": "light"
          }
        }
      ]
    },
    {
      "cell_type": "code",
      "source": [
        "plot(hellinger_dist_rf, mean_rf, stddev_rf, 1, \"using RF\")"
      ],
      "metadata": {
        "colab": {
          "base_uri": "https://localhost:8080/",
          "height": 295
        },
        "id": "E0CI_7qa804s",
        "outputId": "a0c9fa94-aede-4641-8919-f11349663575"
      },
      "execution_count": null,
      "outputs": [
        {
          "output_type": "display_data",
          "data": {
            "text/plain": [
              "<Figure size 432x288 with 1 Axes>"
            ],
            "image/png": "[encoded data removed]"
          },
          "metadata": {
            "needs_background": "light"
          }
        }
      ]
    },
    {
      "cell_type": "code",
      "source": [
        "# plot(hellinger_dist_svm, mean_svm, stddev_svm, 1, \"using SVM\")"
      ],
      "metadata": {
        "id": "rv0cZY7u83VJ"
      },
      "execution_count": null,
      "outputs": []
    },
    {
      "cell_type": "code",
      "source": [
        "metrics_case_2 = total_metrics(test_lists) ##0 : logistic regression, 1 : naive bayes, 2 : k nearest neighbors, 3: RF\n",
        "for dic in metrics_case_2:\n",
        "  print(dic)"
      ],
      "metadata": {
        "colab": {
          "base_uri": "https://localhost:8080/"
        },
        "id": "vn3EL_Ah86uY",
        "outputId": "e00f5068-86fc-42c1-d980-6ab5eb1a7a21"
      },
      "execution_count": null,
      "outputs": [
        {
          "output_type": "stream",
          "name": "stdout",
          "text": [
            "{'precision': 1.0, 'recall': 0.3333333333333333, 'accuracy': 0.3333333333333333, 'f1_score': 0.5}\n",
            "{'precision': 1.0, 'recall': 0.125, 'accuracy': 0.125, 'f1_score': 0.2222222222222222}\n",
            "{'precision': 1.0, 'recall': 0.2916666666666667, 'accuracy': 0.2916666666666667, 'f1_score': 0.45161290322580644}\n",
            "{'precision': 1.0, 'recall': 0.4583333333333333, 'accuracy': 0.4583333333333333, 'f1_score': 0.6285714285714286}\n"
          ]
        }
      ]
    },
    {
      "cell_type": "markdown",
      "source": [
        "Case 3: UL = mean - stddev/2"
      ],
      "metadata": {
        "id": "3m5i4NlV9Zk7"
      }
    },
    {
      "cell_type": "code",
      "source": [
        "test_list_lr =  list_of_labels(hellinger_dist_lr, mean_lr, stddev_lr, -1)\n",
        "test_list_nb = list_of_labels(hellinger_dist_nb, mean_nb, stddev_nb, -1)\n",
        "# test_list_svm = list_of_labels(hellinger_dist_svm, mean_svm, stddev_svm, -1)\n",
        "test_list_knn = list_of_labels(hellinger_dist_knn, mean_knn, stddev_knn,-1)\n",
        "test_list_rf = list_of_labels(hellinger_dist_rf, mean_rf, stddev_rf, -1)"
      ],
      "metadata": {
        "id": "tO4RD5o-9Tni"
      },
      "execution_count": null,
      "outputs": []
    },
    {
      "cell_type": "code",
      "source": [
        "test_lists = [test_list_lr, test_list_nb, test_list_knn,test_list_rf]  #TODO: SVM"
      ],
      "metadata": {
        "id": "wnEbNBXo9ldj"
      },
      "execution_count": null,
      "outputs": []
    },
    {
      "cell_type": "code",
      "source": [
        "# Case 3: Threshold Values\n",
        "print(\"LR: \",mean_lr - stddev_lr/2)\n",
        "print(\"KNN: \",mean_knn - stddev_knn/2)\n",
        "print(\"NB: \",mean_nb - stddev_nb/2)\n",
        "# print(\"SVM: \",mean_svm - stddev_svm/2)\n",
        "print(\"RF: \",mean_rf - stddev_rf/2)"
      ],
      "metadata": {
        "colab": {
          "base_uri": "https://localhost:8080/"
        },
        "id": "2qqWqVgK9oXi",
        "outputId": "4b5acdf9-8527-4858-e450-265cb4fee457"
      },
      "execution_count": null,
      "outputs": [
        {
          "output_type": "stream",
          "name": "stdout",
          "text": [
            "LR:  0.3644438236076019\n",
            "KNN:  0.46136401408808575\n",
            "NB:  0.3066967943905657\n",
            "RF:  0.46358926327880123\n"
          ]
        }
      ]
    },
    {
      "cell_type": "code",
      "source": [
        "plot(hellinger_dist_lr, mean_lr, stddev_lr, -1, \"using Logistic Regression\")"
      ],
      "metadata": {
        "colab": {
          "base_uri": "https://localhost:8080/",
          "height": 295
        },
        "id": "0mExu3669tj7",
        "outputId": "60d5bf78-4bd7-4a5c-a49e-9f35771833e7"
      },
      "execution_count": null,
      "outputs": [
        {
          "output_type": "display_data",
          "data": {
            "text/plain": [
              "<Figure size 432x288 with 1 Axes>"
            ],
            "image/png": "[encoded data removed]"
          },
          "metadata": {
            "needs_background": "light"
          }
        }
      ]
    },
    {
      "cell_type": "code",
      "source": [
        "plot(hellinger_dist_knn, mean_knn, stddev_knn, -1, \"using KNN\")"
      ],
      "metadata": {
        "colab": {
          "base_uri": "https://localhost:8080/",
          "height": 295
        },
        "id": "WsE_-sTq9zfu",
        "outputId": "bd1e28ba-701f-44c5-97dd-cc5f005b24e9"
      },
      "execution_count": null,
      "outputs": [
        {
          "output_type": "display_data",
          "data": {
            "text/plain": [
              "<Figure size 432x288 with 1 Axes>"
            ],
            "image/png": "[encoded data removed]"
          },
          "metadata": {
            "needs_background": "light"
          }
        }
      ]
    },
    {
      "cell_type": "code",
      "source": [
        "plot(hellinger_dist_nb, mean_nb, stddev_nb, -1, \"using Naive Bayes\")"
      ],
      "metadata": {
        "colab": {
          "base_uri": "https://localhost:8080/",
          "height": 295
        },
        "id": "C0KYjrzU940L",
        "outputId": "8ea7b5f4-fb4e-4055-f1ec-99121a6cfc27"
      },
      "execution_count": null,
      "outputs": [
        {
          "output_type": "display_data",
          "data": {
            "text/plain": [
              "<Figure size 432x288 with 1 Axes>"
            ],
            "image/png": "[encoded data removed]"
          },
          "metadata": {
            "needs_background": "light"
          }
        }
      ]
    },
    {
      "cell_type": "code",
      "source": [
        "plot(hellinger_dist_rf, mean_rf, stddev_rf, -1, \"using RF\")"
      ],
      "metadata": {
        "colab": {
          "base_uri": "https://localhost:8080/",
          "height": 295
        },
        "id": "8CNQXFZk97t6",
        "outputId": "ffd94ad0-f489-4666-e76a-e3501f40cdbd"
      },
      "execution_count": null,
      "outputs": [
        {
          "output_type": "display_data",
          "data": {
            "text/plain": [
              "<Figure size 432x288 with 1 Axes>"
            ],
            "image/png": "[encoded data removed]"
          },
          "metadata": {
            "needs_background": "light"
          }
        }
      ]
    },
    {
      "cell_type": "code",
      "source": [
        "# plot(hellinger_dist_svm, mean_svm, stddev_svm, -1, \"using SVM\")"
      ],
      "metadata": {
        "id": "1_f1I46X9_SL"
      },
      "execution_count": null,
      "outputs": []
    },
    {
      "cell_type": "code",
      "source": [
        "metrics_case_3 = total_metrics(test_lists) ##0 : logistic regression, 1 : naive bayes, 2 : k nearest neighbors, 3: RF\n",
        "for dic in metrics_case_3:\n",
        "  print(dic)"
      ],
      "metadata": {
        "colab": {
          "base_uri": "https://localhost:8080/"
        },
        "id": "wqXTy9E0-EgE",
        "outputId": "9d849843-2932-4d1f-c203-c07eb3889f82"
      },
      "execution_count": null,
      "outputs": [
        {
          "output_type": "stream",
          "name": "stdout",
          "text": [
            "{'precision': 1.0, 'recall': 0.5833333333333334, 'accuracy': 0.5833333333333334, 'f1_score': 0.7368421052631579}\n",
            "{'precision': 1.0, 'recall': 0.7083333333333334, 'accuracy': 0.7083333333333334, 'f1_score': 0.8292682926829268}\n",
            "{'precision': 1.0, 'recall': 0.75, 'accuracy': 0.75, 'f1_score': 0.8571428571428571}\n",
            "{'precision': 1.0, 'recall': 0.75, 'accuracy': 0.75, 'f1_score': 0.8571428571428571}\n"
          ]
        }
      ]
    },
    {
      "cell_type": "code",
      "source": [
        ""
      ],
      "metadata": {
        "id": "PJM3vsRh-MY_"
      },
      "execution_count": null,
      "outputs": []
    }
  ],
  "metadata": {
    "colab": {
      "collapsed_sections": [],
      "name": "NIDS-NSLKDD.ipynb",
      "provenance": []
    },
    "kernelspec": {
      "display_name": "Python 3 (ipykernel)",
      "language": "python",
      "name": "python3"
    },
    "language_info": {
      "codemirror_mode": {
        "name": "ipython",
        "version": 3
      },
      "file_extension": ".py",
      "mimetype": "text/x-python",
      "name": "python",
      "nbconvert_exporter": "python",
      "pygments_lexer": "ipython3",
      "version": "3.10.0"
    }
  },
  "nbformat": 4,
  "nbformat_minor": 0
}